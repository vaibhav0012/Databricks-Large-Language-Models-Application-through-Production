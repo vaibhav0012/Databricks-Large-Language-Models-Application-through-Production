{
 "cells": [
  {
   "cell_type": "markdown",
   "metadata": {
    "application/vnd.databricks.v1+cell": {
     "cellMetadata": {},
     "inputWidgets": {},
     "nuid": "ca6767fd-5027-4c9d-91f6-c9a310dc29c0",
     "showTitle": false,
     "title": ""
    }
   },
   "source": [
    "\n",
    "<div style=\"text-align: center; line-height: 0; padding-top: 9px;\">\n",
    "  <img src=\"https://databricks.com/wp-content/uploads/2018/03/db-academy-rgb-1200px.png\" alt=\"Databricks Learning\" style=\"width: 600px\">\n",
    "</div>"
   ]
  },
  {
   "cell_type": "markdown",
   "metadata": {
    "application/vnd.databricks.v1+cell": {
     "cellMetadata": {},
     "inputWidgets": {},
     "nuid": "f284fa8b-9a3a-414d-a3fe-2089c745b9c8",
     "showTitle": false,
     "title": ""
    }
   },
   "source": [
    "\n",
    "# 04L - Fine-tuning LLMs\n",
    "In this lab, we will apply the fine-tuning learnings from the demo Notebook. The aim of this lab is to fine-tune an instruction-following LLM.\n",
    "\n",
    "### ![Dolly](https://files.training.databricks.com/images/llm/dolly_small.png) Learning Objectives\n",
    "1. Prepare a novel dataset\n",
    "1. Fine-tune the T5-small model to classify movie reviews.\n",
    "1. Leverage DeepSpeed to enhance training process."
   ]
  },
  {
   "cell_type": "code",
   "execution_count": 0,
   "metadata": {
    "application/vnd.databricks.v1+cell": {
     "cellMetadata": {
      "byteLimit": 2048000,
      "rowLimit": 10000
     },
     "inputWidgets": {},
     "nuid": "964d8bdd-0ef9-4325-9edc-4df7f2d96343",
     "showTitle": false,
     "title": ""
    }
   },
   "outputs": [],
   "source": [
    "assert \"gpu\" in spark.conf.get(\"spark.databricks.clusterUsageTags.sparkVersion\"), \"THIS LAB REQUIRES THAT A GPU MACHINE AND RUNTIME IS UTILIZED.\""
   ]
  },
  {
   "cell_type": "markdown",
   "metadata": {
    "application/vnd.databricks.v1+cell": {
     "cellMetadata": {},
     "inputWidgets": {},
     "nuid": "aded9ad6-81d5-447b-8797-c04fa2deea23",
     "showTitle": false,
     "title": ""
    }
   },
   "source": [
    "\n",
    "## Classroom Setup"
   ]
  },
  {
   "cell_type": "code",
   "execution_count": 0,
   "metadata": {
    "application/vnd.databricks.v1+cell": {
     "cellMetadata": {
      "byteLimit": 2048000,
      "rowLimit": 10000
     },
     "inputWidgets": {},
     "nuid": "c4a81f05-3cb9-4b4a-9659-0adeb8a4cfa3",
     "showTitle": false,
     "title": ""
    }
   },
   "outputs": [
    {
     "output_type": "stream",
     "name": "stdout",
     "output_type": "stream",
     "text": [
      "\u001B[43mNote: you may need to restart the kernel using dbutils.library.restartPython() to use updated packages.\u001B[0m\nCollecting rouge_score==0.1.2\n  Downloading rouge_score-0.1.2.tar.gz (17 kB)\n  Preparing metadata (setup.py): started\n  Preparing metadata (setup.py): finished with status 'done'\nRequirement already satisfied: absl-py in /databricks/python3/lib/python3.10/site-packages (from rouge_score==0.1.2) (1.0.0)\nRequirement already satisfied: nltk in /databricks/python3/lib/python3.10/site-packages (from rouge_score==0.1.2) (3.7)\nRequirement already satisfied: numpy in /databricks/python3/lib/python3.10/site-packages (from rouge_score==0.1.2) (1.21.5)\nRequirement already satisfied: six>=1.14.0 in /usr/lib/python3/dist-packages (from rouge_score==0.1.2) (1.16.0)\nRequirement already satisfied: joblib in /databricks/python3/lib/python3.10/site-packages (from nltk->rouge_score==0.1.2) (1.2.0)\nRequirement already satisfied: click in /databricks/python3/lib/python3.10/site-packages (from nltk->rouge_score==0.1.2) (8.0.4)\nRequirement already satisfied: regex>=2021.8.3 in /databricks/python3/lib/python3.10/site-packages (from nltk->rouge_score==0.1.2) (2022.7.9)\nRequirement already satisfied: tqdm in /databricks/python3/lib/python3.10/site-packages (from nltk->rouge_score==0.1.2) (4.64.1)\nBuilding wheels for collected packages: rouge_score\n  Building wheel for rouge_score (setup.py): started\n  Building wheel for rouge_score (setup.py): finished with status 'done'\n  Created wheel for rouge_score: filename=rouge_score-0.1.2-py3-none-any.whl size=24936 sha256=1938bf449ea0b614061166307dcc73b5c94ea6a978d3373ba9abf5736c6493b2\n  Stored in directory: /root/.cache/pip/wheels/5f/dd/89/461065a73be61a532ff8599a28e9beef17985c9e9c31e541b4\nSuccessfully built rouge_score\nInstalling collected packages: rouge_score\nSuccessfully installed rouge_score-0.1.2\n\u001B[43mNote: you may need to restart the kernel using dbutils.library.restartPython() to use updated packages.\u001B[0m\n"
     ]
    }
   ],
   "source": [
    "%pip install rouge_score==0.1.2"
   ]
  },
  {
   "cell_type": "code",
   "execution_count": 0,
   "metadata": {
    "application/vnd.databricks.v1+cell": {
     "cellMetadata": {
      "byteLimit": 2048000,
      "rowLimit": 10000
     },
     "inputWidgets": {},
     "nuid": "774f28bd-cf05-4901-8f0a-c149ccdc2e3e",
     "showTitle": false,
     "title": ""
    }
   },
   "outputs": [
    {
     "output_type": "stream",
     "name": "stdout",
     "output_type": "stream",
     "text": [
      "\u001B[43mNote: you may need to restart the kernel using dbutils.library.restartPython() to use updated packages.\u001B[0m\n\u001B[43mNote: you may need to restart the kernel using dbutils.library.restartPython() to use updated packages.\u001B[0m\n"
     ]
    },
    {
     "output_type": "stream",
     "name": "stdout",
     "output_type": "stream",
     "text": [
      "Resetting the learning environment:\n| Enumerating serving endpoints...found 7...(0 seconds)\n| No action taken\n\nSkipping download of existing archive to \"dbfs:/mnt/dbacademy-datasets/large-language-models/v03\" \n| Validating local assets:\n| | Listing local files...(0 seconds)\n| | Validation completed...(0 seconds total)\n|\n| Skipping the unpacking of datasets to \"dbfs:/mnt/dbacademy-users/labuser6085540@vocareum.com/large-language-models/datasets\" \n|\n| Dataset installation completed (0 seconds)\n\n"
     ]
    },
    {
     "output_type": "stream",
     "name": "stdout",
     "output_type": "stream",
     "text": [
      "Importing lab testing framework.\n"
     ]
    },
    {
     "output_type": "stream",
     "name": "stdout",
     "output_type": "stream",
     "text": [
      "\nUsing the \"default\" schema.\n\nPredefined paths variables:\n| DA.paths.working_dir: /dbfs/mnt/dbacademy-users/labuser6085540@vocareum.com/large-language-models/working\n| DA.paths.user_db:     /dbfs/mnt/dbacademy-users/labuser6085540@vocareum.com/large-language-models/working/database.db\n| DA.paths.datasets:    /dbfs/mnt/dbacademy-users/labuser6085540@vocareum.com/large-language-models/datasets\n\nSetup completed (7 seconds)\n\nThe models developed or used in this course are for demonstration and learning purposes only.\nModels may occasionally output offensive, inaccurate, biased information, or harmful instructions.\n"
     ]
    }
   ],
   "source": [
    "%run ../Includes/Classroom-Setup"
   ]
  },
  {
   "cell_type": "code",
   "execution_count": 0,
   "metadata": {
    "application/vnd.databricks.v1+cell": {
     "cellMetadata": {
      "byteLimit": 2048000,
      "rowLimit": 10000
     },
     "inputWidgets": {},
     "nuid": "d5d66ff7-a81d-4246-98f9-c74ef9ac99a4",
     "showTitle": false,
     "title": ""
    }
   },
   "outputs": [
    {
     "output_type": "stream",
     "name": "stdout",
     "output_type": "stream",
     "text": [
      "Username:          labuser6085540@vocareum.com\nWorking Directory: /dbfs/mnt/dbacademy-users/labuser6085540@vocareum.com/large-language-models/working\n"
     ]
    }
   ],
   "source": [
    "print(f\"Username:          {DA.username}\")\n",
    "print(f\"Working Directory: {DA.paths.working_dir}\")"
   ]
  },
  {
   "cell_type": "code",
   "execution_count": 0,
   "metadata": {
    "application/vnd.databricks.v1+cell": {
     "cellMetadata": {
      "byteLimit": 2048000,
      "rowLimit": 10000
     },
     "inputWidgets": {},
     "nuid": "0f867c41-0f18-40fe-be1b-ddd645971828",
     "showTitle": false,
     "title": ""
    }
   },
   "outputs": [],
   "source": [
    "%load_ext autoreload\n",
    "%autoreload 2"
   ]
  },
  {
   "cell_type": "markdown",
   "metadata": {
    "application/vnd.databricks.v1+cell": {
     "cellMetadata": {},
     "inputWidgets": {},
     "nuid": "579140b8-27dc-4966-baf7-a401e2b0d8e2",
     "showTitle": false,
     "title": ""
    }
   },
   "source": [
    "Creating a local temporary directory on the Driver. This will serve as a root directory for the intermediate model checkpoints created during the training process. The final model will be persisted to DBFS."
   ]
  },
  {
   "cell_type": "code",
   "execution_count": 0,
   "metadata": {
    "application/vnd.databricks.v1+cell": {
     "cellMetadata": {
      "byteLimit": 2048000,
      "rowLimit": 10000
     },
     "inputWidgets": {},
     "nuid": "f198abca-77b9-411f-8e80-23c511cf349d",
     "showTitle": false,
     "title": ""
    }
   },
   "outputs": [],
   "source": [
    "import tempfile\n",
    "\n",
    "tmpdir = tempfile.TemporaryDirectory()\n",
    "local_training_root = tmpdir.name"
   ]
  },
  {
   "cell_type": "markdown",
   "metadata": {
    "application/vnd.databricks.v1+cell": {
     "cellMetadata": {},
     "inputWidgets": {},
     "nuid": "e0aaae46-df70-4a19-a13c-f274f613d766",
     "showTitle": false,
     "title": ""
    }
   },
   "source": [
    "## Fine-Tuning"
   ]
  },
  {
   "cell_type": "code",
   "execution_count": 0,
   "metadata": {
    "application/vnd.databricks.v1+cell": {
     "cellMetadata": {
      "byteLimit": 2048000,
      "rowLimit": 10000
     },
     "inputWidgets": {},
     "nuid": "c909938e-a51a-414f-acac-4b50072f3280",
     "showTitle": false,
     "title": ""
    }
   },
   "outputs": [],
   "source": [
    "import os\n",
    "import pandas as pd\n",
    "from datasets import load_dataset\n",
    "from transformers import (\n",
    "    TrainingArguments,\n",
    "    AutoTokenizer,\n",
    "    AutoConfig,\n",
    "    Trainer,\n",
    "    AutoModelForCausalLM,\n",
    "    DataCollatorForLanguageModeling,\n",
    ")\n",
    "\n",
    "import evaluate\n",
    "import nltk\n",
    "from nltk.tokenize import sent_tokenize"
   ]
  },
  {
   "cell_type": "markdown",
   "metadata": {
    "application/vnd.databricks.v1+cell": {
     "cellMetadata": {},
     "inputWidgets": {},
     "nuid": "8124e721-c20b-4133-8617-bd134a7e19eb",
     "showTitle": false,
     "title": ""
    }
   },
   "source": [
    "### Question 1: Data Preparation\n",
    "For the instruction-following use cases we need a dataset that consists of prompt/response pairs along with any contextual information that can be used as input when training the model. The [databricks/databricks-dolly-15k](https://huggingface.co/datasets/databricks/databricks-dolly-15k) is one such dataset that provides high-quality, human-generated prompt/response pairs. \n",
    "\n",
    "Let's start by loading this dataset using the `load_dataset` functionality."
   ]
  },
  {
   "cell_type": "code",
   "execution_count": 0,
   "metadata": {
    "application/vnd.databricks.v1+cell": {
     "cellMetadata": {
      "byteLimit": 2048000,
      "rowLimit": 10000
     },
     "inputWidgets": {},
     "nuid": "380c30b9-1e0a-4941-ab62-42a6c0ab6572",
     "showTitle": false,
     "title": ""
    }
   },
   "outputs": [
    {
     "output_type": "stream",
     "name": "stderr",
     "output_type": "stream",
     "text": [
      "/databricks/python_shell/dbruntime/huggingface_patches/datasets.py:27: UserWarning: This dataset can not be stored in DBFS because either `cache_dir` or the environment variable `HF_DATASETS_CACHE` is set to a non-DBFS path. If this cluster restarts, all saved dataset information will be lost.\n  warnings.warn(\n"
     ]
    },
    {
     "output_type": "display_data",
     "data": {
      "application/vnd.jupyter.widget-view+json": {
       "model_id": "e6e6cf9e1809442d99bf12cfd2ac9a66",
       "version_major": 2,
       "version_minor": 0
      },
      "text/plain": [
       "Downloading readme:   0%|          | 0.00/8.20k [00:00<?, ?B/s]"
      ]
     },
     "metadata": {},
     "output_type": "display_data"
    },
    {
     "output_type": "stream",
     "name": "stderr",
     "output_type": "stream",
     "text": [
      "/databricks/python_shell/dbruntime/huggingface_patches/datasets.py:13: UserWarning: During large dataset downloads, there could be multiple progress bar widgets that can cause performance issues for your notebook or browser. To avoid these issues, use `datasets.utils.logging.disable_progress_bar()` to turn off the progress bars.\n  warnings.warn(\n"
     ]
    },
    {
     "output_type": "stream",
     "name": "stdout",
     "output_type": "stream",
     "text": [
      "Downloading and preparing dataset json/databricks--databricks-dolly-15k to /root/.cache/huggingface/datasets/databricks___json/databricks--databricks-dolly-15k-7427aa6e57c34282/0.0.0/8bb11242116d547c741b2e8a1f18598ffdd40a1d4f2a2872c7a28b697434bc96...\n"
     ]
    },
    {
     "output_type": "display_data",
     "data": {
      "application/vnd.jupyter.widget-view+json": {
       "model_id": "f3b13a902dd14c2e87deb4172249c304",
       "version_major": 2,
       "version_minor": 0
      },
      "text/plain": [
       "Downloading data files:   0%|          | 0/1 [00:00<?, ?it/s]"
      ]
     },
     "metadata": {},
     "output_type": "display_data"
    },
    {
     "output_type": "display_data",
     "data": {
      "application/vnd.jupyter.widget-view+json": {
       "model_id": "8c90e8eb2491430b8d21f19c0802a5b5",
       "version_major": 2,
       "version_minor": 0
      },
      "text/plain": [
       "Downloading data:   0%|          | 0.00/13.1M [00:00<?, ?B/s]"
      ]
     },
     "metadata": {},
     "output_type": "display_data"
    },
    {
     "output_type": "display_data",
     "data": {
      "application/vnd.jupyter.widget-view+json": {
       "model_id": "54c2ee1e39004946b84c2c6f61f70c10",
       "version_major": 2,
       "version_minor": 0
      },
      "text/plain": [
       "Extracting data files:   0%|          | 0/1 [00:00<?, ?it/s]"
      ]
     },
     "metadata": {},
     "output_type": "display_data"
    },
    {
     "output_type": "display_data",
     "data": {
      "application/vnd.jupyter.widget-view+json": {
       "model_id": "8f37b43106024310a001e259a9e906ee",
       "version_major": 2,
       "version_minor": 0
      },
      "text/plain": [
       "Generating train split: 0 examples [00:00, ? examples/s]"
      ]
     },
     "metadata": {},
     "output_type": "display_data"
    },
    {
     "output_type": "stream",
     "name": "stdout",
     "output_type": "stream",
     "text": [
      "Dataset json downloaded and prepared to /root/.cache/huggingface/datasets/databricks___json/databricks--databricks-dolly-15k-7427aa6e57c34282/0.0.0/8bb11242116d547c741b2e8a1f18598ffdd40a1d4f2a2872c7a28b697434bc96. Subsequent calls will reuse this data.\n"
     ]
    },
    {
     "output_type": "display_data",
     "data": {
      "application/vnd.jupyter.widget-view+json": {
       "model_id": "5b27067b33e248c08d67d3ad3e6cf30a",
       "version_major": 2,
       "version_minor": 0
      },
      "text/plain": [
       "  0%|          | 0/1 [00:00<?, ?it/s]"
      ]
     },
     "metadata": {},
     "output_type": "display_data"
    }
   ],
   "source": [
    "# TODO\n",
    "ds = load_dataset(\"databricks/databricks-dolly-15k\")"
   ]
  },
  {
   "cell_type": "code",
   "execution_count": 0,
   "metadata": {
    "application/vnd.databricks.v1+cell": {
     "cellMetadata": {
      "byteLimit": 2048000,
      "rowLimit": 10000
     },
     "inputWidgets": {},
     "nuid": "16c34505-a58d-4462-9614-bc5b63054225",
     "showTitle": false,
     "title": ""
    }
   },
   "outputs": [
    {
     "output_type": "stream",
     "name": "stdout",
     "output_type": "stream",
     "text": [
      "\u001B[32mPASSED\u001B[0m: All tests passed for lesson4, question1\n\u001B[32mRESULTS RECORDED\u001B[0m: Click `Submit` when all questions are completed to log the results.\n"
     ]
    }
   ],
   "source": [
    "# Test your answer. DO NOT MODIFY THIS CELL.\n",
    "\n",
    "dbTestQuestion4_1(ds)"
   ]
  },
  {
   "cell_type": "markdown",
   "metadata": {
    "application/vnd.databricks.v1+cell": {
     "cellMetadata": {},
     "inputWidgets": {},
     "nuid": "ce73c499-3da3-4b8f-a66e-35a5011acccc",
     "showTitle": false,
     "title": ""
    }
   },
   "source": [
    "### Question 2: Select pre-trained model\n",
    "\n",
    "The model that we are going to fine-tune is [pythia-70m-deduped](https://huggingface.co/EleutherAI/pythia-70m-deduped). This model is one of a Pythia Suite of models that have been developed to support interpretability research.\n",
    "\n",
    "Let's define the pre-trained model checkpoint."
   ]
  },
  {
   "cell_type": "code",
   "execution_count": 0,
   "metadata": {
    "application/vnd.databricks.v1+cell": {
     "cellMetadata": {
      "byteLimit": 2048000,
      "rowLimit": 10000
     },
     "inputWidgets": {},
     "nuid": "e0e85eb3-9314-4452-90b9-6c70ebe99e91",
     "showTitle": false,
     "title": ""
    }
   },
   "outputs": [],
   "source": [
    "# TODO\n",
    "model_checkpoint = \"EleutherAI/pythia-70m-deduped\""
   ]
  },
  {
   "cell_type": "code",
   "execution_count": 0,
   "metadata": {
    "application/vnd.databricks.v1+cell": {
     "cellMetadata": {
      "byteLimit": 2048000,
      "rowLimit": 10000
     },
     "inputWidgets": {},
     "nuid": "d1899e5c-3a97-43fb-9d89-898cf476abdd",
     "showTitle": false,
     "title": ""
    }
   },
   "outputs": [
    {
     "output_type": "stream",
     "name": "stdout",
     "output_type": "stream",
     "text": [
      "\u001B[32mPASSED\u001B[0m: All tests passed for lesson4, question2\n\u001B[32mRESULTS RECORDED\u001B[0m: Click `Submit` when all questions are completed to log the results.\n"
     ]
    }
   ],
   "source": [
    "# Test your answer. DO NOT MODIFY THIS CELL.\n",
    "\n",
    "dbTestQuestion4_2(model_checkpoint)"
   ]
  },
  {
   "cell_type": "markdown",
   "metadata": {
    "application/vnd.databricks.v1+cell": {
     "cellMetadata": {},
     "inputWidgets": {},
     "nuid": "73350a3d-eb66-4e53-b62b-bc63ec8d89e4",
     "showTitle": false,
     "title": ""
    }
   },
   "source": [
    "### Question 3: Load and Configure\n",
    "\n",
    "The next task is to load and configure the tokenizer for this model. The instruction-following process builds a body of text that contains the instruction, context input, and response values from the dataset. The body of text also includes some special tokens to identify the sections of the text. These tokens are generally configurable, and need to be added to the tokenizer.\n",
    "\n",
    "Let's go ahead and load the tokenizer for the pre-trained model. "
   ]
  },
  {
   "cell_type": "code",
   "execution_count": 0,
   "metadata": {
    "application/vnd.databricks.v1+cell": {
     "cellMetadata": {
      "byteLimit": 2048000,
      "rowLimit": 10000
     },
     "inputWidgets": {},
     "nuid": "1fc75a8e-4a96-4e4e-af75-d8882190faa9",
     "showTitle": false,
     "title": ""
    }
   },
   "outputs": [
    {
     "output_type": "execute_result",
     "data": {
      "text/plain": [
       "3"
      ]
     },
     "execution_count": 24,
     "metadata": {},
     "output_type": "execute_result"
    }
   ],
   "source": [
    "# TODO\n",
    "import transformers as tr \n",
    "# load the tokenizer that was used for the model\n",
    "tokenizer = tr.AutoTokenizer.from_pretrained(\n",
    "    model_checkpoint, cache_dir=DA.paths.datasets\n",
    ")\n",
    "tokenizer.pad_token = tokenizer.eos_token\n",
    "tokenizer.add_special_tokens(\n",
    "    {\"additional_special_tokens\": [\"### End\", \"### Instruction:\", \"### Response:\\n\"]}\n",
    ")"
   ]
  },
  {
   "cell_type": "code",
   "execution_count": 0,
   "metadata": {
    "application/vnd.databricks.v1+cell": {
     "cellMetadata": {
      "byteLimit": 2048000,
      "rowLimit": 10000
     },
     "inputWidgets": {},
     "nuid": "3206d272-076a-4d28-b147-10df518b0cd5",
     "showTitle": false,
     "title": ""
    }
   },
   "outputs": [
    {
     "output_type": "stream",
     "name": "stdout",
     "output_type": "stream",
     "text": [
      "\u001B[32mPASSED\u001B[0m: All tests passed for lesson4, question3\n\u001B[32mRESULTS RECORDED\u001B[0m: Click `Submit` when all questions are completed to log the results.\n"
     ]
    }
   ],
   "source": [
    "# Test your answer. DO NOT MODIFY THIS CELL.\n",
    "\n",
    "dbTestQuestion4_3(tokenizer)"
   ]
  },
  {
   "cell_type": "markdown",
   "metadata": {
    "application/vnd.databricks.v1+cell": {
     "cellMetadata": {},
     "inputWidgets": {},
     "nuid": "dabdd0a7-a219-45cd-980b-2cbc3d3ce4ed",
     "showTitle": false,
     "title": ""
    }
   },
   "source": [
    "### Question 4: Tokenize"
   ]
  },
  {
   "cell_type": "markdown",
   "metadata": {
    "application/vnd.databricks.v1+cell": {
     "cellMetadata": {},
     "inputWidgets": {},
     "nuid": "e7b3744e-1073-42cc-b244-bac0efbee8c8",
     "showTitle": false,
     "title": ""
    }
   },
   "source": [
    "The `tokenize` method below builds the body of text for each prompt/response."
   ]
  },
  {
   "cell_type": "code",
   "execution_count": 0,
   "metadata": {
    "application/vnd.databricks.v1+cell": {
     "cellMetadata": {
      "byteLimit": 2048000,
      "rowLimit": 10000
     },
     "inputWidgets": {},
     "nuid": "a76f0196-800b-4865-bea4-ef067941fdc8",
     "showTitle": false,
     "title": ""
    }
   },
   "outputs": [
    {
     "output_type": "execute_result",
     "data": {
      "text/plain": [
       "DatasetDict({\n",
       "    train: Dataset({\n",
       "        features: ['instruction', 'context', 'response', 'category'],\n",
       "        num_rows: 15011\n",
       "    })\n",
       "})"
      ]
     },
     "execution_count": 26,
     "metadata": {},
     "output_type": "execute_result"
    }
   ],
   "source": [
    "ds"
   ]
  },
  {
   "cell_type": "code",
   "execution_count": 0,
   "metadata": {
    "application/vnd.databricks.v1+cell": {
     "cellMetadata": {
      "byteLimit": 2048000,
      "rowLimit": 10000
     },
     "inputWidgets": {},
     "nuid": "f00659c4-520f-4028-91cb-1cfb01f0f18a",
     "showTitle": false,
     "title": ""
    }
   },
   "outputs": [],
   "source": [
    "remove_columns = [\"instruction\", \"response\", \"context\", \"category\"]\n",
    "\n",
    "\n",
    "def tokenize(batch: dict, max_length: int = 1024) -> dict:\n",
    "    \"\"\"\n",
    "    Tokenizes a batch of data containing 'instruction', 'response', and 'context'.\n",
    "    Returns a dictionary with 'input_ids' and 'attention_mask' for each example.\n",
    "\n",
    "    Parameters:\n",
    "        batch (dict): A dictionary containing lists of 'instruction', 'response', and 'context'.\n",
    "        max_length (int): Maximum length of the tokenized output.\n",
    "\n",
    "    Returns:\n",
    "        dict: A dictionary with keys 'input_ids' and 'attention_mask'.\n",
    "    \"\"\"\n",
    "    # Combine the instruction, context, and response into a single string per example\n",
    "    combined_texts = []\n",
    "    for instr, resp, ctxt in zip(batch['instruction'], batch['response'], batch['context']):\n",
    "        instr_part = f\"### Instruction:\\n{instr}\"\n",
    "        context_part = \"\"\n",
    "        if ctxt:\n",
    "            context_part = f\"\\nInput:\\n{ctxt}\\n\"\n",
    "        resp_part = f\"### Response:\\n{resp}\"\n",
    "        \n",
    "        text = f\"\"\"Below is an instruction that describes a task. Write a response that appropriately completes the request.\n",
    "\n",
    "{instr_part}\n",
    "{context_part}\n",
    "{resp_part}\n",
    "\n",
    "### End\n",
    "\"\"\"\n",
    "        combined_texts.append(text)\n",
    "\n",
    "    # Tokenize all texts at once\n",
    "    tokenized_outputs = tokenizer(combined_texts, max_length=max_length, truncation=True, padding='max_length', return_tensors=\"pt\")\n",
    "\n",
    "    # Return the dictionary containing the tokenized outputs\n",
    "    return {\n",
    "        \"input_ids\": tokenized_outputs['input_ids'],\n",
    "        \"attention_mask\": tokenized_outputs['attention_mask']\n",
    "    }\n",
    "\n",
    "# Example usage with the map function\n",
    "# tokenized_dataset = ds.map(tokenize, batched=True, remove_columns=remove_columns)\n"
   ]
  },
  {
   "cell_type": "markdown",
   "metadata": {
    "application/vnd.databricks.v1+cell": {
     "cellMetadata": {},
     "inputWidgets": {},
     "nuid": "f5bb0a6b-0d7b-412d-bd5a-9e8f69eac38c",
     "showTitle": false,
     "title": ""
    }
   },
   "source": [
    "Let's `tokenize` the Dolly training dataset. "
   ]
  },
  {
   "cell_type": "code",
   "execution_count": 0,
   "metadata": {
    "application/vnd.databricks.v1+cell": {
     "cellMetadata": {
      "byteLimit": 2048000,
      "rowLimit": 10000
     },
     "inputWidgets": {},
     "nuid": "888353dc-f007-4ed0-81b6-a4b03bbc4198",
     "showTitle": false,
     "title": ""
    }
   },
   "outputs": [
    {
     "output_type": "execute_result",
     "data": {
      "text/plain": [
       "DatasetDict({\n",
       "    train: Dataset({\n",
       "        features: ['instruction', 'context', 'response', 'category'],\n",
       "        num_rows: 15011\n",
       "    })\n",
       "})"
      ]
     },
     "execution_count": 28,
     "metadata": {},
     "output_type": "execute_result"
    }
   ],
   "source": [
    "ds"
   ]
  },
  {
   "cell_type": "code",
   "execution_count": 0,
   "metadata": {
    "application/vnd.databricks.v1+cell": {
     "cellMetadata": {
      "byteLimit": 2048000,
      "rowLimit": 10000
     },
     "inputWidgets": {},
     "nuid": "8d6ed168-61e9-4d52-89ce-4b184662714e",
     "showTitle": false,
     "title": ""
    }
   },
   "outputs": [
    {
     "output_type": "display_data",
     "data": {
      "application/vnd.jupyter.widget-view+json": {
       "model_id": "d41d687972a1460fbe374c1457505652",
       "version_major": 2,
       "version_minor": 0
      },
      "text/plain": [
       "Map:   0%|          | 0/15011 [00:00<?, ? examples/s]"
      ]
     },
     "metadata": {},
     "output_type": "display_data"
    }
   ],
   "source": [
    "#TODO\n",
    "tokenized_dataset = ds.map(tokenize, batched = True, remove_columns = remove_columns)"
   ]
  },
  {
   "cell_type": "code",
   "execution_count": 0,
   "metadata": {
    "application/vnd.databricks.v1+cell": {
     "cellMetadata": {
      "byteLimit": 2048000,
      "rowLimit": 10000
     },
     "inputWidgets": {},
     "nuid": "4dc45622-c1c0-4539-9191-ec321732ded4",
     "showTitle": false,
     "title": ""
    }
   },
   "outputs": [
    {
     "output_type": "execute_result",
     "data": {
      "text/plain": [
       "DatasetDict({\n",
       "    train: Dataset({\n",
       "        features: ['input_ids', 'attention_mask'],\n",
       "        num_rows: 15011\n",
       "    })\n",
       "})"
      ]
     },
     "execution_count": 30,
     "metadata": {},
     "output_type": "execute_result"
    }
   ],
   "source": [
    "tokenized_dataset"
   ]
  },
  {
   "cell_type": "code",
   "execution_count": 0,
   "metadata": {
    "application/vnd.databricks.v1+cell": {
     "cellMetadata": {
      "byteLimit": 2048000,
      "rowLimit": 10000
     },
     "inputWidgets": {},
     "nuid": "351c6abc-2106-41d1-9fd5-257811c30c3a",
     "showTitle": false,
     "title": ""
    }
   },
   "outputs": [
    {
     "output_type": "execute_result",
     "data": {
      "text/plain": [
       "15011"
      ]
     },
     "execution_count": 31,
     "metadata": {},
     "output_type": "execute_result"
    }
   ],
   "source": [
    "len(tokenized_dataset['train']['attention_mask'])"
   ]
  },
  {
   "cell_type": "code",
   "execution_count": 0,
   "metadata": {
    "application/vnd.databricks.v1+cell": {
     "cellMetadata": {
      "byteLimit": 2048000,
      "rowLimit": 10000
     },
     "inputWidgets": {},
     "nuid": "7738cb58-2fb8-4332-b785-60bc5e930140",
     "showTitle": false,
     "title": ""
    }
   },
   "outputs": [
    {
     "output_type": "stream",
     "name": "stdout",
     "output_type": "stream",
     "text": [
      "\u001B[32mPASSED\u001B[0m: All tests passed for lesson4, question4\n\u001B[32mRESULTS RECORDED\u001B[0m: Click `Submit` when all questions are completed to log the results.\n"
     ]
    }
   ],
   "source": [
    "# Test your answer. DO NOT MODIFY THIS CELL.\n",
    "\n",
    "dbTestQuestion4_4(tokenized_dataset)"
   ]
  },
  {
   "cell_type": "markdown",
   "metadata": {
    "application/vnd.databricks.v1+cell": {
     "cellMetadata": {},
     "inputWidgets": {},
     "nuid": "00abd5a7-9d95-4686-8d26-24976ba20db0",
     "showTitle": false,
     "title": ""
    }
   },
   "source": [
    "### Question 5: Setup Training\n"
   ]
  },
  {
   "cell_type": "markdown",
   "metadata": {
    "application/vnd.databricks.v1+cell": {
     "cellMetadata": {},
     "inputWidgets": {},
     "nuid": "a35ecef3-9693-4e6b-9d30-5cf9d8602ff7",
     "showTitle": false,
     "title": ""
    }
   },
   "source": [
    "To setup the fine-tuning process we need to define the `TrainingArguments`.\n",
    "\n",
    "Let's configure the training to have **10** training epochs (`num_train_epochs`) with a per device batch size of **8**. The optimizer (`optim`) to be used should be `adamw_torch`. Finally, the reporting (`report_to`) list should be set to *tensorboard*."
   ]
  },
  {
   "cell_type": "code",
   "execution_count": 0,
   "metadata": {
    "application/vnd.databricks.v1+cell": {
     "cellMetadata": {
      "byteLimit": 2048000,
      "rowLimit": 10000
     },
     "inputWidgets": {},
     "nuid": "ae7358b6-15a0-4630-8f3d-7ad8fe807bcd",
     "showTitle": false,
     "title": ""
    }
   },
   "outputs": [],
   "source": [
    "# TODO\n",
    "checkpoint_name = \"test-trainer-lab\"\n",
    "local_checkpoint_path = os.path.join(local_training_root, checkpoint_name)\n",
    "training_args = tr.TrainingArguments(\n",
    "  local_checkpoint_path,\n",
    "  num_train_epochs=10,  # default number of epochs to train is 3\n",
    "  per_device_train_batch_size=8,\n",
    "  optim=\"adamw_torch\",\n",
    "  report_to=[\"tensorboard\"],\n",
    ")"
   ]
  },
  {
   "cell_type": "code",
   "execution_count": 0,
   "metadata": {
    "application/vnd.databricks.v1+cell": {
     "cellMetadata": {
      "byteLimit": 2048000,
      "rowLimit": 10000
     },
     "inputWidgets": {},
     "nuid": "082436e9-c4c3-4ce1-8a82-542870584945",
     "showTitle": false,
     "title": ""
    }
   },
   "outputs": [],
   "source": [
    "checkpoint_name = \"test-trainer-lab\""
   ]
  },
  {
   "cell_type": "code",
   "execution_count": 0,
   "metadata": {
    "application/vnd.databricks.v1+cell": {
     "cellMetadata": {
      "byteLimit": 2048000,
      "rowLimit": 10000
     },
     "inputWidgets": {},
     "nuid": "ec58929d-3af8-469a-9b2a-3d39cab9e8d2",
     "showTitle": false,
     "title": ""
    }
   },
   "outputs": [
    {
     "output_type": "stream",
     "name": "stdout",
     "output_type": "stream",
     "text": [
      "\u001B[32mPASSED\u001B[0m: All tests passed for lesson4, question5\n\u001B[32mRESULTS RECORDED\u001B[0m: Click `Submit` when all questions are completed to log the results.\n"
     ]
    }
   ],
   "source": [
    "# Test your answer. DO NOT MODIFY THIS CELL.\n",
    "\n",
    "dbTestQuestion4_5(training_args)"
   ]
  },
  {
   "cell_type": "markdown",
   "metadata": {
    "application/vnd.databricks.v1+cell": {
     "cellMetadata": {},
     "inputWidgets": {},
     "nuid": "b22f0689-2ca5-4e69-bf1c-ee8e6690fdf7",
     "showTitle": false,
     "title": ""
    }
   },
   "source": [
    "### Question 6: AutoModelForCausalLM\n",
    "\n",
    "The pre-trained `pythia-70m-deduped` model can be loaded using the [AutoModelForCausalLM](https://huggingface.co/docs/transformers/model_doc/auto#transformers.AutoModelForCausalLM) class."
   ]
  },
  {
   "cell_type": "code",
   "execution_count": 0,
   "metadata": {
    "application/vnd.databricks.v1+cell": {
     "cellMetadata": {
      "byteLimit": 2048000,
      "rowLimit": 10000
     },
     "inputWidgets": {},
     "nuid": "09558fc5-9c62-40b7-a4f6-eca553a780dd",
     "showTitle": false,
     "title": ""
    }
   },
   "outputs": [],
   "source": [
    "# TODO\n",
    "# load the pre-trained model\n",
    "model = tr.AutoModelForCausalLM.from_pretrained(\n",
    "    model_checkpoint, cache_dir=DA.paths.datasets\n",
    ")"
   ]
  },
  {
   "cell_type": "code",
   "execution_count": 0,
   "metadata": {
    "application/vnd.databricks.v1+cell": {
     "cellMetadata": {
      "byteLimit": 2048000,
      "rowLimit": 10000
     },
     "inputWidgets": {},
     "nuid": "da53dc03-ab51-4f41-97f6-7f39a7f80716",
     "showTitle": false,
     "title": ""
    }
   },
   "outputs": [
    {
     "output_type": "stream",
     "name": "stdout",
     "output_type": "stream",
     "text": [
      "\u001B[32mPASSED\u001B[0m: All tests passed for lesson4, question6\n\u001B[32mRESULTS RECORDED\u001B[0m: Click `Submit` when all questions are completed to log the results.\n"
     ]
    }
   ],
   "source": [
    "# Test your answer. DO NOT MODIFY THIS CELL.\n",
    "\n",
    "dbTestQuestion4_6(model)"
   ]
  },
  {
   "cell_type": "markdown",
   "metadata": {
    "application/vnd.databricks.v1+cell": {
     "cellMetadata": {},
     "inputWidgets": {},
     "nuid": "c55f32e8-b971-447e-8251-b88088b89989",
     "showTitle": false,
     "title": ""
    }
   },
   "source": [
    "### Question 7: Initialize the Trainer\n",
    "\n",
    "Unlike the IMDB dataset used in the earlier Notebook, the Dolly dataset only contains a single *train* dataset. Let's go ahead and create a [`train_test_split`](https://huggingface.co/docs/datasets/v2.12.0/en/package_reference/main_classes#datasets.Dataset.train_test_split) of the train dataset.\n",
    "\n",
    "Also, let's initialize the [`Trainer`](https://huggingface.co/docs/transformers/main_classes/trainer) with model, training arguments, the train & test datasets, tokenizer, and data collator. Here we will use the [`DataCollatorForLanguageModeling`](https://huggingface.co/docs/transformers/main/en/main_classes/data_collator#transformers.DataCollatorForLanguageModeling)."
   ]
  },
  {
   "cell_type": "code",
   "execution_count": 0,
   "metadata": {
    "application/vnd.databricks.v1+cell": {
     "cellMetadata": {
      "byteLimit": 2048000,
      "rowLimit": 10000
     },
     "inputWidgets": {},
     "nuid": "fa86dbc2-d2b4-4516-ade9-9d4965fe3190",
     "showTitle": false,
     "title": ""
    }
   },
   "outputs": [],
   "source": [
    "# TODO\n",
    "# used to assist the trainer in batching the data\n",
    "TRAINING_SIZE=6000\n",
    "SEED=42\n",
    "data_collator = DataCollatorForLanguageModeling(\n",
    "    tokenizer=tokenizer, mlm=False, return_tensors=\"pt\", pad_to_multiple_of=8\n",
    ")\n",
    "split_dataset = tokenized_dataset['train'].train_test_split(train_size = TRAINING_SIZE,seed = SEED)\n",
    "trainer = tr.Trainer(\n",
    "    model,\n",
    "    training_args,\n",
    "    train_dataset=split_dataset[\"train\"],\n",
    "    eval_dataset=split_dataset[\"test\"],\n",
    "    tokenizer=tokenizer,\n",
    "    data_collator=data_collator,\n",
    ")"
   ]
  },
  {
   "cell_type": "code",
   "execution_count": 0,
   "metadata": {
    "application/vnd.databricks.v1+cell": {
     "cellMetadata": {
      "byteLimit": 2048000,
      "rowLimit": 10000
     },
     "inputWidgets": {},
     "nuid": "29a0985d-ea5e-484a-9085-95a8bc418492",
     "showTitle": false,
     "title": ""
    }
   },
   "outputs": [
    {
     "output_type": "stream",
     "name": "stdout",
     "output_type": "stream",
     "text": [
      "\u001B[32mPASSED\u001B[0m: All tests passed for lesson4, question7\n\u001B[32mRESULTS RECORDED\u001B[0m: Click `Submit` when all questions are completed to log the results.\n"
     ]
    }
   ],
   "source": [
    "# Test your answer. DO NOT MODIFY THIS CELL.\n",
    "\n",
    "dbTestQuestion4_7(trainer)"
   ]
  },
  {
   "cell_type": "markdown",
   "metadata": {
    "application/vnd.databricks.v1+cell": {
     "cellMetadata": {},
     "inputWidgets": {},
     "nuid": "71c1de6b-83b1-47ce-89d7-0ead4b233683",
     "showTitle": false,
     "title": ""
    }
   },
   "source": [
    "### Question 8: Train"
   ]
  },
  {
   "cell_type": "markdown",
   "metadata": {
    "application/vnd.databricks.v1+cell": {
     "cellMetadata": {},
     "inputWidgets": {},
     "nuid": "9fdd8c9d-32d1-4514-acb6-d844d9c10521",
     "showTitle": false,
     "title": ""
    }
   },
   "source": [
    "\n",
    "Before starting the training process, let's turn on Tensorboard. This will allow us to monitor the training process as checkpoint logs are created."
   ]
  },
  {
   "cell_type": "code",
   "execution_count": 0,
   "metadata": {
    "application/vnd.databricks.v1+cell": {
     "cellMetadata": {
      "byteLimit": 2048000,
      "rowLimit": 10000
     },
     "inputWidgets": {},
     "nuid": "a69fd4d4-e0f8-41cb-91e9-00834be3a3c9",
     "showTitle": false,
     "title": ""
    }
   },
   "outputs": [],
   "source": [
    "tensorboard_display_dir = f\"{local_checkpoint_path}/runs\""
   ]
  },
  {
   "cell_type": "code",
   "execution_count": 0,
   "metadata": {
    "application/vnd.databricks.v1+cell": {
     "cellMetadata": {
      "byteLimit": 2048000,
      "rowLimit": 10000
     },
     "inputWidgets": {},
     "nuid": "dbd529c8-c51f-4e26-87ff-c91b785cba8b",
     "showTitle": false,
     "title": ""
    }
   },
   "outputs": [
    {
     "output_type": "stream",
     "name": "stdout",
     "output_type": "stream",
     "text": [
      "Your log directory might be ephemeral to the cluster, which will be deleted after cluster termination or restart. You can choose a log directory under `/dbfs/` to persist your logs in DBFS.\nTensorboard may not be displayed in the notebook cell output when 'Third-party iFraming prevention' is disabled. You can still use Tensorboard by clicking the link below to open Tensorboard in a new tab. To enable Tensorboard in notebook cell output, please ask your workspace admin to enable 'Third-party iFraming prevention'.\n"
     ]
    },
    {
     "output_type": "display_data",
     "data": {
      "text/plain": [
       "Launching TensorBoard..."
      ]
     },
     "metadata": {},
     "output_type": "display_data"
    },
    {
     "output_type": "display_data",
     "data": {
      "text/html": [
       "\n",
       "        <div style=\"margin-bottom: 16px\">\n",
       "            <a href=\"/driver-proxy/o/6310158758867377/0529-000550-bxxlug1l/6006/\">\n",
       "                Open in a new tab\n",
       "            </a>\n",
       "            <span style=\"margin-left: 1em; color: #a3a3a3\">Note: TensorBoard is only available when this notebook remains attached to the cluster.</span>\n",
       "        </div>\n",
       "        <div style=\"margin-bottom: 16px\">\n",
       "            <span style=\"color: #a3a3a3\">Note: This cell needs to be re-run for TensorBoard to be available if this notebook is imported into a different workspace.</span>\n",
       "        </div>\n",
       "        <iframe id=\"%tensorboard-frame-1c80317fa3b1799d\" width=\"100%\" height=\"800\" frameborder=\"0\" src=\"/driver-proxy/o/6310158758867377/0529-000550-bxxlug1l/6006/\"></iframe>\n",
       "        "
      ]
     },
     "metadata": {},
     "output_type": "display_data"
    }
   ],
   "source": [
    "%load_ext tensorboard\n",
    "%tensorboard --logdir '{tensorboard_display_dir}'"
   ]
  },
  {
   "cell_type": "markdown",
   "metadata": {
    "application/vnd.databricks.v1+cell": {
     "cellMetadata": {},
     "inputWidgets": {},
     "nuid": "b20e4243-ef34-47a3-ad06-0d9d25368662",
     "showTitle": false,
     "title": ""
    }
   },
   "source": [
    "Start the fine-tuning process!"
   ]
  },
  {
   "cell_type": "code",
   "execution_count": 0,
   "metadata": {
    "application/vnd.databricks.v1+cell": {
     "cellMetadata": {
      "byteLimit": 2048000,
      "rowLimit": 10000
     },
     "inputWidgets": {},
     "nuid": "98659441-5b7d-4f4c-aca6-72f4d0e0f198",
     "showTitle": false,
     "title": ""
    }
   },
   "outputs": [
    {
     "output_type": "stream",
     "name": "stderr",
     "output_type": "stream",
     "text": [
      "You're using a GPTNeoXTokenizerFast tokenizer. Please note that with a fast tokenizer, using the `__call__` method is faster than using a method to encode the text followed by a call to the `pad` method to get a padded encoding.\n"
     ]
    },
    {
     "output_type": "display_data",
     "data": {
      "text/html": [
       "\n",
       "    <div>\n",
       "      \n",
       "      <progress value='7500' max='7500' style='width:300px; height:20px; vertical-align: middle;'></progress>\n",
       "      [7500/7500 38:58, Epoch 10/10]\n",
       "    </div>\n",
       "    <table border=\"1\" class=\"dataframe\">\n",
       "  <thead>\n",
       " <tr style=\"text-align: left;\">\n",
       "      <th>Step</th>\n",
       "      <th>Training Loss</th>\n",
       "    </tr>\n",
       "  </thead>\n",
       "  <tbody>\n",
       "    <tr>\n",
       "      <td>500</td>\n",
       "      <td>3.480000</td>\n",
       "    </tr>\n",
       "    <tr>\n",
       "      <td>1000</td>\n",
       "      <td>3.051400</td>\n",
       "    </tr>\n",
       "    <tr>\n",
       "      <td>1500</td>\n",
       "      <td>2.890200</td>\n",
       "    </tr>\n",
       "    <tr>\n",
       "      <td>2000</td>\n",
       "      <td>2.593600</td>\n",
       "    </tr>\n",
       "    <tr>\n",
       "      <td>2500</td>\n",
       "      <td>2.478500</td>\n",
       "    </tr>\n",
       "    <tr>\n",
       "      <td>3000</td>\n",
       "      <td>2.351000</td>\n",
       "    </tr>\n",
       "    <tr>\n",
       "      <td>3500</td>\n",
       "      <td>2.082900</td>\n",
       "    </tr>\n",
       "    <tr>\n",
       "      <td>4000</td>\n",
       "      <td>1.943600</td>\n",
       "    </tr>\n",
       "    <tr>\n",
       "      <td>4500</td>\n",
       "      <td>1.865300</td>\n",
       "    </tr>\n",
       "    <tr>\n",
       "      <td>5000</td>\n",
       "      <td>1.608700</td>\n",
       "    </tr>\n",
       "    <tr>\n",
       "      <td>5500</td>\n",
       "      <td>1.514600</td>\n",
       "    </tr>\n",
       "    <tr>\n",
       "      <td>6000</td>\n",
       "      <td>1.424300</td>\n",
       "    </tr>\n",
       "    <tr>\n",
       "      <td>6500</td>\n",
       "      <td>1.236100</td>\n",
       "    </tr>\n",
       "    <tr>\n",
       "      <td>7000</td>\n",
       "      <td>1.170600</td>\n",
       "    </tr>\n",
       "    <tr>\n",
       "      <td>7500</td>\n",
       "      <td>1.112900</td>\n",
       "    </tr>\n",
       "  </tbody>\n",
       "</table><p>"
      ],
      "text/plain": [
       "<IPython.core.display.HTML object>"
      ]
     },
     "metadata": {},
     "output_type": "display_data"
    }
   ],
   "source": [
    "# TODO\n",
    "# invoke training - note this will take approx. 30min\n",
    "trainer.train()\n",
    "\n",
    "# save model to the local checkpoint\n",
    "trainer.save_model()\n",
    "trainer.save_state()"
   ]
  },
  {
   "cell_type": "code",
   "execution_count": 0,
   "metadata": {
    "application/vnd.databricks.v1+cell": {
     "cellMetadata": {
      "byteLimit": 2048000,
      "rowLimit": 10000
     },
     "inputWidgets": {},
     "nuid": "c5f3874c-9b58-4557-865d-cc1d5104c87d",
     "showTitle": false,
     "title": ""
    }
   },
   "outputs": [
    {
     "output_type": "stream",
     "name": "stdout",
     "output_type": "stream",
     "text": [
      "\u001B[32mPASSED\u001B[0m: All tests passed for lesson4, question8\n\u001B[32mRESULTS RECORDED\u001B[0m: Click `Submit` when all questions are completed to log the results.\n"
     ]
    }
   ],
   "source": [
    "# Test your answer. DO NOT MODIFY THIS CELL.\n",
    "\n",
    "dbTestQuestion4_8(trainer)"
   ]
  },
  {
   "cell_type": "code",
   "execution_count": 0,
   "metadata": {
    "application/vnd.databricks.v1+cell": {
     "cellMetadata": {
      "byteLimit": 2048000,
      "rowLimit": 10000
     },
     "inputWidgets": {},
     "nuid": "14096089-3230-4674-99ec-7e311d082c3c",
     "showTitle": false,
     "title": ""
    }
   },
   "outputs": [],
   "source": [
    "# persist the fine-tuned model to DBFS\n",
    "final_model_path = f\"{DA.paths.working_dir}/llm04_fine_tuning/{checkpoint_name}\"\n",
    "trainer.save_model(output_dir=final_model_path)"
   ]
  },
  {
   "cell_type": "code",
   "execution_count": 0,
   "metadata": {
    "application/vnd.databricks.v1+cell": {
     "cellMetadata": {
      "byteLimit": 2048000,
      "rowLimit": 10000
     },
     "inputWidgets": {},
     "nuid": "e8b28da8-5e25-4c29-90b6-b2bec17c1ba9",
     "showTitle": false,
     "title": ""
    }
   },
   "outputs": [],
   "source": [
    "import gc\n",
    "import torch\n",
    "\n",
    "gc.collect()\n",
    "torch.cuda.empty_cache()"
   ]
  },
  {
   "cell_type": "code",
   "execution_count": 0,
   "metadata": {
    "application/vnd.databricks.v1+cell": {
     "cellMetadata": {
      "byteLimit": 2048000,
      "rowLimit": 10000
     },
     "inputWidgets": {},
     "nuid": "4a347e9c-83db-4ca4-be62-c9a0c44202d6",
     "showTitle": false,
     "title": ""
    }
   },
   "outputs": [],
   "source": [
    "fine_tuned_model = AutoModelForCausalLM.from_pretrained(final_model_path)"
   ]
  },
  {
   "cell_type": "markdown",
   "metadata": {
    "application/vnd.databricks.v1+cell": {
     "cellMetadata": {},
     "inputWidgets": {},
     "nuid": "ee69b86d-989c-4990-b489-e92d8fde0eaa",
     "showTitle": false,
     "title": ""
    }
   },
   "source": [
    "Recall that the model was trained using a body of text that contained an instruction and its response. A similar body of text, or prompt, needs to be provided when testing the model. The prompt that is provided only contains an instruction though. The model will `generate` the response accordingly."
   ]
  },
  {
   "cell_type": "code",
   "execution_count": 0,
   "metadata": {
    "application/vnd.databricks.v1+cell": {
     "cellMetadata": {
      "byteLimit": 2048000,
      "rowLimit": 10000
     },
     "inputWidgets": {},
     "nuid": "ed05a2a9-d61f-4645-b2f6-e82328cc7d3e",
     "showTitle": false,
     "title": ""
    }
   },
   "outputs": [],
   "source": [
    "def to_prompt(instr: str, max_length: int = 1024) -> dict:\n",
    "    text = f\"\"\"Below is an instruction that describes a task. Write a response that appropriately completes the request.\n",
    "\n",
    "### Instruction:\n",
    "{instr}\n",
    "\n",
    "### Response:\n",
    "\"\"\"\n",
    "    return tokenizer(text, return_tensors=\"pt\", max_length=max_length, truncation=True)\n",
    "\n",
    "\n",
    "def to_response(prediction):\n",
    "    decoded = tokenizer.decode(prediction)\n",
    "    # extract the Response from the decoded sequence\n",
    "    m = re.search(r\"#+\\s*Response:\\s*(.+?)#+\\s*End\", decoded, flags=re.DOTALL)\n",
    "    res = \"Failed to find response\"\n",
    "    if m:\n",
    "        res = m.group(1).strip()\n",
    "    else:\n",
    "        m = re.search(r\"#+\\s*Response:\\s*(.+)\", decoded, flags=re.DOTALL)\n",
    "        if m:\n",
    "            res = m.group(1).strip()\n",
    "    return res"
   ]
  },
  {
   "cell_type": "code",
   "execution_count": 0,
   "metadata": {
    "application/vnd.databricks.v1+cell": {
     "cellMetadata": {
      "byteLimit": 2048000,
      "rowLimit": 10000
     },
     "inputWidgets": {},
     "nuid": "88f25a1e-ae08-4516-84c7-da96b4fde9f3",
     "showTitle": false,
     "title": ""
    }
   },
   "outputs": [],
   "source": [
    "import re\n",
    "# NOTE: this cell can take up to 5mins\n",
    "res = []\n",
    "for i in range(100):\n",
    "    instr = ds[\"train\"][i][\"instruction\"]\n",
    "    resp = ds[\"train\"][i][\"response\"]\n",
    "    inputs = to_prompt(instr)\n",
    "    pred = fine_tuned_model.generate(\n",
    "        input_ids=inputs[\"input_ids\"],\n",
    "        attention_mask=inputs[\"attention_mask\"],\n",
    "        pad_token_id=tokenizer.pad_token_id,\n",
    "        max_new_tokens=128,\n",
    "    )\n",
    "    res.append((instr, resp, to_response(pred[0])))"
   ]
  },
  {
   "cell_type": "code",
   "execution_count": 0,
   "metadata": {
    "application/vnd.databricks.v1+cell": {
     "cellMetadata": {
      "byteLimit": 2048000,
      "rowLimit": 10000
     },
     "inputWidgets": {},
     "nuid": "3408e930-9cd3-4086-a932-326b1b83f852",
     "showTitle": false,
     "title": ""
    }
   },
   "outputs": [
    {
     "output_type": "display_data",
     "data": {
      "text/html": [
       "<style scoped>\n",
       "  .table-result-container {\n",
       "    max-height: 300px;\n",
       "    overflow: auto;\n",
       "  }\n",
       "  table, th, td {\n",
       "    border: 1px solid black;\n",
       "    border-collapse: collapse;\n",
       "  }\n",
       "  th, td {\n",
       "    padding: 5px;\n",
       "  }\n",
       "  th {\n",
       "    text-align: left;\n",
       "  }\n",
       "</style><div class='table-result-container'><table class='table-result'><thead style='background-color: white'><tr><th>instruction</th><th>response</th><th>generated</th></tr></thead><tbody><tr><td>When did Virgin Australia start operating?</td><td>Virgin Australia commenced services on 31 August 2000 as Virgin Blue, with two aircraft on a single route.</td><td>Virgin Australia started operating in the year 2000 as Virgin Australia's Virgin Group. Virgin Australia started operating in the year 2000 as Virgin Australia's Virgin Group.</td></tr><tr><td>Which is a species of fish? Tope or Rope</td><td>Tope</td><td>Tope</td></tr><tr><td>Why can camels survive for long without water?</td><td>Camels use the fat in their humps to keep them filled with energy and hydration for long periods of time.</td><td>Cream is a popular type of animal for humans.  It is a plant that is used to give food to camels and camels.  Cream is a plant that is used to give water to camels and camels crave food.  Cream is also a plant which is used to give water to camels and camels crave food.  Cream is also a plant which is used to give water to camels and camels have a similar life to their camels.</td></tr><tr><td>Alice's parents have three daughters: Amy, Jessy, and what’s the name of the third daughter?</td><td>The name of the third daughter is Alice</td><td>Alice's mother was raised by her mother, Amy. She was raised by two siblings and a step-brother. She was raised by two siblings and a step-brother.</td></tr><tr><td>When was Tomoaki Komorida born?</td><td>Tomoaki Komorida was born on July 10,1981.</td><td>No written notice or 3rd world war</td></tr><tr><td>If I have more pieces at the time of stalemate, have I won?</td><td>No. \n",
       "Stalemate is a drawn position. It doesn't matter who has captured more pieces or is in a winning position</td><td>-  -  -  -  -  -  -  -  -  -  -  -  -  -  -  -  -  -  - - the sum of the two contributions?</td></tr><tr><td>Given a reference text about Lollapalooza, where does it take place, who started it and what is it?</td><td>Lollapalooze is an annual musical festival held in Grant Park in Chicago, Illinois. It was started in 1991 as a farewell tour by Perry Farrell, singe of the group Jane's Addiction. The festival includes an array of musical genres including alternative rock, heavy metal, punk rock, hip hop, and electronic dance music. The festivals welcomes an estimated 400,000 people each year and sells out annually. Some notable headliners include: the Red Hot Chili Peppers, Chance the Rapper, Metallica, and Lady Gage. Lollapalooza is one of the largest and most iconic festivals in the world and a staple of Chicago.</td><td>Lollapalooza is a commune in the Central Switzerland- Switzerland. It has a population of 1.5 billion people.</td></tr><tr><td>Who gave the UN the land in NY to build their HQ</td><td>John D Rockerfeller</td><td>The UN was founded in 1957 by the UN and the HQ is located in New York City.</td></tr><tr><td>Why mobile is bad for human</td><td>We are always engaged one phone which is not good.</td><td>Mobile phones have become a major technology in recent years due to the huge number of devices and mobile operating models being developed and over the years the proliferation of mobile devices has grown. Mobile phones have become a major technology in recent years due to the huge number of mobile devices, mobile operating models being developed and over the years the proliferation of mobile devices has grown.</td></tr><tr><td>Who was John Moses Browning?</td><td>John Moses Browning is one of the most well-known designer of modern firearms.  He started building firearms in his father's shop at the age of 13, and was awarded his first patent when he was 24.\n",
       "\n",
       "He  designed the first reliable automatic pistol, and the first gas-operated firearm, as well inventing or improving single-shot, lever-action, and pump-action rifles and shotguns.\n",
       "\n",
       "Today, he is most well-known for the M1911 pistol, the Browning Automatic Rifle, and the Auto-5 shotgun, all of which are in still in current production in either their original design, or with minor changes.  His M1911 and Hi-Power pistols designs are some of the most reproduced firearms in the world today.</td><td>John Moses Browning (born 30 January 1933 in Bantham, Hertfordshire, England) is an English guitarist, songwriter, and musician. He is known for his live performances and repertoire of popular songs.</td></tr><tr><td>Who is Thomas Jefferson?</td><td>Thomas Jefferson (April 13, 1743 – July 4, 1826) was an American statesman, diplomat, lawyer, architect, philosopher, and Founding Father who served as the third president of the United States from 1801 to 1809. Among the Committee of Five charged by the Second Continental Congress with authoring the Declaration of Independence, Jefferson was the Declaration's primary author. Following the American Revolutionary War and prior to becoming the nation's third president in 1801, Jefferson was the first United States secretary of state under George Washington and then the nation's second vice president under John Adams.\n",
       "\n",
       "Among the nation's Founding Fathers, Jefferson is considered unmatched in his intellectual depth and breadth. His passionate writings and advocacy for human rights, including freedom of thought, speech, and religion, were a leading inspiration behind the American Revolution, which ultimately gave rise to the American Revolutionary War, American independence, and the United States Constitution. Jefferson's ideas were globally influential in shaping and inspiring the Age of Enlightenment, which proved transformational in the late 17th and 18th centuries. He was a leading proponent of democracy, republicanism, and individual rights, and produced formative documents and decisions at the state, national, and international levels.\n",
       "\n",
       "During the American Revolution, Jefferson represented Virginia in the Second Continental Congress in Philadelphia, which adopted the Declaration of Independence on July 4, 1776. As a Virginia legislator, he drafted a state law for religious freedom. He served as the second Governor of Virginia from 1779 to 1781, during the Revolutionary War. In 1785, Jefferson was appointed the United States Minister to France, and subsequently, the nation's first secretary of state under President George Washington from 1790 to 1793. Jefferson and James Madison organized the Democratic-Republican Party to oppose the Federalist Party during the formation of the First Party System. With Madison, he anonymously wrote the Kentucky and Virginia Resolutions in 1798 and 1799, which sought to strengthen states' rights by nullifying the federal Alien and Sedition Acts.\n",
       "\n",
       "Jefferson and Federalist John Adams became friends as well as political rivals, serving in the Continental Congress and drafting the Declaration of Independence together. In the 1796 presidential election between the two, Jefferson came in second, which according to electoral procedure at the time, made him vice president to Adams. Jefferson challenged Adams again in 1800 and won the presidency. After his term in office, Jefferson eventually reconciled with Adams and they shared a correspondence that lasted 14 years. He and Adams both died on the same day, July 4, 1826, which was also the 50th anniversary of Declaration of Independence.\n",
       "\n",
       "As president, Jefferson pursued the nation's shipping and trade interests against Barbary pirates and aggressive British trade policies. Starting in 1803, he promoted a western expansionist policy with the Louisiana Purchase, which doubled the nation's claimed land area. To make room for settlement, Jefferson began the process of Indian tribal removal from the newly acquired territory. As a result of peace negotiations with France, his administration reduced military forces. He was re-elected in 1804, but his second term was beset with difficulties at home, including the trial of former vice president Aaron Burr. In 1807, American foreign trade was diminished when Jefferson implemented the Embargo Act in response to British threats to U.S. shipping. The same year, Jefferson signed the Act Prohibiting Importation of Slaves.\n",
       "\n",
       "Jefferson was a plantation owner, lawyer, and politician, and mastered many disciplines including surveying, mathematics, horticulture, and mechanics. He was also an architect in the Palladian tradition. Jefferson's keen interest in religion and philosophy led to his appointment as president of the American Philosophical Society. He largely shunned organized religion but was influenced by Christianity, Epicureanism, and deism. Jefferson rejected fundamental Christianity, denying Christ's divinity. A philologist, Jefferson knew several languages. He was a prolific letter writer and corresponded with many prominent people, including Edward Carrington, John Taylor of Caroline, and James Madison. In 1785, Jefferson authored Notes on the State of Virginia, considered perhaps the most important American book published before 1800. Jefferson championed the ideals, values, and teachings of the Enlightenment.\n",
       "\n",
       "Since the 1790s, Jefferson was rumored to have had children by his sister-in-law and slave Sally Hemings, leading to what is known as the Jefferson-Hemings controversy. A 1998 DNA test concluded that one of Sally Hemings's children, Eston Hemings, was of the Jefferson male line. According to scholarly consensus, based on documentary and statistical evaluation, as well as oral history, Jefferson probably fathered at least six children with Hemings, including four that survived to adulthood.\n",
       "\n",
       "After retiring from public office, Jefferson founded the University of Virginia. Presidential scholars and historians generally praise Jefferson's public achievements, including his advocacy of religious freedom and tolerance in Virginia, his peaceful acquisition of the Louisiana Territory from France without war or controversy, and his ambitious and successful Lewis and Clark Expedition. Some modern historians are critical of Jefferson's personal involvement with slavery. Jefferson is consistently ranked among the top ten presidents of American history.</td><td>Thomas Jefferson (Augustinus Jefferson) is a British-American author who is known as Jeffersonian (1700–1848)</td></tr><tr><td>Who was Kyle Van Zyl playing against when he scored 36 of hisa teams 61 points?</td><td>Kyle Van Zyl was playing against Boland U21 when he scored 36 points, leading his team to victory in a 61-3 win.</td><td>Kyle Van Zyl was playing in the National Basketball Association (NBA) draft picks.</td></tr><tr><td>From the passage list down the areas for which Dar es Salaam is Tanzania's most prominent city. List the results in comma separated format.</td><td>arts, fashion, media, film, television, finance</td><td>1. Dar es Salaam (Malawi: %02.5 %05.5 %05.5), Tanzanian capital city Dar es Salaam Central (Malawi: %05.5 %05.5 %05.5), and Tanzanian city Zaraaam (Zambi: %05.5 %05.5 %05.5)\n",
       "2. Dar es Salaam Central (Malawi: %05.5 %05.5 %05.5), and Tanzanian city Zaraaam Central (Malawi: %05.5 %05.5 %05.5</td></tr><tr><td>What is a polygon?</td><td>A polygon is a form in Geometry.  It is a single dimensional plane made of connecting lines and any number of vertices.  It is a closed chain of connected line segments or edges.  The vertices of the polygon are formed where two edges meet.  Examples of polygons are hexagons, pentagons, and octagons.  Any plane that does not contain edges or vertices is not a polygon.  An example of a non-polygon is a circle.</td><td>A polygon is a polygon that has a polygon. A polygon is a polygon with a polygon (polygon) or polygon (polygon). A polygon is a polygon with a polygon (polygon) or polygon (polygon). A polygon is a polygon if it has a polygon (polygon) or polygon (polygon). A polygon is a polygon with a polygon (polygon) or polygon (polygon). A polygon is a polygon with a polygon (polygon) or polygon (polygon).</td></tr><tr><td>How do I start running?</td><td>Make sure you get comfortable running shoes and attire. Start with achievable goal in mind like a 5K race. If you never ran before, start gradually from a walk, to brisk walk, light jog aiming for 15-30mins initially. Slowly increase your running time and distance as your fitness level improves. One of the most important things is cool down and gentle stretching. Always listen to your body, and take rest days when needed to prevent injury.</td><td>Running is a process in which a runner prepares to start running on the run. Running is a process in which the runner prepares to run for a designated time. Running is a process in which the runner is not yet ready for any run. Running is typically the fastest run in the world, so running is the fastest. Running is the fastest run in the world, so running is the fastest.</td></tr><tr><td>Which episodes of season four of Game of Thrones did Michelle MacLaren direct?</td><td>She directed \"Oathkeeper\" and \"First of His Name\" the fourth and fifth episodes of season four, respectively.</td><td>Michelle MacLaren directed two episodes of season four of Game of Thrones: Michelle MacLaren directed two episodes of season four of Game of Thrones: Michelle MacLaren directed two episodes of season four of Game of Thrones: Michelle MacLaren directed two episodes of season four of Game of Thrones: Michelle MacLaren directed two episodes of season four of Game of Thrones: Michelle MacLaren directed three episodes of season four of Game of Thrones: Michelle MacLaren directed three episodes of season four of Game of Thrones: Michelle MacLaren directed three episodes of season four of Game of Thrones</td></tr><tr><td>What is process mining?</td><td>Process mining brings together data mining, data science and process management to find process efficiencies.</td><td>Process mining is a process to find resources (usually a combination of some sort of software, hardware, and software) and process the resource (usually a subset of those). Processes that are produced end a few times in a timely manner. Processes that are produced end a few times are generally not economically valuable, and are often used for the extraction of valuable resource (e.g., for mining) that are not readily available.</td></tr><tr><td>What are some unique curtain tie backs that you can make yourself?</td><td>There are many items you can use to make a curtain tie back. Some ideas for this include a chain, a circle and pin, jute rope, wooden beaded rope, a necklack or bracelet, a door knob, a length of a leather belt, macrame rope, or a string of artificial flowers.</td><td>There are many ways to make yourself appear on a curtain tie back. The most common way to make yourself appear is by wrapping your arms around your waist. The most common way to wrap your arms around your waist is by wrapping your arms around your waist. The most common way to wrap a bra with that is by wrappinging your arms around your waist.</td></tr><tr><td>What is a dispersive prism?</td><td>A dispersive prism is an optical prism that disperses the light's different wavelengths at different angles. When white light is shined through a dispersive prism it will separate into the different colors of the rainbow.</td><td>A dispersive prism is a prism that absorbs light. It is a term used to describe any phenomenon of dispersion. It is a term to describe a phenomenon of dispersion due to superconductivity in a material with superconductivity.</td></tr><tr><td>Identify which instrument is string or percussion: Cantaro, Gudok</td><td>Gudok is string, Cantaro is percussion.</td><td>Gudok is string, Cantaro is percussion.</td></tr><tr><td>Give me the top 5 golf equipment company names.</td><td>Titleist, Taylormade, Callaway, Ping, Cobra</td><td>1.\tMinepants\n",
       "2.\tPinehurst\n",
       "3.\tPinehurst Classics\n",
       "4.\tPinehurst Junior High School\n",
       "5.\tPinehurst Junior High School\n",
       "6.\tPinehurst Under Armies\n",
       "7.\tPinehurst Under Armies</td></tr><tr><td>What individual has won the most Olympic gold medals in the history of the games?</td><td>Michael Phelps has won the most gold medals of all time with 23 golds.</td><td>The most popular sport in the history of the Games is the competitive nature. The competitive nature of the games is the sheer number of competitors, and competitive games often begin to draw near to competitive edge.</td></tr><tr><td>Which Dutch artist painted “Girl with a Pearl Earring”?</td><td>Vermeer</td><td>Dutch</td></tr><tr><td>What happens when the sun goes down?</td><td>When the sun sets, the evening starts.</td><td>The sun goes down only when the sun is down.</td></tr><tr><td>What is a verb?</td><td>A verb is an action word that describes an activity.  Examples of verbs are the following: swimming, hiking, biking, roller skating, or skydiving.  All of these single and combination word examples are tied to an activity that any living thing can do.  For example, a dog can bike ride with a human when the human is pedaling the bike.  Verb use is not limited to humans or people only but applies to all living things.</td><td>A verb is a verb that is used to verb both verb and verb both verb and verb both verb and verb both verb and verb both verb and verb both verb and verb both verb and verb both verb and verb both verb and verb both verb and verb both verb and verb both verb and verb both verb and verb both verb and verb both verb and verb both verb and verb both verb and verb both verb and verb both verb and verb both verb and verb both verb and verb both verb and verb both verb and verb both verb and verb both verb and verb both verb and verb both verb and verb both verb and verb both verb and verb both verb</td></tr><tr><td>Extract the owner of Lamborghini and a listing of the different types of Huracan cars that Lamborghini has produced for its Motorsport division.</td><td>Vokswagen Group owns Lamborghini through its subsidiary, Audi.\n",
       "\n",
       "Lamborghini has produced the following Huracan motorsport models:\n",
       "- Huracán LP 620-2 Super Trofeo EVO\n",
       "- Huracán LP 620-2 Super Trofeo EVO2\n",
       "- Huracán Super Trofeo GT2\n",
       "- Huracán GT3\n",
       "- Huracán GT3 Evo\n",
       "- Huracán GT3 Evo 2</td><td>Lamborghini is a very popular car which is produced by a small team of amateur and professional car racing drivers.  It is very popular with young and old people and is very competitive and very competitive.  It is very competitive and has a lot of history as well as the history of the car.  Its a very popular car which is produced by a team of amateur and professional car racing drivers.  Its a very popular car which is produced by a team of amateur and professional car racing drivers.</td></tr><tr><td>Which of the following is useful for transportation: a glass of wine, a lamp, a train, an iced cube tray, a plane, a bicycle, an apple and a scooter.</td><td>The useful objects for transportation in the list are train, plane, bicyle and scooter.</td><td>A lamp: a lamp, a train, and a rail\n",
       "A lamp: a train, a train</td></tr><tr><td>Identify which instrument is string or woodwind: Panduri, Zurna</td><td>Zurna is woodwind, Panduri is string.</td><td>Zurna is string, Panduri is woodwind.</td></tr><tr><td>What is the average lifespan of a Golden Retriever?</td><td>The average lifespan of a Golden Retriever is 12 to 13 years.</td><td>The average lifespan of a Golden Retriever is between 72 and 92 years old.</td></tr><tr><td>Who became king of Holland in 1806?</td><td>William I of the Netherlands became king of Holland in 1806.</td><td>William I of the Netherlands became king of Holland in 1806.</td></tr><tr><td>What is best Playstation or Xbox</td><td>Playstation and Xbox are two competing game consoles, where which is \"best\" will depend on the preferences of the gamer.  From a graphics and performance perspective they are comparable, with Sony's Playstation technically leading, though most gamers would be unlikely to notice a significant difference.  From a game library perspective, both consoles have their respective first-party titles that appeal to different demographics.  For example, Microsoft has seen great popularity due to popular title Halo being exclusively available on the console.  On the other hand, Playstation has popular exclusive titles such as God of War and Gran Turismo.  Ultimately the decision of which console is best will likely come down to which games titles the purchaser prefers.</td><td>Best Professional Server in the World is a well-known streaming live streaming live streaming live streaming live streaming live.</td></tr><tr><td>Who played Billy the Kid in The Left Handed Gun</td><td>Paul Newman</td><td>Billy the Kid was a regular part of the National Basketball League. Billy was the regular part of the National Basketball League and the regular part of the National Basketball League. Billy was the regular part of the National Basketball League and the regular part of the National Basketball League.</td></tr><tr><td>why did Syd Barrett left the Pink Floyd?</td><td>Syd Barrett was one of the main members of the Pink Floyd. He has used drugs a lot and after a while he was not able to perform with the team. Even though the band gave him multiple chances, he could not keep up with the band. In the end, they had to ask him to leave the band. The main reason that he has left the team is his health problems and addiction to drugs.</td><td>The Pink Floyd band was formed in London in the 1960s. The band's founding members include Syd Barrett, Ron Burgundy, Ron Burgundy, and Pink Floyd.</td></tr><tr><td>what is REST API</td><td>REST API is an architectural style for building network APIs. In practice, most REST APIs are using JSON over HTTP. REST APIs have several properties that make them very popular.\n",
       "\n",
       "HTTP is the foundational and the most popular network protocol across the internet. By using HTTP, REST APIs can fully utilize the internet infrastructure, which greatly reduce the complexity and operational costs. For example, using HTTPS for transport security, and using URL for request routing.\n",
       "\n",
       "JSON is a simple, stable, and intuitive data format , which is not expected to change ever. This offers great ease of use and stability to REST APIs. For high performance applications, binary formats can be used instead, such as protobuf or thrift.\n",
       "\n",
       "REST APIs are often designed as CRUD APIs, where API operations are commonly expressed as Create, Retrieve, Update, and Delete operations on resources. CRUD operations are naturally mapped to HTTP methods (POST, GET, PUT/PATCH, and DELETE), and API resources can be naturally identified using URLs.</td><td>REST API is a type of REST API that is used to request a specific object or service. It is used to request a specific object or service. REST APIs are a type of data type that is used to request a specific object or service. REST APIs are typically used to write a REST API, API, and API. REST APIs are typically used to write a REST API, API, and API.</td></tr><tr><td>What is underwriting?</td><td>Underwriting (UW) services are provided by some large financial institutions, such as banks, insurance companies and investment houses, whereby they guarantee payment in case of damage or financial loss and accept the financial risk for liability arising from such guarantee. An underwriting arrangement may be created in a number of situations including insurance, issues of security in a public offering, and bank lending, among others. The person or institution that agrees to sell a minimum number of securities of the company for commission is called the underwriter.\n",
       "\n",
       "The term \"underwriting\" derives from the Lloyd's of London insurance market. Financial backers (or risk takers), who would accept some of the risk on a given venture (historically a sea voyage with associated risks of shipwreck) in exchange for a premium, would literally write their names under the risk information that was written on a Lloyd's slip created for this purpose.</td><td>Underwriting is a process that is responsible for writing a full accounting document, often including accounting for expenses such as insurance, taxes, policy execution, and accounting. Underwriting also involves writing and reviewing documents that are needed to update the accounting document accurately.</td></tr><tr><td>Give me a list of some characteristics of a good coffee shop?</td><td>Some characteristics of good coffee shops include:\n",
       "- Very good coffee, either freshly roasted locally or acquired from a quality roaster\n",
       "- High end coffee grinders, brewing machines, and a high quality espresso machine and well-trained baristas\n",
       "- Different coffee roast options (i.e. medium roast, dark roast) and brewing methods (i.e. drip coffee and pour-over) available\n",
       "- A variety of cafe fare, such as pastries and croissants, available for purchase to accompany coffee\n",
       "- Ample seating, with power outlets available by most seats.</td><td>The following are some characteristics of a good coffee shop:\n",
       "- A cup size selection: Very good coffee, very smoothie, good coffee, very loose and clean cupcakes, good coffee, good temperature control.\n",
       "- B coffee: Very good coffee, very smoothie, good coffee.\n",
       "- Coffee: Very good coffee, good temperature control should be good coffee.</td></tr><tr><td>Please summarize what Linkedin does.</td><td>Linkedin is a social platform that business professionals create profiles on and network with other business professionals. It is used to network, career development, and for jobseekers to find jobs. Linkedin has over 900 million users from over 200 countries. Linkedin can be used to post resumes/CVs, organizing events, joining groups, writing articles, publishing job postings, posting picture, posting videos, and more!</td><td>Linkedin is a social networking service that is based around Linkedin. It is a social networking service that is based around Linkedin. Linkedin is also a social networking service that is based around Linkedin. Linkedin is also a social networking service that is based around Linkedin.</td></tr><tr><td>Who saved Andromeda from the sea monster</td><td>Perseus</td><td>Andromeda could save Andromeda have a life.</td></tr><tr><td>How can I contribute to Spark?</td><td>Yes, Spark is an open source project and anyone can contribute to it.</td><td>Spark is a component in Spark forked. It is built with Spark APIs. It is a component that provides a service to the Spark API.</td></tr><tr><td>Who are ''The Lumières\" ?</td><td>The Lumières (literally in English: The Lights) was a cultural, philosophical, literary and intellectual movement beginning in the second half of the 17th century, originating in western Europe and spreading throughout the rest of Europe. It included philosophers such as Baruch Spinoza, David Hume, John Locke, Edward Gibbon, Voltaire, Jean-Jacques Rousseau, Denis Diderot, Pierre Bayle and Isaac Newton. This movement is influenced by the scientific revolution in southern Europe arising directly from the Italian renaissance with people like Galileo Galilei. Over time it came to mean the Siècle des Lumières, in English the Age of Enlightenment.[Note 1]\n",
       "\n",
       "Members of the movement saw themselves as a progressive élite, and battled against religious and political persecution, fighting against what they saw as the irrationality, arbitrariness, obscurantism and superstition of the previous centuries. They redefined the study of knowledge to fit the ethics and aesthetics of their time. Their works had great influence at the end of the 18th century, in the American Declaration of Independence and the French Revolution.\n",
       "\n",
       "This intellectual and cultural renewal by the Lumières movement was, in its strictest sense, limited to Europe. These ideas were well understood in Europe, but beyond France the idea of \"enlightenment\" had generally meant a light from outside, whereas in France it meant a light coming from within oneself.\n",
       "\n",
       "In the most general terms, in science and philosophy, the Enlightenment aimed for the triumph of reason over faith and belief; in politics and economics, the triumph of the bourgeois over nobility and clergy.</td><td>The Lumières is a fictional character created by American author J. Michael Benduens.</td></tr><tr><td>Using examples taken from the text give me a summary of the main arguments in favour of slavery reparations in the United States and the anticipated cost of enacting such reparations</td><td>In spite of progressive changes since the end of enforcement of Jim Crow and the successes of the fight for civil rights there are still inherent racial inequalities in the USA which negatively affect the civil, political, economic, social and cultural rights of African Americans today.  A United Nations report of 2016 did not endorse a specific reparations proposal, but did call out that there is an ideology of white supremacy present in the population of the United States that inhibits social cohesion.  Further arguments have been made identifying slavery as a cause of mass incarcerations, poverty and other ills that affect today’s African Americans.\n",
       "It could be argued that there is an inherent acknowledgement that the case exists to examine the impact of slavery on the social, political and economic life of the United States in the annual submission to Congress of the \"Commission to Study and Develop Reparation Proposals for African-Americans Act”.  There are also individual cities within the USA which have instituted reparations.  Estimates of the cost to African Americans of the United States’ history of discrimination have been estimated variously at $1.4 trillion, $4.7 trillion, $5.7 trillion, $14.2 trillion and $17.1 trillion.  These estimates express the projected cost in $ to restore the black community to the economic position it would have if it had not been subjected to slavery and discrimination.</td><td>The main arguments against slavery reparations are (1) that the cost to enact reparations was not directly the cost of enacting such reparations, (2) that the cost to enact such reparations would be more upfront (and unnecessary) if the reparations were to be paid for through the reparations it would have to be paid for through the reparations rather than through the reparations themselves; (3) that the cost to enact such reparations would be more upfront and unnecessary (4) that the reparations would have to be paid for through the reparations</td></tr><tr><td>When was the wheel invented?</td><td>No one knows when the wheel was first made. Archaeological evidence seems to show that the wheel was first used to make pottery in Mesopotamia about 7,000 years ago, during the Neolithic period. Later, it was used to make chariots. Chariot wheels have been found in Sumer as early as 3000 BC. The wheel is one of the most important inventions in human history. It was very useful for making pottery and getting around on land. It is also a key part of machines.</td><td>The wheel was invented in 1859</td></tr><tr><td>write a scene between two actors discussing movie Inception</td><td>Actress 1: \"Oh my god, have you seen Inception?\"\n",
       "\n",
       "Actor 2: \"Yes! That movie blew my mind. What did you think of it?\"\n",
       "\n",
       "Actress 1: \"Honestly, I was so confused for most of it. But it was so interesting, I couldn't look away. I had to know what was going on.\"\n",
       "\n",
       "Actor 2: \"That's exactly how I felt. It's one of those movies that you have to pay attention to every detail, or you'll get lost.\"\n",
       "\n",
       "Actress 1: \"Absolutely. And the way they played with time and reality was so cool. I don't think I've ever seen a movie like that before.\"\n",
       "\n",
       "Actor 2: \"Yeah, the concept of entering someone's dreams to implant an idea was mind-boggling. And the way they executed it was so well done.\"\n",
       "\n",
       "Actress 1: \"It was. And the cast was amazing too. Leonardo DiCaprio was incredible as usual, and I loved seeing Ellen Page in a different type of role.\"\n",
       "\n",
       "Actor 2: \"Definitely. And the action scenes were so intense. The zero-gravity hallway fight was insane.\"\n",
       "\n",
       "Actress 1: \"Oh my god, yes. I was on the edge of my seat for that one. And the ending...I still can't decide what it means.\"\n",
       "\n",
       "Actor 2: \"I know, right? It's one of those movies that leaves you with so many questions. But that's part of what makes it so great.\"\n",
       "\n",
       "Actress 1: \"Exactly. I love when movies challenge me to think and leave me wanting more. Inception definitely did that.\"\n",
       "\n",
       "Actor 2: \"Agreed. It's definitely one of my all-time favorites. I could watch it a hundred times and still discover something new.\"\n",
       "\n",
       "Actress 1: \"Same here. It's just one of those movies that sticks with you long after it's over.\"</td><td>The actor discussing movie Inception is a reference to a character in the movie \"The other actor is a character named Harry Potter\". The actor tells a story of Harry and his friends, Harry and Harry, who had been living together in a different house for the previous year. Harry Potter was later revealed to be Harry Potter and his friends Harry Potter was a part of. The actor tells a story of Harry and his friends, Harry and Harry Potter was a part of Harry Potter and his friends Harry Potter was a part of Harry Potter. The actor tells a story of Harry and his friends, Harry Potter was a part of Harry Potter and his</td></tr><tr><td>Did dinosaurs have lips?</td><td>Recent research suggests that the popular perception that dinosaurs had exposed teeth may be incorrect, and the current hypothesis is that the Tyrannosaurus rex did indeed have lips. A 2023 study by Dr Mark Witton of the University of Portsmouth said popular depictions of dinosaurs in movies like Jurassic Park are out of date. The study examined a large tooth that had spent over 500 days in the mouth of a Tyrannosaurus rex with no evidence of substantial wear, which is consistent with all findings of teeth found in the theropod family of dinosaurs. When contrasted with alligators and crocodiles, who have no lips and have more easily damaged teeth the theory says the evidence points to theropods, including Tyrannosaurus rex did indeed have lips. There would have been expected to be wear on the thin enamel on the teeth far more consistent with modern animals like crocodiles if dinosaurs had no lips.</td><td>Yes, dinosaurs were domesticated around 3000 BC.</td></tr><tr><td>Are lilies safe for cats?</td><td>No, lilies are toxic to cats if consumed and should not be kept in a household with cats</td><td>No, lilies are toxic to cats and should be kept in a controlled container at all.  Lilies are toxic to cats and should be kept in a controlled container for safe periods of time.  Lilies should not be kept in a controlled container and should not be kept in a controlled container for safe periods of time.</td></tr><tr><td>What is Sunshine Recession?</td><td>It is known as the deepest period in which sunspots are not virtually visible. Deepest period is related to sun cycle's process called solar minimum</td><td>Sunshine is a temporary permanent permanent permanent permanent permanent permanent permanent disability that extends from March to May and the remainder permanently disabled as of March, inclusive.</td></tr><tr><td>What is the currency in use in the Netherlands?</td><td>The currency in use in the Netherlands is the euro.</td><td>The currency in use in the Netherlands is the euro.</td></tr><tr><td>What is the best tv series in the world</td><td>Dexter- The Dexter is so exciting to watch that it should be the best TV series in the world</td><td>The best tv series in the world is the one where every tv series drama series is produced by a leading middle cast of the same name. The main cast include Tom Brady, Bill Russell, Bill Russell, Bill Russell, and Bill Russell.</td></tr><tr><td>Who was the first to record the Needles and Pins song?</td><td>The first artist to record Needles and Pins song was DeShannon.</td><td>The first to record the Needles was a song by the English rock band The Needles.</td></tr><tr><td>Provide me a list of the different types of harnesses used in rock climbing</td><td>Minimalistic Harness: has gear loops that are sewn on\n",
       "Lightweight Harness: has leg loops that are removable\n",
       "Big Wall Harness: uses padded waist belts and leg loops\n",
       "Full Body Harness: mostly for children with small pelvises, or for scenarios that risk inversion\n",
       "Chest Harness: to be used with a sit harness\n",
       "Caving Harness: made of ultra durable material and multiple attachment points\n",
       "Canyon Harness: has a built-in seat protector for rappeling.</td><td>Cable climbing is a sport that has evolved over time.  The most common types of climbing harnesses are the climbing harnesses, which are built to handle heavy load loads and a variety of load loads.  The most common types of climbing harnesses are the climbing harnesses, which are built to handle heavy load loads and a variety of load loads.</td></tr><tr><td>Think of some family rules to promote a healthy family relationship</td><td>Use Kind words\n",
       "Be grateful\n",
       "Think of others before yourself\n",
       "Work hard\n",
       "Be Honest\n",
       "Be thankful\n",
       "Keep your promises\n",
       "Choose to be happy\n",
       "Always say 'I Love You'\n",
       "Be kind\n",
       "Encourage each other</td><td>1. Give at least 2 to 3 times a week\n",
       "2. Give atleast 3 to 4 times a week\n",
       "3. Give atleast 4 to 4 times a week\n",
       "4. Give atleast 5 to 6 times a week\n",
       "5. Give atleast 6 to 7 times a week\n",
       "6. Give atleast 7 to 8 times a week\n",
       "7. Give atleast 8 to 10 times a week\n",
       "8. Give atleast 9 to 10 times a week\n",
       "9. Give atleast10 to 11 times a week\n",
       "10. Give atleast12 to 13 times a week\n",
       "12. Give atleastWeekend or</td></tr><tr><td>In the series A Song of Ice and Fire, who is the founder of House Karstark?</td><td>Karlon Stark</td><td>Karl-August-Dunkirk</td></tr><tr><td>What is enriched air and why would divers dive with enriched air?</td><td>Enriched air, also known as nitrox, is one kind of air with more than 21% oxygen. 21% oxygen is the normal air we breathe on the earth. The primary benefit of using enriched air is to extend the diver's bottom time, and reduce the need to push to no decompression limit. This advantage is really beneficial in deeper diving. \n",
       "For example, at 80 feet of depth, normal air can last around 30 min, while enriched air of 32% oxygen can last for 45 min and 36% can last for 55 min. \n",
       "While enriched air is really beneficial in extending bottom time, it is important that divers get trained to use it before diving with enriched air.</td><td>Enriched air is a form of air that is used to travel between oceans.  It is used to travel between oceans, but it is used to travel between oceans.  It is used to travel between oceans.  It is used to travel between oceans.  It is used to travel between oceans.  It is used to travel between oceans.  It is used to travel between oceans.  It is used to travel between oceans.  It is used to travel between oceans.  It is used to traveling between oceans.  It is used to traveling between oceans.  It is used to traveling between oceans.  It is used</td></tr><tr><td>What film won the 1943 Oscar as best film</td><td>Casablanca</td><td>The film won the Oscar for best film in 1943 and won the Academy Award for Best Actress in a Screen Actorsdal Award in 1944.</td></tr><tr><td>which weighs more, cold or hot water?</td><td>Cold water weighs more than hot water</td><td>The coldest particular type of water is cold or hot, and the most popular type.  Cold is  blooded but  bloody because it  bloodshemiphthies bloodlines and can also be deadly.  Cold is also very dangerous to human health because it  bloodshemorrhages into the brain and bites many people.  Cold is also very dangerous to human health because it  bloodshemorrhages into the brain and bites many people.  The coldest particular type of water is cold or hot, and the most popular type of water is cold or hot, and the most popular type of water is</td></tr><tr><td>Given this paragraph, what is the top speed of a Kia Stinger?</td><td>The top speed of a Kia Stinger is 269km/h (167mph) according to this text.</td><td>The top speed of a Kia Stinger is approximately 1.5 Torre ON (1,000 km/h) at the time of the launch event.</td></tr><tr><td>Write a short paragraph about why you should not have both a pet cat and a pet bird.</td><td>Having both a pet bird and a pet cat is not a good idea because cats will try to hunt birds, which are naturally the prey of cats. This hunting instinct is completely normal, and it isn't fair to the cat to try to train it not to attack birds, as it is simply in its nature to do so. However, letting a cat hunt your pet bird is similarly not humane, as it will be very stressful to the bird and could lead to the bird being injured. Larger birds are also not a good idea, as the bird could cause injury to the cat if the cat tries to attack it. Overall, it just isn't a good idea to have both cats and birds, since they tend not to coexist well, and pet owners should just pick one species to have.</td><td>Pet cats are a great way to spend loving environments. They are not afraid to let go of their pet as they feel it would be safe to leave them in the wild. Pet owners need to be aware of their pets’ ability to let go of their pet. They are also not afraid to let go of their pet as they feel it would be safe for them to leave.</td></tr><tr><td>What is your favorite strip from the comic Calvin and Hobbes?</td><td>Calvin and Hobbes is an iconic strip that is regarded as one of the best comic strips in history. Individual preferences may vary and it's difficult to find the publishing rate of individual strips throughout its ten year syndication.</td><td>Quo, a popular strip comic strip, is a way to entertain and entertain people with simple yet succinct demeanour. Quo is a comic strip originally from Hobbes, New Jersey, that was created in the mid-nineties. Quo's motto is Quo's Way of Life. Quo's Way of Life is inspired by the life changing realities of the modern day. Quo's Way of Life is inspired by the life changing realities of the modern day.</td></tr><tr><td>What makes a formula one car so fast?</td><td>Formula One cars are one of the fastest racing cars in the world reaching speeds as high as 240 mph.\n",
       "\n",
       "There are many aspects that make formula one cars fast, below are the top few\n",
       "\n",
       "1. Engine:  F1 cars have extremely powerful engines that can generate around 1000 bhp at up to 20,000 rpm\n",
       "2. Power-to-Weight ratio: F1 cars are also extremely light at around 800 kgs giving them a power-to-weight ratio of 12000-1400 hp/ton. For comparison, the best Porsche cars have a power-to-weight ratio of only 300-400 hp/ton.\n",
       "2. Aerodynamics: F1 cars are fitted with extremely sophisticated aerodynamics including a rear wing, front wing and body parts that help reduce aerodynamic drag for straight-line speeds while adding downforce to help around corners\n",
       "3. Tires: F1 tires are extremely large and sticky. This help the cars stick to the road as the car goes through turns very fast.\n",
       "4. Brakes: Lastly F1 brakes are very powerful and can slow down a car extremely quickly. This allows F1 cars to be at top speed for much longer before needing to slow down for taking a turn.</td><td>Formula One cars are designed by a highly specialized and specialized manufacturer.  They are designed to last as long as a lifetime.  Formula One is designed to last as long as a lifetime.  FormulaOne is designed to last as long as a lifetime.</td></tr><tr><td>Without quoting directly from the text give me a summary of the history of the Key Lime Pie.</td><td>Key lime pie is an American dessert pie. It is made of lime juice, egg yolks, and sweetened condensed milk. It is best served with meringue topping and is typically cooked in a graham cracker crust.\n",
       "\n",
       "The dish is named after the small Key limes which which have yellow juice complementing the filling which is typically yellow because of the egg yolks used.\n",
       "\n",
       "The filling is made by simply mixing the ingredients without cooking the proteins of the egg yolks and condensed milk and the acidic lime juice curdle, thickening the mixture without baking.</td><td>The Key Lime Pie was a popular music festival held in Japan from 1989 to 1997. The theme song \"Hey, Hey, Hey, Hey, Hey, Hey, Hey, Hey, Hey, Hey, Hey, Hey, Hey, Hey, Hey, Hey, Hey, Hey, Hey, Hey, Hey, Hey, Hey, Hey, Hey, Hey, Hey, Hey, Hey, Hey, Hey, Hey, Hey, Hey, Hey, Hey, Hey, Hey, Hey, Hey, Hey, Hey, Hey, Hey, Hey, Hey, Hey, Hey, Hey, Hey, Hey, Hey, Hey,</td></tr><tr><td>What is LAPR?</td><td>This stands for life assurance premium relief. Before 14 March 1984 there was tax relief on life insurance premiums paid by policyholders for policies which qualified for tax relief. Policies which started</td><td>Technical stations in the United States, Canada and the United Kingdom use LAPR for station building and maintaining station building software.</td></tr><tr><td>Is beauty objective or subjective?</td><td>The opinions on this question vary from person to person. \n",
       "Statistically, a pattern of preference is easily visible on what people would describe as beautiful. An evident example of this phenomenon is a beauty standard for women and men. Society seems to agree on what features, both physical and internal, can deem a person beautiful. The standard of beauty is also projected beyond humans, onto animal breeds, for example, in cat shows. \n",
       "A link between beauty and how closely it resembles perfection appears to exist. For example, a rose with many petals and no tears or scratches is generally seen as more beautiful than one with fewer, visibly ruined petals. \n",
       "However, the question of perfection also raises a problem as it is difficult and arguably impossible to define perfection. Beauty does not necessarily mean perfection. For example, large eyes are statistically considered to be more attractive however, in terms of their biological  purpose they possess no superiority to small eyes. Therefore, both beauty and perfection depend on the perspective or purpose with which you observe an object.\n",
       "\n",
       "Furthermore, the clear fluctuations through centuries and cultures on what is considered to be beautiful should also be taken into account. Fashion trends and art styles, for instance,  are constantly changing. Additionally, the diversity in opinions suggests there is nothing that is considered beautiful by everyone, so even if the majority deem a particular object or thing as beautiful, it’s beauty remains subjective because it remains based on an ever-changing preference rather than objective truth.</td><td>The subjective is subjective.  It is subjective to some people.  It is subjective to some people.  It is subjective to some people.  It is subjective to some people.  It is subjective to some people.  It is subjective to some people.</td></tr><tr><td>Identify which instrument is string or percussion: Kpanlogo, Shamisen</td><td>Shamisen is string, Kpanlogo is percussion.</td><td>Shamisen is string, Kpanlogo is percussion.</td></tr><tr><td>Why do potato chip bags become stale after opening?</td><td>Potato chip bags are filled with nitrogen! Many consumers think the chip companies are out there to get your money by filling three quarters of your bag with air, but it’s actually nitrogen to keep your chips fresh. This is why once you open the bag, you should finish the chips as soon as possible. There, now you have a reason to finish the whole bag of chips in one go without feeling guilty.</td><td>Potatoes chip bags become stale after opening. When baked, they're stale and taste good. When baked, they're stale and are crispy and crispy, they're crispy. When baked, they're crispy. When baked, they're crispy. When baked, they're crispy. When baked, they're crispy. When baked, they're crispy. When baked, they're crispy. When baked, they're crispy. When baked, they're crispy. When baked, they're crispy. When baked, they're crispy. When baked, they're crispy. When baked</td></tr><tr><td>Classify each of the following as a primary color or a secondary color</td><td>blue, yellow, green, red, purple, orange</td><td>Primary Color: Red, Blue, Green, Blue, Pink, Violet, Pink</td></tr><tr><td>Where are the British Virgin Islands (BVI) and which islands are a part of the BVI?</td><td>The British Virgin Islands (BVI), officially the Virgin Islands, are a British Overseas Territory in the Caribbean, to the east of Puerto Rico and the US Virgin Islands and north-west of Anguilla. The islands are geographically part of the Virgin Islands archipelago and are located in the Leeward Islands of the Lesser Antilles and part of the West Indies.\n",
       "\n",
       "The British Virgin Islands consist of the main islands of Tortola, Virgin Gorda, Anegada and Jost Van Dyke, along with more than 50 other smaller islands and cays.</td><td>BVI is the British Virgin Islands, which is a part of the BVI mainland.</td></tr><tr><td>Does \"outbreeding\" or \"inbreeding\" benefit the offspring more?</td><td>\"Outbreeding\" is more beneficial to the offspring as it reduces the risk of inheriting defective genes, increasing the offspring's ability to reproduce.</td><td>Inbreeding the offspring to the offspring of a mate is what makes the offspring offspring fertile.  Inbreeding the offspring to the offspring of a mate alters the behavior of the offspring and produces a \"clear and convincing picture\".  Inbreeding the offspring to the offspring of a mate alters the \"clear and convincing picture\" of the offspring.  Inbreeding the offspring to the offspring of a mate alters the \"clear and convincing picture\" of the offspring.</td></tr><tr><td>What is the future for human?</td><td>This is a very wide open question. It could be two directions. One direction is that human would just disappear like the dinosaur.  One direction is that human would become a species like a god. For the first direction, it may be caused by many situations. e.g. Nuclear war from WW3, extreme climate change. For the other direction, reproduced energy is ready, all cancers can be cured, everything can be done with robot with AI, human life is unlimited.</td><td>The future for human is uncertain, uncertain and uncertain. The present scenario would be the best scenario, since humans do not have the same preferences as humans, and humans do not have the same preferences.</td></tr><tr><td>Name some of the bravolebrities from Vanderpump Rules</td><td>James Kennedy, Katie Maloney, Raquel Leviss, Tom Sandoval, Ariana Madix, Tom Schwartz and Lala Kent</td><td>1. Vanderpump\n",
       "2. Vanderpump\n",
       "3. The Wild Thing\n",
       "4. The Wild Thing \n",
       "5. The Wild Thing \n",
       "6. The Wild Thing \n",
       "7. The Wild Thing \n",
       "8. The Wild Thing \n",
       "9. The Wild Thing \n",
       "10. The Wild Thing \n",
       "11. The Wild Thing \n",
       "12. The Wild Thing \n",
       "13. The Wild Thing \n",
       "14. The Wild Thing \n",
       "15. The Wild Thing \n",
       "16. The Wild Thing</td></tr><tr><td>Name some famous rock bands from the 1960s</td><td>The 1960s had a number of famous rock bands including The Beatles, The Beach Boys, The Doors, The Rolling Stones, The Who, Led Zeppelin, The Grateful Dead, Pink Floyd, and many more.</td><td>Dance, Rock and Roll\n",
       "Rock and Roll\n",
       "Rock and Roll\n",
       "Rock and Roll\n",
       "Rock and Roll\n",
       "\n",
       "Pop music</td></tr><tr><td>Who is Muhammad Ejaz Shafi</td><td>Muhammad Ejaz Shafi is a Pakistani politician who was a Member of the Provincial Assembly of the Punjab, from 2002 to May 2018. He was born on 1 May 1969 in Khanpur.</td><td>Born: Muhammad Iqayyar, Muhammed Imam\n",
       "Born: Muhammad Iqayyar, Muhammed Theodoreed, Muhammed Theodoreed, Shafi</td></tr><tr><td>Who invented the telephone?</td><td>In 1876, Alexander Graham Bell was the first to obtain a United States patent for a device that produced a clearly intelligible replica of the human voice on a second device.\n",
       "A resolution passed by the United States House of Representatives on June 11, 2002 called for recognition of Antonio Meucci's work and contributions towards the invention of the telephone.</td><td>Eric Cantor</td></tr><tr><td>Who are the Smiths?</td><td>The Smiths were an English rock band from the 1980s. The lead singer was Morrissey. The other band members were: Johnny Marr on guitar, Andy Rourke on bass, and Mike Joyce on drums.</td><td>The Smiths are a professional American football team based in the United States that plays the football state championship in the National Football League (NFL).</td></tr><tr><td>Give me five ways in which I can make my homebrew beer more interesting</td><td>There are infinite ways to create interesting flavours, that are either personal favourites or attempt to replicate classic beers and beer styles. There are a number of factors that make up a beers flavour profile and part of the enjoyment brewing your own beer at home, is that you can play around with each of these to change the flavour and character of your homebrew beer. Here are five ways in which you can change your own homebrew recipe to add interesting flavours or alternatively you can alter an existing homebrew recipe shared by somebody else or a brewery.\n",
       "\n",
       "1. Use different hops\n",
       "There is a huge variety of hops available to homebrewers and each of these can introduce its own particular flavour and aroma to your beer, ranging from pineapple and apricots, to pine trees and woods, to grapefruit pith and lemon zest. By using a different hop in your recipe either from the same family or from an entirely different family of hops, you can easily add interesting and often radical changes to the flavour profile of your beer. However, depending on when the hops are added in the brewing process, you can also increase/decrease the levels of bitterness of your beer, due to different hop varieties having different levels of alpha acids.\n",
       "\n",
       "2. Use a different yeast\n",
       "Besides fermenting the beer, yeast leave behind lots of interesting flavours and can give your homebrew it's own subtle character. For example, English yeast strains can add malty and sweet flavours, California yeast tends to create a clean and crisp beer, whilst saison yeast adds bright and fruity flavours to your beer.\n",
       "\n",
       "3. Use different grains\n",
       "Changing the amount of base malts can increase or decrease the alcohol in your finished beer. Trying swapping one base malt for another, like American pale malts for a British variety, and look for the subtle differences between them. You can also play around with the specialty grains, like using a slightly darker roast.\n",
       "\n",
       "4. Add fruit, spices or herbs\n",
       "Fruits, spices, herbs, and other ingredients are a great way to add an entirely personal character to your homebrew. Anything from fresh strawberries and basil to vanilla beans and cardamom can really complement the other malty, hoppy flavours in a beer. \n",
       "\n",
       "5. Alter your water profile\n",
       "Different beer styles will typically be best achieved with a suitable water profile, with different levels of minerals to achieve the desired flavour profile. By adjusting the amounts of specific minerals found in your brewing water, beer can be made to taste fuller bodied, sweeter, drier, more bitter, or even sour.</td><td>1. Beer is a form of energy-disposable item that comes from a product that is made from a variety of different sources.\n",
       "2. Beer is not designed for simple activity, it is made from a variety of different sources.\n",
       "3. Beer is not designed for simple activity, it is made from a variety of different sources.\n",
       "4. Beer is not designed for simple activity, it is made from a variety of different sources.\n",
       "5. Beer is designed for simple activity, it is made from a variety of different sources.\n",
       "6. Beer is designed for simple activity, it is made from a variety of different</td></tr><tr><td>How many Grammy Awards has Bad Bunny won?</td><td>Bad Bunny has won 2 Grammy Awards and has been nominated for 6</td><td>50 Grammy Awards have been won by a record number of Grammy Awards.</td></tr><tr><td>When was the first Reading railway station opened?</td><td>The first Reading railway station was opened on the 30th of March, 1840.</td><td>On 4 April 1900, the first Reading railway station was opened.</td></tr><tr><td>What is HiFI?</td><td>Bell Laboratories began experimenting with a range of recording techniques in the early 1930s. Performances by Leopold Stokowski and the Philadelphia Orchestra were recorded in 1931 and 1932 using telephone lines between the Academy of Music in Philadelphia and the Bell labs in New Jersey. Some multitrack recordings were made on optical sound film, which led to new advances used primarily by MGM (as early as 1937) and Twentieth Century Fox Film Corporation (as early as 1941). RCA Victor began recording performances by several orchestras using optical sound around 1941, resulting in higher-fidelity masters for 78-rpm discs. During the 1930s, Avery Fisher, an amateur violinist, began experimenting with audio design and acoustics. He wanted to make a radio that would sound like he was listening to a live orchestra—that would achieve high fidelity to the original sound. After World War II, Harry F. Olson conducted an experiment whereby test subjects listened to a live orchestra through a hidden variable acoustic filter. The results proved that listeners preferred high-fidelity reproduction, once the noise and distortion introduced by early sound equipment was removed.[citation needed]\n",
       "\n",
       "Beginning in 1948, several innovations created the conditions that made major improvements of home-audio quality possible:\n",
       "\n",
       "Reel-to-reel audio tape recording, based on technology taken from Germany after WWII, helped musical artists such as Bing Crosby make and distribute recordings with better fidelity.\n",
       "The advent of the 33⅓ rpm Long Play (LP) microgroove vinyl record, with lower surface noise and quantitatively specified equalization curves as well as noise-reduction and dynamic range systems. Classical music fans, who were opinion leaders in the audio market, quickly adopted LPs because, unlike with older records, most classical works would fit on a single LP.\n",
       "Higher quality turntables, with more responsive needles\n",
       "FM radio, with wider audio bandwidth and less susceptibility to signal interference and fading than AM radio.\n",
       "Better amplifier designs, with more attention to frequency response and much higher power output capability, reproducing audio without perceptible distortion.\n",
       "New loudspeaker designs, including acoustic suspension, developed by Edgar Villchur and Henry Kloss with improved bass frequency response.\n",
       "In the 1950s, audio manufacturers employed the phrase high fidelity as a marketing term to describe records and equipment intended to provide faithful sound reproduction. Many consumers found the difference in quality compared to the then-standard AM radios and 78-rpm records readily apparent and bought high-fidelity phonographs and 33⅓ LPs such as RCA's New Orthophonics and London's FFRR (Full Frequency Range Recording, a UK Decca system). Audiophiles paid attention to technical characteristics and bought individual components, such as separate turntables, radio tuners, preamplifiers, power amplifiers and loudspeakers. Some enthusiasts even assembled their own loudspeaker systems. With the advent of integrated multi-speaker console systems in the 1950s, hi-fi became a generic term for home sound equipment, to some extent displacing phonograph and record player.\n",
       "\n",
       "In the late 1950s and early 1960s, the development of stereophonic equipment and recordings led to the next wave of home-audio improvement, and in common parlance stereo displaced hi-fi. Records were now played on a stereo. In the world of the audiophile, however, the concept of high fidelity continued to refer to the goal of highly accurate sound reproduction and to the technological resources available for approaching that goal. This period is regarded as the \"Golden Age of Hi-Fi\", when vacuum tube equipment manufacturers of the time produced many models considered superior by modern audiophiles, and just before solid state (transistorized) equipment was introduced to the market, subsequently replacing tube equipment as the mainstream technology.\n",
       "\n",
       "In the 1960s, the FTC with the help of the audio manufacturers came up with a definition to identify high fidelity equipment so that the manufacturers could clearly state if they meet the requirements and reduce misleading advertisements.\n",
       "\n",
       "The metal–oxide–semiconductor field-effect transistor (MOSFET) was adapted into a power MOSFET for audio by Jun-ichi Nishizawa at Tohoku University in 1974. Power MOSFETs were soon manufactured by Yamaha for their hi-fi audio amplifiers. JVC, Pioneer Corporation, Sony and Toshiba also began manufacturing amplifiers with power MOSFETs in 1974. In 1977, Hitachi introduced the LDMOS (lateral diffused MOS), a type of power MOSFET. Hitachi was the only LDMOS manufacturer between 1977 and 1983, during which time LDMOS was used in audio power amplifiers from manufacturers such as HH Electronics (V-series) and Ashly Audio, and were used for music and public address systems. Class-D amplifiers became successful in the mid-1980s when low-cost, fast-switching MOSFETs were made available. Many transistor amps use MOSFET devices in their power sections, because their distortion curve is more tube-like.\n",
       "\n",
       "A popular type of system for reproducing music beginning in the 1970s was the integrated music centre—which combined a phonograph turntable, AM-FM radio tuner, tape player, preamplifier, and power amplifier in one package, often sold with its own separate, detachable or integrated speakers. These systems advertised their simplicity. The consumer did not have to select and assemble individual components or be familiar with impedance and power ratings. Purists generally avoid referring to these systems as high fidelity, though some are capable of very good quality sound reproduction.\n",
       "\n",
       "Audiophiles in the 1970s and 1980s preferred to buy each component separately. That way, they could choose models of each component with the specifications that they desired. In the 1980s, a number of audiophile magazines became available, offering reviews of components and articles on how to choose and test speakers, amplifiers, and other components.\n",
       "\n",
       "Listening tests\n",
       "See also: Codec listening test\n",
       "Listening tests are used by hi-fi manufacturers, audiophile magazines, and audio engineering researchers and scientists. If a listening test is done in such a way that the listener who is assessing the sound quality of a component or recording can see the components that are being used for the test (e.g., the same musical piece listened to through a tube power amplifier and a solid-state amplifier), then it is possible that the listener's pre-existing biases towards or against certain components or brands could affect their judgment. To respond to this issue, researchers began to use blind tests, in which listeners cannot see the components being tested. A commonly used variant of this test is the ABX test. A subject is presented with two known samples (sample A, the reference, and sample B, an alternative), and one unknown sample X, for three samples total. X is randomly selected from A and B, and the subject identifies X as being either A or B. Although there is no way to prove that a certain methodology is transparent, a properly conducted double-blind test can prove that a method is not transparent.\n",
       "\n",
       "Blind tests are sometimes used as part of attempts to ascertain whether certain audio components (such as expensive, exotic cables) have any subjectively perceivable effect on sound quality. Data gleaned from these blind tests is not accepted by some audiophile magazines such as Stereophile and The Absolute Sound in their evaluations of audio equipment. John Atkinson, current editor of Stereophile, stated that he once purchased a solid-state amplifier, the Quad 405, in 1978 after seeing the results from blind tests, but came to realize months later that \"the magic was gone\" until he replaced it with a tube amp. Robert Harley of The Absolute Sound wrote, in 2008, that: \"...blind listening tests fundamentally distort the listening process and are worthless in determining the audibility of a certain phenomenon.\"\n",
       "\n",
       "Doug Schneider, editor of the online Soundstage network, refuted this position with two editorials in 2009. He stated: \"Blind tests are at the core of the decades' worth of research into loudspeaker design done at Canada's National Research Council (NRC). The NRC researchers knew that for their result to be credible within the scientific community and to have the most meaningful results, they had to eliminate bias, and blind testing was the only way to do so.\" Many Canadian companies such as Axiom, Energy, Mirage, Paradigm, PSB, and Revel use blind testing extensively in designing their loudspeakers. Audio professional Dr. Sean Olive of Harman International shares this view.</td><td>HiFI is a new and exciting way to learn financial management. I've been looking for companies that are looking to diversify my investments globally. I've been looking for companies that are looking to diversify my investments globally. I've been looking for companies that are looking to diversify my investments globally. I've also been looking for companies that are looking to diversify my investments globally.</td></tr><tr><td>What is a brown eared pheasant?</td><td>The brown eared pheasant is a large dark brown pheasant native to the mountain forests of northeastern China. It has distinctive white ear covert behind the eyes that look like a moustache. It's crown is black with red bare facial skin, and it has a tail with long, white, curve, loose, dark-tipped feathers.</td><td>A brown eared is a type of eared which is a type of eared that is a type of eared that is a type of eared that is a type of eared that is a type of eared that is a type of eared that is a type of eared that is a type of eared that is a type of eared that is a type of eared that is a type of eared that is a type of eared that is a type of eared that is a type of eared that is a type of eared that is a type of eared that is a type of e</td></tr><tr><td>Which of these are rappers? Eminem, Michael Jackson, Rihanna, 50 Cent</td><td>Eminem, 50 Cent</td><td>Eminem, 50 Cent</td></tr><tr><td>Is it true that Lewis Hamilton won the championship in his first F1 season?</td><td>Lewis Hamilton did not win the F1 world driver's championship in his rookie season in 2007. The title went to Kimi Räikkönen in the Ferrari team. Hamilton finished runner up, in second place, after a close battle with both Ferrari and his teammate Fernando Alonso.</td><td>Absolutely not. Hamilton was the first driver to win the championship in his first season with the team. He was the driver for the Netherlands side in 2007, and Hamilton was the only driver to win the championship this season.</td></tr><tr><td>What are some kinds of embroidery stitches for writing letters?</td><td>Some embroidery stitches that can be used to embroider letters are the back stitch, the split stitch, the stem stitch, the chain stitch, the couching stitch, and the satin stitch.</td><td>There are many types of embroideries which can be used either in a home decoration company or in a manufacturing company.  You can choose from a variety of brands and brands that offer a wide variety of designs depending on your specific needs.  You can choose from a variety of brands and brands that offer a wide variety of designs.  You can choose from a variety of brands and brands that offer a wide variety of designs.</td></tr><tr><td>What are the most common injuries in rowing?</td><td>The most common injuries in rowing are inflammation of the knees, spine and forearms. Oher common injuries also include hand blisters and track bites.</td><td>Rowing is a sport that involves catching a ball in the air, and being able to catch the ball using either a ball or head throw. Rowing is common in aerospace sports, and rowing can be as common in aerospace sports as in aerospace sports.</td></tr><tr><td>What is a kite?</td><td>A kite is a toy that can be be purchased in a store or a specialty shop.  It is a craft that is lighter an air that is tied to a string that you can fly on wind currents.  The kite has wings that react against the air to create lift enabling it to fly.  You can fly a kite at a park or an open area, and you will want to make sure there are no power lines nearby to be safe when flying the kite.</td><td>A kite is a light fixture placed on a bench or bench for a number of years. It is a simple affair that requires a lot of energy and energy to accomplish tasks. The typical kite consists of a pulley, harnessed pulley, harnessed pulleys, and pulleys. The pulleys are powered with a series of pulleys to keep the pulleys pulleys pulleys puligned with the right pulleys. Each pulley is powered with pulleys that are driven by the pulley and harness.</td></tr><tr><td>Classify each of the following pieces of equipment according to the sport they are used for, either basketball, football, or soccer: shin guards, shooting sleeve, penalty flag, corner flag, kicking tee, and goalie gloves.</td><td>The classification is as follows:\n",
       "- Soccer: goalie gloves, corner flag\n",
       "- Basketball: shooting sleeve\n",
       "- Football: penalty flag, kicking tee</td><td>The classification is as follows:\n",
       "1. Forward hooping: goalie glove; goalie gloves; goalie gloves; goalie gloves; goalie gloves; goalie gloves; goalie gloves; goalie gloves; goalie gloves; goalie gloves</td></tr><tr><td>Given this paragraph about Billie Eilish, tell me who produced her debut single, also tell me what is her chart-topping single?</td><td>Her brother Finneas O'Connell produced her debut single \"Ocean Eyes\", and her chart topping single is \"Bad Guy\"</td><td>Billie Eilish was the first woman to win the Best Play award for Women.</td></tr><tr><td>What is a good way to get around without a car?</td><td>If you live in a city you can access public transport such as buses and trains. You can also walk, use a bicycle, or electric scooter to get around.</td><td>There are many ways to get around without a car. You can find many online forums, blogs, or blogs that provide a list of things to consider for your trip. You can also browse the local listings of places to visit, read a book or visit a local bookstore, or read a book on your local car park. You can also search for places to visit bookstore door-to-door, or browse books on your local bookstore.</td></tr><tr><td>Identify which animal species is alive or extinct: Palaeophis, Giant Tortoise</td><td>Giant Tortoise is alive, Palaeophis is extinct.</td><td>Goncalion is alive, Palaeophis is extinct.</td></tr><tr><td>Why is Santa Cruz, California a great place to live?</td><td>Santa Cruz, California has one of the best climates in the continental U.S. – being close to the Pacific Ocean, temperatures stay warmer in the winters and cooler in the summers, but without the dreaded fog that nearby cities like San Francisco or Monterey experience. The small city is world-famous for surfing, and the relaxed vibe that comes with it. Natural beauty is abundant, with the mountains and beach only a few miles apart.</td><td>Santa Cruz, California is a great place to live in the pacific northwest.  Santa Cruz, California is a great place to live in the pacific northwest.  Santa Cruz, California is a great place to live in the pacific northwest.  Santa Cruz, California is a great place to live in the pacific northwest.  Santa Cruz, California is a great place to live in the pacific northwest.  Santa Cruz, California is a great place to live in the pacific northwest.</td></tr><tr><td>Give me some ideas to manage my manager.</td><td>1. Be honest\n",
       "2. Communicate\n",
       "3. Understand goals\n",
       "4. Stay calm\n",
       "5. Solve problems\n",
       "6. Be positive\n",
       "7. Share your knowledge\n",
       "8. Be caring\n",
       "9. Practice positive reinforcement\n",
       "10. Be a strong performer</td><td>Here are some ideas to manage your manager:\n",
       "1. Create a list of tasks to manage your team\n",
       "2. Create a list of tasks to manage your team\n",
       "3. Create a list of tasks to manage your team\n",
       "4. Create a list of tasks to manage your team\n",
       "5. Create a list of tasks to manage your team\n",
       "6. Create a list of tasks to manage your team\n",
       "7. Create a list of tasks to manage your team\n",
       "8. Create a list of tasks to manage your team\n",
       "9. Create a list of tasks to manage your team\n",
       "10. Create a list of tasks to manage your</td></tr><tr><td>Who was boxer John Baldwin</td><td>Born in Detroit, John Baldwin was a professional US boxer.  He fought in the Light-Middleweight category and won a bronze medal in the 1968 Olympics.   He turned pro in 1970, and lost a decision to Marvin Hagler in 1975.  He retired in 1979</td><td>John B. Reilly</td></tr><tr><td>Identify which instrument is string or percussion: Samphor, Viola toeria</td><td>Viola toeria is string, Samphor is percussion.</td><td>Viola, Viola toeria is string, Samphor is percussion.</td></tr><tr><td>If we were playing a game where we had to identify things that can be found inside a house, which of these would we call out: car, chair, table, park, cloud, microwave.</td><td>Inside a house you can find a chair, a table and a microwave. Cars, clouds and parks are found outside of houses.</td><td>Car is a game.\n",
       "\n",
       "While chairs are commonly used as bedding for various purposes, the chair and table are different pieces of furniture.\n",
       "\n",
       "Tables and chairs are different pieces of furniture.\n",
       "\n",
       "Tables and chairs are different pieces of furniture.\n",
       "\n",
       "Outside, the microwave is a microwave.</td></tr><tr><td>Classify the following as either dark-colored beers or light colored beers: porter, pilsner, stout, amber, lager</td><td>Dark-colored beers: porter, stout, amber\n",
       "Light-colored beers: pilsner, lager</td><td>Porrager: Dark-colored\n",
       "Pilsner: Old-school-style\n",
       "Ambrell: Old-school-style\n",
       "Lager: Old-school-style</td></tr><tr><td>Give me a bulleted list of the 5 highest mountains in the world and their respective heights in meters</td><td>* Mount Everest. Height: 8,849 meters\n",
       "* K2. Height: 8,611 meters\n",
       "* Kangchenjunga. Height: 8,586 meters\n",
       "* Lhotse. Height: 8,516 meters\n",
       "* Makalu. Height: 8,485 meters</td><td>1. Khushiyake highway in the US\n",
       "2. Yamagata River in the US\n",
       "3. Yamagata River in the US\n",
       "4. Yamagata River in the US</td></tr><tr><td>Extract all of the dates mentioned in this paragraph and list them using bullets in the format {Date} - {Description}</td><td>• November 16, 1813 - This is when Daniel Leavitt was born\n",
       "• 1838 - This is when Daniel Leavitt married his wife Ruth Jeannette Ball.</td><td>The date mentioned in this paragraph is the beginning of the US Census with the year of the birth of the US Census Bureau.</td></tr><tr><td>Which products apple sell?</td><td>Apple sells variety of products. including watches, phones, laptops and computers.</td><td>Apple sells products that sell in North America, internationally, are made by hand from hand set together made by hand set together made by hand set.</td></tr><tr><td>Write a short story about a person who discovers a hidden room in their house. The story should include a plot twist and a clear resolution at the end.</td><td>It was going to be a long day.  With her brother-in-law out of town, Lisa had agreed to watch her niece Stella for the afternoon and the little girl was known to be a bit of a handful. Her plan had been to spend the afternoon at the park to let Stella run and climb, to wear her out a bit.  Unfortunately, this outing was foiled by the constant downpour of rain so Lisa resigned herself to a day inside with the tiny tyrant. Stella arrived early and excited to play.  Lisa decided to begin with a game of hide and seek, after all this could take up a good part of the morning without too much trouble.  Stella ran off to hide and Lisa sat quietly drinking coffee while calling out to the little girl, pretending to seek. Eventually she set off to find the little girl but soon she realized that something was wrong.  No matter where she looked, Stella was nowhere to be found. The house wasn't that large, making her disappearance even more perplexing.  Lisa had only recently moved into the home that she bought from her great aunt shortly before her death and she hasn't even moved out all of the existing furniture. Maybe Stella had gotten stuck somewhere behind the large wardrobe in the bedroom or she had climbed up into a cupboard in the laundry room.  Panic was starting to settle in as she moved the wardrobe further from the wall, where only a small child could have hidden before.  Suddenly, saw a small crack in the wall, and then realized it was a small door that she never knew was there.  The door was slightly ajar and she eventually moved the wardrobe enough to open the door and climb inside. What was this place?  The entrance opened up to reveal a small room that Lisa never knew existed!  It was full of treasure, gold bars and jewels.  Stella sat in the middle of the room quietly playing with the treasure, unaware of the immense value she was surrounded by.  Lisa had known her aunt was a secretive woman but this was an incredible find and would change her life forever.  Stella's visit was the good luck charm she needed to unlock this bounty and she would be forever grateful to the little girl!  Time to call her brother-in-law to thank him for letting Stella visit.</td><td>The story should include a plot twist and a clear resolution at the end.  This is a story that involves a series of mysteries that involve hidden rooms in hidden rooms that involve hidden rooms.  The story should include a plot twist and a clear resolution at the end.  The story should include a plot twist and a clear resolution at the end.</td></tr><tr><td>Please describe  what is oil and give me a list of it’s applications.</td><td>An oil is a chemical substance that is composed primarily of hydrocarbons and may be animal, vegetable or petrochemical in origin.\n",
       "Oil is used in a wide range of applications and is essential to everyday human life. These are:\n",
       "Cooking - edible vegetable and animal oils are used for various purposes in cooking and food preparation\n",
       "Cosmetics - most facial cleansers, lotions and hair care products contain molecules that come from mineral and vegetable oils\n",
       "Fuel - crude oil is refined and converted to diesel, gasoline or jet fuel to power cars, trucks and planes\n",
       "Heating - petrochemical oil is used for heating\n",
       "Painting - oil is used as a supporting medium for paints\n",
       "Lubrication - oils are used in various engineering purposes as they do not easily adhere to other substance which makes them useful as lubricants\n",
       "Religion - oil has been used throughout history as a religious medium. It is often considered a spiritually purifying agent and is used to anointing purposes\n",
       "Health - oils holds lots of fats and medical properties, for example fish oil holds the omega-3 fatty acid which helps with inflammation and reduces fat in the bloodstream</td><td>The oil and give me a list of it’s applications.</td></tr><tr><td>List 6 different types of rain in Seattle</td><td>1. Mist\n",
       "2. Drizzle\n",
       "3. Sleet\n",
       "4. Downpour\n",
       "5. Freezing Rain\n",
       "6. Sun Shower</td><td>Rain in Seattle is typically from April to September, which is warmer in the winter and typically less in the summer. Rain in the summer is typically from April to September and typically includes the rain in October and November. Rain in November is typically from April to September and typically includes the rain in November and November. Rain in November is typically from October to December and typically includes the rain in October and November. Rain in November is typically from September to December and includes the rain in October and November. Rain in November is typically from October to December and includes the rain in October and November. Rain in November is typically from October to December and includes</td></tr><tr><td>What is investment banking?</td><td>Investment banking pertains to certain activities of a financial services company or a corporate division that consist in advisory-based financial transactions on behalf of individuals, corporations, and governments. Traditionally associated with corporate finance, such a bank might assist in raising financial capital by underwriting or acting as the client's agent in the issuance of debt or equity securities. An investment bank may also assist companies involved in mergers and acquisitions (M&A) and provide ancillary services such as market making, trading of derivatives and equity securities, FICC services (fixed income instruments, currencies, and commodities) or research (macroeconomic, credit or equity research). Most investment banks maintain prime brokerage and asset management departments in conjunction with their investment research businesses. As an industry, it is broken up into the Bulge Bracket (upper tier), Middle Market (mid-level businesses), and boutique market (specialized businesses).\n",
       "\n",
       "Unlike commercial banks and retail banks, investment banks do not take deposits.</td><td>Invest in real estate before investing, and investing is the process by which investors use money to invest.  The process by which investors can invest is called \"investment capitalization\".  Invest in real estate before investing is the process by which investors use money to invest.  Invest in real estate before investing is the process by which investors use money to invest.  Invest in real estate before investing is the process by which investors use money to invest.</td></tr></tbody></table></div>"
      ]
     },
     "metadata": {
      "application/vnd.databricks.v1+output": {
       "addedWidgets": {},
       "aggData": [],
       "aggError": "",
       "aggOverflow": false,
       "aggSchema": [],
       "aggSeriesLimitReached": false,
       "aggType": "",
       "arguments": {},
       "columnCustomDisplayInfos": {},
       "data": [
        [
         "When did Virgin Australia start operating?",
         "Virgin Australia commenced services on 31 August 2000 as Virgin Blue, with two aircraft on a single route.",
         "Virgin Australia started operating in the year 2000 as Virgin Australia's Virgin Group. Virgin Australia started operating in the year 2000 as Virgin Australia's Virgin Group."
        ],
        [
         "Which is a species of fish? Tope or Rope",
         "Tope",
         "Tope"
        ],
        [
         "Why can camels survive for long without water?",
         "Camels use the fat in their humps to keep them filled with energy and hydration for long periods of time.",
         "Cream is a popular type of animal for humans.  It is a plant that is used to give food to camels and camels.  Cream is a plant that is used to give water to camels and camels crave food.  Cream is also a plant which is used to give water to camels and camels crave food.  Cream is also a plant which is used to give water to camels and camels have a similar life to their camels."
        ],
        [
         "Alice's parents have three daughters: Amy, Jessy, and what’s the name of the third daughter?",
         "The name of the third daughter is Alice",
         "Alice's mother was raised by her mother, Amy. She was raised by two siblings and a step-brother. She was raised by two siblings and a step-brother."
        ],
        [
         "When was Tomoaki Komorida born?",
         "Tomoaki Komorida was born on July 10,1981.",
         "No written notice or 3rd world war"
        ],
        [
         "If I have more pieces at the time of stalemate, have I won?",
         "No. \nStalemate is a drawn position. It doesn't matter who has captured more pieces or is in a winning position",
         "-  -  -  -  -  -  -  -  -  -  -  -  -  -  -  -  -  -  - - the sum of the two contributions?"
        ],
        [
         "Given a reference text about Lollapalooza, where does it take place, who started it and what is it?",
         "Lollapalooze is an annual musical festival held in Grant Park in Chicago, Illinois. It was started in 1991 as a farewell tour by Perry Farrell, singe of the group Jane's Addiction. The festival includes an array of musical genres including alternative rock, heavy metal, punk rock, hip hop, and electronic dance music. The festivals welcomes an estimated 400,000 people each year and sells out annually. Some notable headliners include: the Red Hot Chili Peppers, Chance the Rapper, Metallica, and Lady Gage. Lollapalooza is one of the largest and most iconic festivals in the world and a staple of Chicago.",
         "Lollapalooza is a commune in the Central Switzerland- Switzerland. It has a population of 1.5 billion people."
        ],
        [
         "Who gave the UN the land in NY to build their HQ",
         "John D Rockerfeller",
         "The UN was founded in 1957 by the UN and the HQ is located in New York City."
        ],
        [
         "Why mobile is bad for human",
         "We are always engaged one phone which is not good.",
         "Mobile phones have become a major technology in recent years due to the huge number of devices and mobile operating models being developed and over the years the proliferation of mobile devices has grown. Mobile phones have become a major technology in recent years due to the huge number of mobile devices, mobile operating models being developed and over the years the proliferation of mobile devices has grown."
        ],
        [
         "Who was John Moses Browning?",
         "John Moses Browning is one of the most well-known designer of modern firearms.  He started building firearms in his father's shop at the age of 13, and was awarded his first patent when he was 24.\n\nHe  designed the first reliable automatic pistol, and the first gas-operated firearm, as well inventing or improving single-shot, lever-action, and pump-action rifles and shotguns.\n\nToday, he is most well-known for the M1911 pistol, the Browning Automatic Rifle, and the Auto-5 shotgun, all of which are in still in current production in either their original design, or with minor changes.  His M1911 and Hi-Power pistols designs are some of the most reproduced firearms in the world today.",
         "John Moses Browning (born 30 January 1933 in Bantham, Hertfordshire, England) is an English guitarist, songwriter, and musician. He is known for his live performances and repertoire of popular songs."
        ],
        [
         "Who is Thomas Jefferson?",
         "Thomas Jefferson (April 13, 1743 – July 4, 1826) was an American statesman, diplomat, lawyer, architect, philosopher, and Founding Father who served as the third president of the United States from 1801 to 1809. Among the Committee of Five charged by the Second Continental Congress with authoring the Declaration of Independence, Jefferson was the Declaration's primary author. Following the American Revolutionary War and prior to becoming the nation's third president in 1801, Jefferson was the first United States secretary of state under George Washington and then the nation's second vice president under John Adams.\n\nAmong the nation's Founding Fathers, Jefferson is considered unmatched in his intellectual depth and breadth. His passionate writings and advocacy for human rights, including freedom of thought, speech, and religion, were a leading inspiration behind the American Revolution, which ultimately gave rise to the American Revolutionary War, American independence, and the United States Constitution. Jefferson's ideas were globally influential in shaping and inspiring the Age of Enlightenment, which proved transformational in the late 17th and 18th centuries. He was a leading proponent of democracy, republicanism, and individual rights, and produced formative documents and decisions at the state, national, and international levels.\n\nDuring the American Revolution, Jefferson represented Virginia in the Second Continental Congress in Philadelphia, which adopted the Declaration of Independence on July 4, 1776. As a Virginia legislator, he drafted a state law for religious freedom. He served as the second Governor of Virginia from 1779 to 1781, during the Revolutionary War. In 1785, Jefferson was appointed the United States Minister to France, and subsequently, the nation's first secretary of state under President George Washington from 1790 to 1793. Jefferson and James Madison organized the Democratic-Republican Party to oppose the Federalist Party during the formation of the First Party System. With Madison, he anonymously wrote the Kentucky and Virginia Resolutions in 1798 and 1799, which sought to strengthen states' rights by nullifying the federal Alien and Sedition Acts.\n\nJefferson and Federalist John Adams became friends as well as political rivals, serving in the Continental Congress and drafting the Declaration of Independence together. In the 1796 presidential election between the two, Jefferson came in second, which according to electoral procedure at the time, made him vice president to Adams. Jefferson challenged Adams again in 1800 and won the presidency. After his term in office, Jefferson eventually reconciled with Adams and they shared a correspondence that lasted 14 years. He and Adams both died on the same day, July 4, 1826, which was also the 50th anniversary of Declaration of Independence.\n\nAs president, Jefferson pursued the nation's shipping and trade interests against Barbary pirates and aggressive British trade policies. Starting in 1803, he promoted a western expansionist policy with the Louisiana Purchase, which doubled the nation's claimed land area. To make room for settlement, Jefferson began the process of Indian tribal removal from the newly acquired territory. As a result of peace negotiations with France, his administration reduced military forces. He was re-elected in 1804, but his second term was beset with difficulties at home, including the trial of former vice president Aaron Burr. In 1807, American foreign trade was diminished when Jefferson implemented the Embargo Act in response to British threats to U.S. shipping. The same year, Jefferson signed the Act Prohibiting Importation of Slaves.\n\nJefferson was a plantation owner, lawyer, and politician, and mastered many disciplines including surveying, mathematics, horticulture, and mechanics. He was also an architect in the Palladian tradition. Jefferson's keen interest in religion and philosophy led to his appointment as president of the American Philosophical Society. He largely shunned organized religion but was influenced by Christianity, Epicureanism, and deism. Jefferson rejected fundamental Christianity, denying Christ's divinity. A philologist, Jefferson knew several languages. He was a prolific letter writer and corresponded with many prominent people, including Edward Carrington, John Taylor of Caroline, and James Madison. In 1785, Jefferson authored Notes on the State of Virginia, considered perhaps the most important American book published before 1800. Jefferson championed the ideals, values, and teachings of the Enlightenment.\n\nSince the 1790s, Jefferson was rumored to have had children by his sister-in-law and slave Sally Hemings, leading to what is known as the Jefferson-Hemings controversy. A 1998 DNA test concluded that one of Sally Hemings's children, Eston Hemings, was of the Jefferson male line. According to scholarly consensus, based on documentary and statistical evaluation, as well as oral history, Jefferson probably fathered at least six children with Hemings, including four that survived to adulthood.\n\nAfter retiring from public office, Jefferson founded the University of Virginia. Presidential scholars and historians generally praise Jefferson's public achievements, including his advocacy of religious freedom and tolerance in Virginia, his peaceful acquisition of the Louisiana Territory from France without war or controversy, and his ambitious and successful Lewis and Clark Expedition. Some modern historians are critical of Jefferson's personal involvement with slavery. Jefferson is consistently ranked among the top ten presidents of American history.",
         "Thomas Jefferson (Augustinus Jefferson) is a British-American author who is known as Jeffersonian (1700–1848)"
        ],
        [
         "Who was Kyle Van Zyl playing against when he scored 36 of hisa teams 61 points?",
         "Kyle Van Zyl was playing against Boland U21 when he scored 36 points, leading his team to victory in a 61-3 win.",
         "Kyle Van Zyl was playing in the National Basketball Association (NBA) draft picks."
        ],
        [
         "From the passage list down the areas for which Dar es Salaam is Tanzania's most prominent city. List the results in comma separated format.",
         "arts, fashion, media, film, television, finance",
         "1. Dar es Salaam (Malawi: %02.5 %05.5 %05.5), Tanzanian capital city Dar es Salaam Central (Malawi: %05.5 %05.5 %05.5), and Tanzanian city Zaraaam (Zambi: %05.5 %05.5 %05.5)\n2. Dar es Salaam Central (Malawi: %05.5 %05.5 %05.5), and Tanzanian city Zaraaam Central (Malawi: %05.5 %05.5 %05.5"
        ],
        [
         "What is a polygon?",
         "A polygon is a form in Geometry.  It is a single dimensional plane made of connecting lines and any number of vertices.  It is a closed chain of connected line segments or edges.  The vertices of the polygon are formed where two edges meet.  Examples of polygons are hexagons, pentagons, and octagons.  Any plane that does not contain edges or vertices is not a polygon.  An example of a non-polygon is a circle.",
         "A polygon is a polygon that has a polygon. A polygon is a polygon with a polygon (polygon) or polygon (polygon). A polygon is a polygon with a polygon (polygon) or polygon (polygon). A polygon is a polygon if it has a polygon (polygon) or polygon (polygon). A polygon is a polygon with a polygon (polygon) or polygon (polygon). A polygon is a polygon with a polygon (polygon) or polygon (polygon)."
        ],
        [
         "How do I start running?",
         "Make sure you get comfortable running shoes and attire. Start with achievable goal in mind like a 5K race. If you never ran before, start gradually from a walk, to brisk walk, light jog aiming for 15-30mins initially. Slowly increase your running time and distance as your fitness level improves. One of the most important things is cool down and gentle stretching. Always listen to your body, and take rest days when needed to prevent injury.",
         "Running is a process in which a runner prepares to start running on the run. Running is a process in which the runner prepares to run for a designated time. Running is a process in which the runner is not yet ready for any run. Running is typically the fastest run in the world, so running is the fastest. Running is the fastest run in the world, so running is the fastest."
        ],
        [
         "Which episodes of season four of Game of Thrones did Michelle MacLaren direct?",
         "She directed \"Oathkeeper\" and \"First of His Name\" the fourth and fifth episodes of season four, respectively.",
         "Michelle MacLaren directed two episodes of season four of Game of Thrones: Michelle MacLaren directed two episodes of season four of Game of Thrones: Michelle MacLaren directed two episodes of season four of Game of Thrones: Michelle MacLaren directed two episodes of season four of Game of Thrones: Michelle MacLaren directed two episodes of season four of Game of Thrones: Michelle MacLaren directed three episodes of season four of Game of Thrones: Michelle MacLaren directed three episodes of season four of Game of Thrones: Michelle MacLaren directed three episodes of season four of Game of Thrones"
        ],
        [
         "What is process mining?",
         "Process mining brings together data mining, data science and process management to find process efficiencies.",
         "Process mining is a process to find resources (usually a combination of some sort of software, hardware, and software) and process the resource (usually a subset of those). Processes that are produced end a few times in a timely manner. Processes that are produced end a few times are generally not economically valuable, and are often used for the extraction of valuable resource (e.g., for mining) that are not readily available."
        ],
        [
         "What are some unique curtain tie backs that you can make yourself?",
         "There are many items you can use to make a curtain tie back. Some ideas for this include a chain, a circle and pin, jute rope, wooden beaded rope, a necklack or bracelet, a door knob, a length of a leather belt, macrame rope, or a string of artificial flowers.",
         "There are many ways to make yourself appear on a curtain tie back. The most common way to make yourself appear is by wrapping your arms around your waist. The most common way to wrap your arms around your waist is by wrapping your arms around your waist. The most common way to wrap a bra with that is by wrappinging your arms around your waist."
        ],
        [
         "What is a dispersive prism?",
         "A dispersive prism is an optical prism that disperses the light's different wavelengths at different angles. When white light is shined through a dispersive prism it will separate into the different colors of the rainbow.",
         "A dispersive prism is a prism that absorbs light. It is a term used to describe any phenomenon of dispersion. It is a term to describe a phenomenon of dispersion due to superconductivity in a material with superconductivity."
        ],
        [
         "Identify which instrument is string or percussion: Cantaro, Gudok",
         "Gudok is string, Cantaro is percussion.",
         "Gudok is string, Cantaro is percussion."
        ],
        [
         "Give me the top 5 golf equipment company names.",
         "Titleist, Taylormade, Callaway, Ping, Cobra",
         "1.\tMinepants\n2.\tPinehurst\n3.\tPinehurst Classics\n4.\tPinehurst Junior High School\n5.\tPinehurst Junior High School\n6.\tPinehurst Under Armies\n7.\tPinehurst Under Armies"
        ],
        [
         "What individual has won the most Olympic gold medals in the history of the games?",
         "Michael Phelps has won the most gold medals of all time with 23 golds.",
         "The most popular sport in the history of the Games is the competitive nature. The competitive nature of the games is the sheer number of competitors, and competitive games often begin to draw near to competitive edge."
        ],
        [
         "Which Dutch artist painted “Girl with a Pearl Earring”?",
         "Vermeer",
         "Dutch"
        ],
        [
         "What happens when the sun goes down?",
         "When the sun sets, the evening starts.",
         "The sun goes down only when the sun is down."
        ],
        [
         "What is a verb?",
         "A verb is an action word that describes an activity.  Examples of verbs are the following: swimming, hiking, biking, roller skating, or skydiving.  All of these single and combination word examples are tied to an activity that any living thing can do.  For example, a dog can bike ride with a human when the human is pedaling the bike.  Verb use is not limited to humans or people only but applies to all living things.",
         "A verb is a verb that is used to verb both verb and verb both verb and verb both verb and verb both verb and verb both verb and verb both verb and verb both verb and verb both verb and verb both verb and verb both verb and verb both verb and verb both verb and verb both verb and verb both verb and verb both verb and verb both verb and verb both verb and verb both verb and verb both verb and verb both verb and verb both verb and verb both verb and verb both verb and verb both verb and verb both verb and verb both verb and verb both verb and verb both verb and verb both verb and verb both verb"
        ],
        [
         "Extract the owner of Lamborghini and a listing of the different types of Huracan cars that Lamborghini has produced for its Motorsport division.",
         "Vokswagen Group owns Lamborghini through its subsidiary, Audi.\n\nLamborghini has produced the following Huracan motorsport models:\n- Huracán LP 620-2 Super Trofeo EVO\n- Huracán LP 620-2 Super Trofeo EVO2\n- Huracán Super Trofeo GT2\n- Huracán GT3\n- Huracán GT3 Evo\n- Huracán GT3 Evo 2",
         "Lamborghini is a very popular car which is produced by a small team of amateur and professional car racing drivers.  It is very popular with young and old people and is very competitive and very competitive.  It is very competitive and has a lot of history as well as the history of the car.  Its a very popular car which is produced by a team of amateur and professional car racing drivers.  Its a very popular car which is produced by a team of amateur and professional car racing drivers."
        ],
        [
         "Which of the following is useful for transportation: a glass of wine, a lamp, a train, an iced cube tray, a plane, a bicycle, an apple and a scooter.",
         "The useful objects for transportation in the list are train, plane, bicyle and scooter.",
         "A lamp: a lamp, a train, and a rail\nA lamp: a train, a train"
        ],
        [
         "Identify which instrument is string or woodwind: Panduri, Zurna",
         "Zurna is woodwind, Panduri is string.",
         "Zurna is string, Panduri is woodwind."
        ],
        [
         "What is the average lifespan of a Golden Retriever?",
         "The average lifespan of a Golden Retriever is 12 to 13 years.",
         "The average lifespan of a Golden Retriever is between 72 and 92 years old."
        ],
        [
         "Who became king of Holland in 1806?",
         "William I of the Netherlands became king of Holland in 1806.",
         "William I of the Netherlands became king of Holland in 1806."
        ],
        [
         "What is best Playstation or Xbox",
         "Playstation and Xbox are two competing game consoles, where which is \"best\" will depend on the preferences of the gamer.  From a graphics and performance perspective they are comparable, with Sony's Playstation technically leading, though most gamers would be unlikely to notice a significant difference.  From a game library perspective, both consoles have their respective first-party titles that appeal to different demographics.  For example, Microsoft has seen great popularity due to popular title Halo being exclusively available on the console.  On the other hand, Playstation has popular exclusive titles such as God of War and Gran Turismo.  Ultimately the decision of which console is best will likely come down to which games titles the purchaser prefers.",
         "Best Professional Server in the World is a well-known streaming live streaming live streaming live streaming live streaming live."
        ],
        [
         "Who played Billy the Kid in The Left Handed Gun",
         "Paul Newman",
         "Billy the Kid was a regular part of the National Basketball League. Billy was the regular part of the National Basketball League and the regular part of the National Basketball League. Billy was the regular part of the National Basketball League and the regular part of the National Basketball League."
        ],
        [
         "why did Syd Barrett left the Pink Floyd?",
         "Syd Barrett was one of the main members of the Pink Floyd. He has used drugs a lot and after a while he was not able to perform with the team. Even though the band gave him multiple chances, he could not keep up with the band. In the end, they had to ask him to leave the band. The main reason that he has left the team is his health problems and addiction to drugs.",
         "The Pink Floyd band was formed in London in the 1960s. The band's founding members include Syd Barrett, Ron Burgundy, Ron Burgundy, and Pink Floyd."
        ],
        [
         "what is REST API",
         "REST API is an architectural style for building network APIs. In practice, most REST APIs are using JSON over HTTP. REST APIs have several properties that make them very popular.\n\nHTTP is the foundational and the most popular network protocol across the internet. By using HTTP, REST APIs can fully utilize the internet infrastructure, which greatly reduce the complexity and operational costs. For example, using HTTPS for transport security, and using URL for request routing.\n\nJSON is a simple, stable, and intuitive data format , which is not expected to change ever. This offers great ease of use and stability to REST APIs. For high performance applications, binary formats can be used instead, such as protobuf or thrift.\n\nREST APIs are often designed as CRUD APIs, where API operations are commonly expressed as Create, Retrieve, Update, and Delete operations on resources. CRUD operations are naturally mapped to HTTP methods (POST, GET, PUT/PATCH, and DELETE), and API resources can be naturally identified using URLs.",
         "REST API is a type of REST API that is used to request a specific object or service. It is used to request a specific object or service. REST APIs are a type of data type that is used to request a specific object or service. REST APIs are typically used to write a REST API, API, and API. REST APIs are typically used to write a REST API, API, and API."
        ],
        [
         "What is underwriting?",
         "Underwriting (UW) services are provided by some large financial institutions, such as banks, insurance companies and investment houses, whereby they guarantee payment in case of damage or financial loss and accept the financial risk for liability arising from such guarantee. An underwriting arrangement may be created in a number of situations including insurance, issues of security in a public offering, and bank lending, among others. The person or institution that agrees to sell a minimum number of securities of the company for commission is called the underwriter.\n\nThe term \"underwriting\" derives from the Lloyd's of London insurance market. Financial backers (or risk takers), who would accept some of the risk on a given venture (historically a sea voyage with associated risks of shipwreck) in exchange for a premium, would literally write their names under the risk information that was written on a Lloyd's slip created for this purpose.",
         "Underwriting is a process that is responsible for writing a full accounting document, often including accounting for expenses such as insurance, taxes, policy execution, and accounting. Underwriting also involves writing and reviewing documents that are needed to update the accounting document accurately."
        ],
        [
         "Give me a list of some characteristics of a good coffee shop?",
         "Some characteristics of good coffee shops include:\n- Very good coffee, either freshly roasted locally or acquired from a quality roaster\n- High end coffee grinders, brewing machines, and a high quality espresso machine and well-trained baristas\n- Different coffee roast options (i.e. medium roast, dark roast) and brewing methods (i.e. drip coffee and pour-over) available\n- A variety of cafe fare, such as pastries and croissants, available for purchase to accompany coffee\n- Ample seating, with power outlets available by most seats.",
         "The following are some characteristics of a good coffee shop:\n- A cup size selection: Very good coffee, very smoothie, good coffee, very loose and clean cupcakes, good coffee, good temperature control.\n- B coffee: Very good coffee, very smoothie, good coffee.\n- Coffee: Very good coffee, good temperature control should be good coffee."
        ],
        [
         "Please summarize what Linkedin does.",
         "Linkedin is a social platform that business professionals create profiles on and network with other business professionals. It is used to network, career development, and for jobseekers to find jobs. Linkedin has over 900 million users from over 200 countries. Linkedin can be used to post resumes/CVs, organizing events, joining groups, writing articles, publishing job postings, posting picture, posting videos, and more!",
         "Linkedin is a social networking service that is based around Linkedin. It is a social networking service that is based around Linkedin. Linkedin is also a social networking service that is based around Linkedin. Linkedin is also a social networking service that is based around Linkedin."
        ],
        [
         "Who saved Andromeda from the sea monster",
         "Perseus",
         "Andromeda could save Andromeda have a life."
        ],
        [
         "How can I contribute to Spark?",
         "Yes, Spark is an open source project and anyone can contribute to it.",
         "Spark is a component in Spark forked. It is built with Spark APIs. It is a component that provides a service to the Spark API."
        ],
        [
         "Who are ''The Lumières\" ?",
         "The Lumières (literally in English: The Lights) was a cultural, philosophical, literary and intellectual movement beginning in the second half of the 17th century, originating in western Europe and spreading throughout the rest of Europe. It included philosophers such as Baruch Spinoza, David Hume, John Locke, Edward Gibbon, Voltaire, Jean-Jacques Rousseau, Denis Diderot, Pierre Bayle and Isaac Newton. This movement is influenced by the scientific revolution in southern Europe arising directly from the Italian renaissance with people like Galileo Galilei. Over time it came to mean the Siècle des Lumières, in English the Age of Enlightenment.[Note 1]\n\nMembers of the movement saw themselves as a progressive élite, and battled against religious and political persecution, fighting against what they saw as the irrationality, arbitrariness, obscurantism and superstition of the previous centuries. They redefined the study of knowledge to fit the ethics and aesthetics of their time. Their works had great influence at the end of the 18th century, in the American Declaration of Independence and the French Revolution.\n\nThis intellectual and cultural renewal by the Lumières movement was, in its strictest sense, limited to Europe. These ideas were well understood in Europe, but beyond France the idea of \"enlightenment\" had generally meant a light from outside, whereas in France it meant a light coming from within oneself.\n\nIn the most general terms, in science and philosophy, the Enlightenment aimed for the triumph of reason over faith and belief; in politics and economics, the triumph of the bourgeois over nobility and clergy.",
         "The Lumières is a fictional character created by American author J. Michael Benduens."
        ],
        [
         "Using examples taken from the text give me a summary of the main arguments in favour of slavery reparations in the United States and the anticipated cost of enacting such reparations",
         "In spite of progressive changes since the end of enforcement of Jim Crow and the successes of the fight for civil rights there are still inherent racial inequalities in the USA which negatively affect the civil, political, economic, social and cultural rights of African Americans today.  A United Nations report of 2016 did not endorse a specific reparations proposal, but did call out that there is an ideology of white supremacy present in the population of the United States that inhibits social cohesion.  Further arguments have been made identifying slavery as a cause of mass incarcerations, poverty and other ills that affect today’s African Americans.\nIt could be argued that there is an inherent acknowledgement that the case exists to examine the impact of slavery on the social, political and economic life of the United States in the annual submission to Congress of the \"Commission to Study and Develop Reparation Proposals for African-Americans Act”.  There are also individual cities within the USA which have instituted reparations.  Estimates of the cost to African Americans of the United States’ history of discrimination have been estimated variously at $1.4 trillion, $4.7 trillion, $5.7 trillion, $14.2 trillion and $17.1 trillion.  These estimates express the projected cost in $ to restore the black community to the economic position it would have if it had not been subjected to slavery and discrimination.",
         "The main arguments against slavery reparations are (1) that the cost to enact reparations was not directly the cost of enacting such reparations, (2) that the cost to enact such reparations would be more upfront (and unnecessary) if the reparations were to be paid for through the reparations it would have to be paid for through the reparations rather than through the reparations themselves; (3) that the cost to enact such reparations would be more upfront and unnecessary (4) that the reparations would have to be paid for through the reparations"
        ],
        [
         "When was the wheel invented?",
         "No one knows when the wheel was first made. Archaeological evidence seems to show that the wheel was first used to make pottery in Mesopotamia about 7,000 years ago, during the Neolithic period. Later, it was used to make chariots. Chariot wheels have been found in Sumer as early as 3000 BC. The wheel is one of the most important inventions in human history. It was very useful for making pottery and getting around on land. It is also a key part of machines.",
         "The wheel was invented in 1859"
        ],
        [
         "write a scene between two actors discussing movie Inception",
         "Actress 1: \"Oh my god, have you seen Inception?\"\n\nActor 2: \"Yes! That movie blew my mind. What did you think of it?\"\n\nActress 1: \"Honestly, I was so confused for most of it. But it was so interesting, I couldn't look away. I had to know what was going on.\"\n\nActor 2: \"That's exactly how I felt. It's one of those movies that you have to pay attention to every detail, or you'll get lost.\"\n\nActress 1: \"Absolutely. And the way they played with time and reality was so cool. I don't think I've ever seen a movie like that before.\"\n\nActor 2: \"Yeah, the concept of entering someone's dreams to implant an idea was mind-boggling. And the way they executed it was so well done.\"\n\nActress 1: \"It was. And the cast was amazing too. Leonardo DiCaprio was incredible as usual, and I loved seeing Ellen Page in a different type of role.\"\n\nActor 2: \"Definitely. And the action scenes were so intense. The zero-gravity hallway fight was insane.\"\n\nActress 1: \"Oh my god, yes. I was on the edge of my seat for that one. And the ending...I still can't decide what it means.\"\n\nActor 2: \"I know, right? It's one of those movies that leaves you with so many questions. But that's part of what makes it so great.\"\n\nActress 1: \"Exactly. I love when movies challenge me to think and leave me wanting more. Inception definitely did that.\"\n\nActor 2: \"Agreed. It's definitely one of my all-time favorites. I could watch it a hundred times and still discover something new.\"\n\nActress 1: \"Same here. It's just one of those movies that sticks with you long after it's over.\"",
         "The actor discussing movie Inception is a reference to a character in the movie \"The other actor is a character named Harry Potter\". The actor tells a story of Harry and his friends, Harry and Harry, who had been living together in a different house for the previous year. Harry Potter was later revealed to be Harry Potter and his friends Harry Potter was a part of. The actor tells a story of Harry and his friends, Harry and Harry Potter was a part of Harry Potter and his friends Harry Potter was a part of Harry Potter. The actor tells a story of Harry and his friends, Harry Potter was a part of Harry Potter and his"
        ],
        [
         "Did dinosaurs have lips?",
         "Recent research suggests that the popular perception that dinosaurs had exposed teeth may be incorrect, and the current hypothesis is that the Tyrannosaurus rex did indeed have lips. A 2023 study by Dr Mark Witton of the University of Portsmouth said popular depictions of dinosaurs in movies like Jurassic Park are out of date. The study examined a large tooth that had spent over 500 days in the mouth of a Tyrannosaurus rex with no evidence of substantial wear, which is consistent with all findings of teeth found in the theropod family of dinosaurs. When contrasted with alligators and crocodiles, who have no lips and have more easily damaged teeth the theory says the evidence points to theropods, including Tyrannosaurus rex did indeed have lips. There would have been expected to be wear on the thin enamel on the teeth far more consistent with modern animals like crocodiles if dinosaurs had no lips.",
         "Yes, dinosaurs were domesticated around 3000 BC."
        ],
        [
         "Are lilies safe for cats?",
         "No, lilies are toxic to cats if consumed and should not be kept in a household with cats",
         "No, lilies are toxic to cats and should be kept in a controlled container at all.  Lilies are toxic to cats and should be kept in a controlled container for safe periods of time.  Lilies should not be kept in a controlled container and should not be kept in a controlled container for safe periods of time."
        ],
        [
         "What is Sunshine Recession?",
         "It is known as the deepest period in which sunspots are not virtually visible. Deepest period is related to sun cycle's process called solar minimum",
         "Sunshine is a temporary permanent permanent permanent permanent permanent permanent permanent disability that extends from March to May and the remainder permanently disabled as of March, inclusive."
        ],
        [
         "What is the currency in use in the Netherlands?",
         "The currency in use in the Netherlands is the euro.",
         "The currency in use in the Netherlands is the euro."
        ],
        [
         "What is the best tv series in the world",
         "Dexter- The Dexter is so exciting to watch that it should be the best TV series in the world",
         "The best tv series in the world is the one where every tv series drama series is produced by a leading middle cast of the same name. The main cast include Tom Brady, Bill Russell, Bill Russell, Bill Russell, and Bill Russell."
        ],
        [
         "Who was the first to record the Needles and Pins song?",
         "The first artist to record Needles and Pins song was DeShannon.",
         "The first to record the Needles was a song by the English rock band The Needles."
        ],
        [
         "Provide me a list of the different types of harnesses used in rock climbing",
         "Minimalistic Harness: has gear loops that are sewn on\nLightweight Harness: has leg loops that are removable\nBig Wall Harness: uses padded waist belts and leg loops\nFull Body Harness: mostly for children with small pelvises, or for scenarios that risk inversion\nChest Harness: to be used with a sit harness\nCaving Harness: made of ultra durable material and multiple attachment points\nCanyon Harness: has a built-in seat protector for rappeling.",
         "Cable climbing is a sport that has evolved over time.  The most common types of climbing harnesses are the climbing harnesses, which are built to handle heavy load loads and a variety of load loads.  The most common types of climbing harnesses are the climbing harnesses, which are built to handle heavy load loads and a variety of load loads."
        ],
        [
         "Think of some family rules to promote a healthy family relationship",
         "Use Kind words\nBe grateful\nThink of others before yourself\nWork hard\nBe Honest\nBe thankful\nKeep your promises\nChoose to be happy\nAlways say 'I Love You'\nBe kind\nEncourage each other",
         "1. Give at least 2 to 3 times a week\n2. Give atleast 3 to 4 times a week\n3. Give atleast 4 to 4 times a week\n4. Give atleast 5 to 6 times a week\n5. Give atleast 6 to 7 times a week\n6. Give atleast 7 to 8 times a week\n7. Give atleast 8 to 10 times a week\n8. Give atleast 9 to 10 times a week\n9. Give atleast10 to 11 times a week\n10. Give atleast12 to 13 times a week\n12. Give atleastWeekend or"
        ],
        [
         "In the series A Song of Ice and Fire, who is the founder of House Karstark?",
         "Karlon Stark",
         "Karl-August-Dunkirk"
        ],
        [
         "What is enriched air and why would divers dive with enriched air?",
         "Enriched air, also known as nitrox, is one kind of air with more than 21% oxygen. 21% oxygen is the normal air we breathe on the earth. The primary benefit of using enriched air is to extend the diver's bottom time, and reduce the need to push to no decompression limit. This advantage is really beneficial in deeper diving. \nFor example, at 80 feet of depth, normal air can last around 30 min, while enriched air of 32% oxygen can last for 45 min and 36% can last for 55 min. \nWhile enriched air is really beneficial in extending bottom time, it is important that divers get trained to use it before diving with enriched air.",
         "Enriched air is a form of air that is used to travel between oceans.  It is used to travel between oceans, but it is used to travel between oceans.  It is used to travel between oceans.  It is used to travel between oceans.  It is used to travel between oceans.  It is used to travel between oceans.  It is used to travel between oceans.  It is used to travel between oceans.  It is used to travel between oceans.  It is used to traveling between oceans.  It is used to traveling between oceans.  It is used to traveling between oceans.  It is used"
        ],
        [
         "What film won the 1943 Oscar as best film",
         "Casablanca",
         "The film won the Oscar for best film in 1943 and won the Academy Award for Best Actress in a Screen Actorsdal Award in 1944."
        ],
        [
         "which weighs more, cold or hot water?",
         "Cold water weighs more than hot water",
         "The coldest particular type of water is cold or hot, and the most popular type.  Cold is  blooded but  bloody because it  bloodshemiphthies bloodlines and can also be deadly.  Cold is also very dangerous to human health because it  bloodshemorrhages into the brain and bites many people.  Cold is also very dangerous to human health because it  bloodshemorrhages into the brain and bites many people.  The coldest particular type of water is cold or hot, and the most popular type of water is cold or hot, and the most popular type of water is"
        ],
        [
         "Given this paragraph, what is the top speed of a Kia Stinger?",
         "The top speed of a Kia Stinger is 269km/h (167mph) according to this text.",
         "The top speed of a Kia Stinger is approximately 1.5 Torre ON (1,000 km/h) at the time of the launch event."
        ],
        [
         "Write a short paragraph about why you should not have both a pet cat and a pet bird.",
         "Having both a pet bird and a pet cat is not a good idea because cats will try to hunt birds, which are naturally the prey of cats. This hunting instinct is completely normal, and it isn't fair to the cat to try to train it not to attack birds, as it is simply in its nature to do so. However, letting a cat hunt your pet bird is similarly not humane, as it will be very stressful to the bird and could lead to the bird being injured. Larger birds are also not a good idea, as the bird could cause injury to the cat if the cat tries to attack it. Overall, it just isn't a good idea to have both cats and birds, since they tend not to coexist well, and pet owners should just pick one species to have.",
         "Pet cats are a great way to spend loving environments. They are not afraid to let go of their pet as they feel it would be safe to leave them in the wild. Pet owners need to be aware of their pets’ ability to let go of their pet. They are also not afraid to let go of their pet as they feel it would be safe for them to leave."
        ],
        [
         "What is your favorite strip from the comic Calvin and Hobbes?",
         "Calvin and Hobbes is an iconic strip that is regarded as one of the best comic strips in history. Individual preferences may vary and it's difficult to find the publishing rate of individual strips throughout its ten year syndication.",
         "Quo, a popular strip comic strip, is a way to entertain and entertain people with simple yet succinct demeanour. Quo is a comic strip originally from Hobbes, New Jersey, that was created in the mid-nineties. Quo's motto is Quo's Way of Life. Quo's Way of Life is inspired by the life changing realities of the modern day. Quo's Way of Life is inspired by the life changing realities of the modern day."
        ],
        [
         "What makes a formula one car so fast?",
         "Formula One cars are one of the fastest racing cars in the world reaching speeds as high as 240 mph.\n\nThere are many aspects that make formula one cars fast, below are the top few\n\n1. Engine:  F1 cars have extremely powerful engines that can generate around 1000 bhp at up to 20,000 rpm\n2. Power-to-Weight ratio: F1 cars are also extremely light at around 800 kgs giving them a power-to-weight ratio of 12000-1400 hp/ton. For comparison, the best Porsche cars have a power-to-weight ratio of only 300-400 hp/ton.\n2. Aerodynamics: F1 cars are fitted with extremely sophisticated aerodynamics including a rear wing, front wing and body parts that help reduce aerodynamic drag for straight-line speeds while adding downforce to help around corners\n3. Tires: F1 tires are extremely large and sticky. This help the cars stick to the road as the car goes through turns very fast.\n4. Brakes: Lastly F1 brakes are very powerful and can slow down a car extremely quickly. This allows F1 cars to be at top speed for much longer before needing to slow down for taking a turn.",
         "Formula One cars are designed by a highly specialized and specialized manufacturer.  They are designed to last as long as a lifetime.  Formula One is designed to last as long as a lifetime.  FormulaOne is designed to last as long as a lifetime."
        ],
        [
         "Without quoting directly from the text give me a summary of the history of the Key Lime Pie.",
         "Key lime pie is an American dessert pie. It is made of lime juice, egg yolks, and sweetened condensed milk. It is best served with meringue topping and is typically cooked in a graham cracker crust.\n\nThe dish is named after the small Key limes which which have yellow juice complementing the filling which is typically yellow because of the egg yolks used.\n\nThe filling is made by simply mixing the ingredients without cooking the proteins of the egg yolks and condensed milk and the acidic lime juice curdle, thickening the mixture without baking.",
         "The Key Lime Pie was a popular music festival held in Japan from 1989 to 1997. The theme song \"Hey, Hey, Hey, Hey, Hey, Hey, Hey, Hey, Hey, Hey, Hey, Hey, Hey, Hey, Hey, Hey, Hey, Hey, Hey, Hey, Hey, Hey, Hey, Hey, Hey, Hey, Hey, Hey, Hey, Hey, Hey, Hey, Hey, Hey, Hey, Hey, Hey, Hey, Hey, Hey, Hey, Hey, Hey, Hey, Hey, Hey, Hey, Hey, Hey, Hey, Hey, Hey, Hey,"
        ],
        [
         "What is LAPR?",
         "This stands for life assurance premium relief. Before 14 March 1984 there was tax relief on life insurance premiums paid by policyholders for policies which qualified for tax relief. Policies which started",
         "Technical stations in the United States, Canada and the United Kingdom use LAPR for station building and maintaining station building software."
        ],
        [
         "Is beauty objective or subjective?",
         "The opinions on this question vary from person to person. \nStatistically, a pattern of preference is easily visible on what people would describe as beautiful. An evident example of this phenomenon is a beauty standard for women and men. Society seems to agree on what features, both physical and internal, can deem a person beautiful. The standard of beauty is also projected beyond humans, onto animal breeds, for example, in cat shows. \nA link between beauty and how closely it resembles perfection appears to exist. For example, a rose with many petals and no tears or scratches is generally seen as more beautiful than one with fewer, visibly ruined petals. \nHowever, the question of perfection also raises a problem as it is difficult and arguably impossible to define perfection. Beauty does not necessarily mean perfection. For example, large eyes are statistically considered to be more attractive however, in terms of their biological  purpose they possess no superiority to small eyes. Therefore, both beauty and perfection depend on the perspective or purpose with which you observe an object.\n\nFurthermore, the clear fluctuations through centuries and cultures on what is considered to be beautiful should also be taken into account. Fashion trends and art styles, for instance,  are constantly changing. Additionally, the diversity in opinions suggests there is nothing that is considered beautiful by everyone, so even if the majority deem a particular object or thing as beautiful, it’s beauty remains subjective because it remains based on an ever-changing preference rather than objective truth.",
         "The subjective is subjective.  It is subjective to some people.  It is subjective to some people.  It is subjective to some people.  It is subjective to some people.  It is subjective to some people.  It is subjective to some people."
        ],
        [
         "Identify which instrument is string or percussion: Kpanlogo, Shamisen",
         "Shamisen is string, Kpanlogo is percussion.",
         "Shamisen is string, Kpanlogo is percussion."
        ],
        [
         "Why do potato chip bags become stale after opening?",
         "Potato chip bags are filled with nitrogen! Many consumers think the chip companies are out there to get your money by filling three quarters of your bag with air, but it’s actually nitrogen to keep your chips fresh. This is why once you open the bag, you should finish the chips as soon as possible. There, now you have a reason to finish the whole bag of chips in one go without feeling guilty.",
         "Potatoes chip bags become stale after opening. When baked, they're stale and taste good. When baked, they're stale and are crispy and crispy, they're crispy. When baked, they're crispy. When baked, they're crispy. When baked, they're crispy. When baked, they're crispy. When baked, they're crispy. When baked, they're crispy. When baked, they're crispy. When baked, they're crispy. When baked, they're crispy. When baked, they're crispy. When baked, they're crispy. When baked"
        ],
        [
         "Classify each of the following as a primary color or a secondary color",
         "blue, yellow, green, red, purple, orange",
         "Primary Color: Red, Blue, Green, Blue, Pink, Violet, Pink"
        ],
        [
         "Where are the British Virgin Islands (BVI) and which islands are a part of the BVI?",
         "The British Virgin Islands (BVI), officially the Virgin Islands, are a British Overseas Territory in the Caribbean, to the east of Puerto Rico and the US Virgin Islands and north-west of Anguilla. The islands are geographically part of the Virgin Islands archipelago and are located in the Leeward Islands of the Lesser Antilles and part of the West Indies.\n\nThe British Virgin Islands consist of the main islands of Tortola, Virgin Gorda, Anegada and Jost Van Dyke, along with more than 50 other smaller islands and cays.",
         "BVI is the British Virgin Islands, which is a part of the BVI mainland."
        ],
        [
         "Does \"outbreeding\" or \"inbreeding\" benefit the offspring more?",
         "\"Outbreeding\" is more beneficial to the offspring as it reduces the risk of inheriting defective genes, increasing the offspring's ability to reproduce.",
         "Inbreeding the offspring to the offspring of a mate is what makes the offspring offspring fertile.  Inbreeding the offspring to the offspring of a mate alters the behavior of the offspring and produces a \"clear and convincing picture\".  Inbreeding the offspring to the offspring of a mate alters the \"clear and convincing picture\" of the offspring.  Inbreeding the offspring to the offspring of a mate alters the \"clear and convincing picture\" of the offspring."
        ],
        [
         "What is the future for human?",
         "This is a very wide open question. It could be two directions. One direction is that human would just disappear like the dinosaur.  One direction is that human would become a species like a god. For the first direction, it may be caused by many situations. e.g. Nuclear war from WW3, extreme climate change. For the other direction, reproduced energy is ready, all cancers can be cured, everything can be done with robot with AI, human life is unlimited.",
         "The future for human is uncertain, uncertain and uncertain. The present scenario would be the best scenario, since humans do not have the same preferences as humans, and humans do not have the same preferences."
        ],
        [
         "Name some of the bravolebrities from Vanderpump Rules",
         "James Kennedy, Katie Maloney, Raquel Leviss, Tom Sandoval, Ariana Madix, Tom Schwartz and Lala Kent",
         "1. Vanderpump\n2. Vanderpump\n3. The Wild Thing\n4. The Wild Thing \n5. The Wild Thing \n6. The Wild Thing \n7. The Wild Thing \n8. The Wild Thing \n9. The Wild Thing \n10. The Wild Thing \n11. The Wild Thing \n12. The Wild Thing \n13. The Wild Thing \n14. The Wild Thing \n15. The Wild Thing \n16. The Wild Thing"
        ],
        [
         "Name some famous rock bands from the 1960s",
         "The 1960s had a number of famous rock bands including The Beatles, The Beach Boys, The Doors, The Rolling Stones, The Who, Led Zeppelin, The Grateful Dead, Pink Floyd, and many more.",
         "Dance, Rock and Roll\nRock and Roll\nRock and Roll\nRock and Roll\nRock and Roll\n\nPop music"
        ],
        [
         "Who is Muhammad Ejaz Shafi",
         "Muhammad Ejaz Shafi is a Pakistani politician who was a Member of the Provincial Assembly of the Punjab, from 2002 to May 2018. He was born on 1 May 1969 in Khanpur.",
         "Born: Muhammad Iqayyar, Muhammed Imam\nBorn: Muhammad Iqayyar, Muhammed Theodoreed, Muhammed Theodoreed, Shafi"
        ],
        [
         "Who invented the telephone?",
         "In 1876, Alexander Graham Bell was the first to obtain a United States patent for a device that produced a clearly intelligible replica of the human voice on a second device.\nA resolution passed by the United States House of Representatives on June 11, 2002 called for recognition of Antonio Meucci's work and contributions towards the invention of the telephone.",
         "Eric Cantor"
        ],
        [
         "Who are the Smiths?",
         "The Smiths were an English rock band from the 1980s. The lead singer was Morrissey. The other band members were: Johnny Marr on guitar, Andy Rourke on bass, and Mike Joyce on drums.",
         "The Smiths are a professional American football team based in the United States that plays the football state championship in the National Football League (NFL)."
        ],
        [
         "Give me five ways in which I can make my homebrew beer more interesting",
         "There are infinite ways to create interesting flavours, that are either personal favourites or attempt to replicate classic beers and beer styles. There are a number of factors that make up a beers flavour profile and part of the enjoyment brewing your own beer at home, is that you can play around with each of these to change the flavour and character of your homebrew beer. Here are five ways in which you can change your own homebrew recipe to add interesting flavours or alternatively you can alter an existing homebrew recipe shared by somebody else or a brewery.\n\n1. Use different hops\nThere is a huge variety of hops available to homebrewers and each of these can introduce its own particular flavour and aroma to your beer, ranging from pineapple and apricots, to pine trees and woods, to grapefruit pith and lemon zest. By using a different hop in your recipe either from the same family or from an entirely different family of hops, you can easily add interesting and often radical changes to the flavour profile of your beer. However, depending on when the hops are added in the brewing process, you can also increase/decrease the levels of bitterness of your beer, due to different hop varieties having different levels of alpha acids.\n\n2. Use a different yeast\nBesides fermenting the beer, yeast leave behind lots of interesting flavours and can give your homebrew it's own subtle character. For example, English yeast strains can add malty and sweet flavours, California yeast tends to create a clean and crisp beer, whilst saison yeast adds bright and fruity flavours to your beer.\n\n3. Use different grains\nChanging the amount of base malts can increase or decrease the alcohol in your finished beer. Trying swapping one base malt for another, like American pale malts for a British variety, and look for the subtle differences between them. You can also play around with the specialty grains, like using a slightly darker roast.\n\n4. Add fruit, spices or herbs\nFruits, spices, herbs, and other ingredients are a great way to add an entirely personal character to your homebrew. Anything from fresh strawberries and basil to vanilla beans and cardamom can really complement the other malty, hoppy flavours in a beer. \n\n5. Alter your water profile\nDifferent beer styles will typically be best achieved with a suitable water profile, with different levels of minerals to achieve the desired flavour profile. By adjusting the amounts of specific minerals found in your brewing water, beer can be made to taste fuller bodied, sweeter, drier, more bitter, or even sour.",
         "1. Beer is a form of energy-disposable item that comes from a product that is made from a variety of different sources.\n2. Beer is not designed for simple activity, it is made from a variety of different sources.\n3. Beer is not designed for simple activity, it is made from a variety of different sources.\n4. Beer is not designed for simple activity, it is made from a variety of different sources.\n5. Beer is designed for simple activity, it is made from a variety of different sources.\n6. Beer is designed for simple activity, it is made from a variety of different"
        ],
        [
         "How many Grammy Awards has Bad Bunny won?",
         "Bad Bunny has won 2 Grammy Awards and has been nominated for 6",
         "50 Grammy Awards have been won by a record number of Grammy Awards."
        ],
        [
         "When was the first Reading railway station opened?",
         "The first Reading railway station was opened on the 30th of March, 1840.",
         "On 4 April 1900, the first Reading railway station was opened."
        ],
        [
         "What is HiFI?",
         "Bell Laboratories began experimenting with a range of recording techniques in the early 1930s. Performances by Leopold Stokowski and the Philadelphia Orchestra were recorded in 1931 and 1932 using telephone lines between the Academy of Music in Philadelphia and the Bell labs in New Jersey. Some multitrack recordings were made on optical sound film, which led to new advances used primarily by MGM (as early as 1937) and Twentieth Century Fox Film Corporation (as early as 1941). RCA Victor began recording performances by several orchestras using optical sound around 1941, resulting in higher-fidelity masters for 78-rpm discs. During the 1930s, Avery Fisher, an amateur violinist, began experimenting with audio design and acoustics. He wanted to make a radio that would sound like he was listening to a live orchestra—that would achieve high fidelity to the original sound. After World War II, Harry F. Olson conducted an experiment whereby test subjects listened to a live orchestra through a hidden variable acoustic filter. The results proved that listeners preferred high-fidelity reproduction, once the noise and distortion introduced by early sound equipment was removed.[citation needed]\n\nBeginning in 1948, several innovations created the conditions that made major improvements of home-audio quality possible:\n\nReel-to-reel audio tape recording, based on technology taken from Germany after WWII, helped musical artists such as Bing Crosby make and distribute recordings with better fidelity.\nThe advent of the 33⅓ rpm Long Play (LP) microgroove vinyl record, with lower surface noise and quantitatively specified equalization curves as well as noise-reduction and dynamic range systems. Classical music fans, who were opinion leaders in the audio market, quickly adopted LPs because, unlike with older records, most classical works would fit on a single LP.\nHigher quality turntables, with more responsive needles\nFM radio, with wider audio bandwidth and less susceptibility to signal interference and fading than AM radio.\nBetter amplifier designs, with more attention to frequency response and much higher power output capability, reproducing audio without perceptible distortion.\nNew loudspeaker designs, including acoustic suspension, developed by Edgar Villchur and Henry Kloss with improved bass frequency response.\nIn the 1950s, audio manufacturers employed the phrase high fidelity as a marketing term to describe records and equipment intended to provide faithful sound reproduction. Many consumers found the difference in quality compared to the then-standard AM radios and 78-rpm records readily apparent and bought high-fidelity phonographs and 33⅓ LPs such as RCA's New Orthophonics and London's FFRR (Full Frequency Range Recording, a UK Decca system). Audiophiles paid attention to technical characteristics and bought individual components, such as separate turntables, radio tuners, preamplifiers, power amplifiers and loudspeakers. Some enthusiasts even assembled their own loudspeaker systems. With the advent of integrated multi-speaker console systems in the 1950s, hi-fi became a generic term for home sound equipment, to some extent displacing phonograph and record player.\n\nIn the late 1950s and early 1960s, the development of stereophonic equipment and recordings led to the next wave of home-audio improvement, and in common parlance stereo displaced hi-fi. Records were now played on a stereo. In the world of the audiophile, however, the concept of high fidelity continued to refer to the goal of highly accurate sound reproduction and to the technological resources available for approaching that goal. This period is regarded as the \"Golden Age of Hi-Fi\", when vacuum tube equipment manufacturers of the time produced many models considered superior by modern audiophiles, and just before solid state (transistorized) equipment was introduced to the market, subsequently replacing tube equipment as the mainstream technology.\n\nIn the 1960s, the FTC with the help of the audio manufacturers came up with a definition to identify high fidelity equipment so that the manufacturers could clearly state if they meet the requirements and reduce misleading advertisements.\n\nThe metal–oxide–semiconductor field-effect transistor (MOSFET) was adapted into a power MOSFET for audio by Jun-ichi Nishizawa at Tohoku University in 1974. Power MOSFETs were soon manufactured by Yamaha for their hi-fi audio amplifiers. JVC, Pioneer Corporation, Sony and Toshiba also began manufacturing amplifiers with power MOSFETs in 1974. In 1977, Hitachi introduced the LDMOS (lateral diffused MOS), a type of power MOSFET. Hitachi was the only LDMOS manufacturer between 1977 and 1983, during which time LDMOS was used in audio power amplifiers from manufacturers such as HH Electronics (V-series) and Ashly Audio, and were used for music and public address systems. Class-D amplifiers became successful in the mid-1980s when low-cost, fast-switching MOSFETs were made available. Many transistor amps use MOSFET devices in their power sections, because their distortion curve is more tube-like.\n\nA popular type of system for reproducing music beginning in the 1970s was the integrated music centre—which combined a phonograph turntable, AM-FM radio tuner, tape player, preamplifier, and power amplifier in one package, often sold with its own separate, detachable or integrated speakers. These systems advertised their simplicity. The consumer did not have to select and assemble individual components or be familiar with impedance and power ratings. Purists generally avoid referring to these systems as high fidelity, though some are capable of very good quality sound reproduction.\n\nAudiophiles in the 1970s and 1980s preferred to buy each component separately. That way, they could choose models of each component with the specifications that they desired. In the 1980s, a number of audiophile magazines became available, offering reviews of components and articles on how to choose and test speakers, amplifiers, and other components.\n\nListening tests\nSee also: Codec listening test\nListening tests are used by hi-fi manufacturers, audiophile magazines, and audio engineering researchers and scientists. If a listening test is done in such a way that the listener who is assessing the sound quality of a component or recording can see the components that are being used for the test (e.g., the same musical piece listened to through a tube power amplifier and a solid-state amplifier), then it is possible that the listener's pre-existing biases towards or against certain components or brands could affect their judgment. To respond to this issue, researchers began to use blind tests, in which listeners cannot see the components being tested. A commonly used variant of this test is the ABX test. A subject is presented with two known samples (sample A, the reference, and sample B, an alternative), and one unknown sample X, for three samples total. X is randomly selected from A and B, and the subject identifies X as being either A or B. Although there is no way to prove that a certain methodology is transparent, a properly conducted double-blind test can prove that a method is not transparent.\n\nBlind tests are sometimes used as part of attempts to ascertain whether certain audio components (such as expensive, exotic cables) have any subjectively perceivable effect on sound quality. Data gleaned from these blind tests is not accepted by some audiophile magazines such as Stereophile and The Absolute Sound in their evaluations of audio equipment. John Atkinson, current editor of Stereophile, stated that he once purchased a solid-state amplifier, the Quad 405, in 1978 after seeing the results from blind tests, but came to realize months later that \"the magic was gone\" until he replaced it with a tube amp. Robert Harley of The Absolute Sound wrote, in 2008, that: \"...blind listening tests fundamentally distort the listening process and are worthless in determining the audibility of a certain phenomenon.\"\n\nDoug Schneider, editor of the online Soundstage network, refuted this position with two editorials in 2009. He stated: \"Blind tests are at the core of the decades' worth of research into loudspeaker design done at Canada's National Research Council (NRC). The NRC researchers knew that for their result to be credible within the scientific community and to have the most meaningful results, they had to eliminate bias, and blind testing was the only way to do so.\" Many Canadian companies such as Axiom, Energy, Mirage, Paradigm, PSB, and Revel use blind testing extensively in designing their loudspeakers. Audio professional Dr. Sean Olive of Harman International shares this view.",
         "HiFI is a new and exciting way to learn financial management. I've been looking for companies that are looking to diversify my investments globally. I've been looking for companies that are looking to diversify my investments globally. I've been looking for companies that are looking to diversify my investments globally. I've also been looking for companies that are looking to diversify my investments globally."
        ],
        [
         "What is a brown eared pheasant?",
         "The brown eared pheasant is a large dark brown pheasant native to the mountain forests of northeastern China. It has distinctive white ear covert behind the eyes that look like a moustache. It's crown is black with red bare facial skin, and it has a tail with long, white, curve, loose, dark-tipped feathers.",
         "A brown eared is a type of eared which is a type of eared that is a type of eared that is a type of eared that is a type of eared that is a type of eared that is a type of eared that is a type of eared that is a type of eared that is a type of eared that is a type of eared that is a type of eared that is a type of eared that is a type of eared that is a type of eared that is a type of eared that is a type of eared that is a type of e"
        ],
        [
         "Which of these are rappers? Eminem, Michael Jackson, Rihanna, 50 Cent",
         "Eminem, 50 Cent",
         "Eminem, 50 Cent"
        ],
        [
         "Is it true that Lewis Hamilton won the championship in his first F1 season?",
         "Lewis Hamilton did not win the F1 world driver's championship in his rookie season in 2007. The title went to Kimi Räikkönen in the Ferrari team. Hamilton finished runner up, in second place, after a close battle with both Ferrari and his teammate Fernando Alonso.",
         "Absolutely not. Hamilton was the first driver to win the championship in his first season with the team. He was the driver for the Netherlands side in 2007, and Hamilton was the only driver to win the championship this season."
        ],
        [
         "What are some kinds of embroidery stitches for writing letters?",
         "Some embroidery stitches that can be used to embroider letters are the back stitch, the split stitch, the stem stitch, the chain stitch, the couching stitch, and the satin stitch.",
         "There are many types of embroideries which can be used either in a home decoration company or in a manufacturing company.  You can choose from a variety of brands and brands that offer a wide variety of designs depending on your specific needs.  You can choose from a variety of brands and brands that offer a wide variety of designs.  You can choose from a variety of brands and brands that offer a wide variety of designs."
        ],
        [
         "What are the most common injuries in rowing?",
         "The most common injuries in rowing are inflammation of the knees, spine and forearms. Oher common injuries also include hand blisters and track bites.",
         "Rowing is a sport that involves catching a ball in the air, and being able to catch the ball using either a ball or head throw. Rowing is common in aerospace sports, and rowing can be as common in aerospace sports as in aerospace sports."
        ],
        [
         "What is a kite?",
         "A kite is a toy that can be be purchased in a store or a specialty shop.  It is a craft that is lighter an air that is tied to a string that you can fly on wind currents.  The kite has wings that react against the air to create lift enabling it to fly.  You can fly a kite at a park or an open area, and you will want to make sure there are no power lines nearby to be safe when flying the kite.",
         "A kite is a light fixture placed on a bench or bench for a number of years. It is a simple affair that requires a lot of energy and energy to accomplish tasks. The typical kite consists of a pulley, harnessed pulley, harnessed pulleys, and pulleys. The pulleys are powered with a series of pulleys to keep the pulleys pulleys pulleys puligned with the right pulleys. Each pulley is powered with pulleys that are driven by the pulley and harness."
        ],
        [
         "Classify each of the following pieces of equipment according to the sport they are used for, either basketball, football, or soccer: shin guards, shooting sleeve, penalty flag, corner flag, kicking tee, and goalie gloves.",
         "The classification is as follows:\n- Soccer: goalie gloves, corner flag\n- Basketball: shooting sleeve\n- Football: penalty flag, kicking tee",
         "The classification is as follows:\n1. Forward hooping: goalie glove; goalie gloves; goalie gloves; goalie gloves; goalie gloves; goalie gloves; goalie gloves; goalie gloves; goalie gloves; goalie gloves"
        ],
        [
         "Given this paragraph about Billie Eilish, tell me who produced her debut single, also tell me what is her chart-topping single?",
         "Her brother Finneas O'Connell produced her debut single \"Ocean Eyes\", and her chart topping single is \"Bad Guy\"",
         "Billie Eilish was the first woman to win the Best Play award for Women."
        ],
        [
         "What is a good way to get around without a car?",
         "If you live in a city you can access public transport such as buses and trains. You can also walk, use a bicycle, or electric scooter to get around.",
         "There are many ways to get around without a car. You can find many online forums, blogs, or blogs that provide a list of things to consider for your trip. You can also browse the local listings of places to visit, read a book or visit a local bookstore, or read a book on your local car park. You can also search for places to visit bookstore door-to-door, or browse books on your local bookstore."
        ],
        [
         "Identify which animal species is alive or extinct: Palaeophis, Giant Tortoise",
         "Giant Tortoise is alive, Palaeophis is extinct.",
         "Goncalion is alive, Palaeophis is extinct."
        ],
        [
         "Why is Santa Cruz, California a great place to live?",
         "Santa Cruz, California has one of the best climates in the continental U.S. – being close to the Pacific Ocean, temperatures stay warmer in the winters and cooler in the summers, but without the dreaded fog that nearby cities like San Francisco or Monterey experience. The small city is world-famous for surfing, and the relaxed vibe that comes with it. Natural beauty is abundant, with the mountains and beach only a few miles apart.",
         "Santa Cruz, California is a great place to live in the pacific northwest.  Santa Cruz, California is a great place to live in the pacific northwest.  Santa Cruz, California is a great place to live in the pacific northwest.  Santa Cruz, California is a great place to live in the pacific northwest.  Santa Cruz, California is a great place to live in the pacific northwest.  Santa Cruz, California is a great place to live in the pacific northwest."
        ],
        [
         "Give me some ideas to manage my manager.",
         "1. Be honest\n2. Communicate\n3. Understand goals\n4. Stay calm\n5. Solve problems\n6. Be positive\n7. Share your knowledge\n8. Be caring\n9. Practice positive reinforcement\n10. Be a strong performer",
         "Here are some ideas to manage your manager:\n1. Create a list of tasks to manage your team\n2. Create a list of tasks to manage your team\n3. Create a list of tasks to manage your team\n4. Create a list of tasks to manage your team\n5. Create a list of tasks to manage your team\n6. Create a list of tasks to manage your team\n7. Create a list of tasks to manage your team\n8. Create a list of tasks to manage your team\n9. Create a list of tasks to manage your team\n10. Create a list of tasks to manage your"
        ],
        [
         "Who was boxer John Baldwin",
         "Born in Detroit, John Baldwin was a professional US boxer.  He fought in the Light-Middleweight category and won a bronze medal in the 1968 Olympics.   He turned pro in 1970, and lost a decision to Marvin Hagler in 1975.  He retired in 1979",
         "John B. Reilly"
        ],
        [
         "Identify which instrument is string or percussion: Samphor, Viola toeria",
         "Viola toeria is string, Samphor is percussion.",
         "Viola, Viola toeria is string, Samphor is percussion."
        ],
        [
         "If we were playing a game where we had to identify things that can be found inside a house, which of these would we call out: car, chair, table, park, cloud, microwave.",
         "Inside a house you can find a chair, a table and a microwave. Cars, clouds and parks are found outside of houses.",
         "Car is a game.\n\nWhile chairs are commonly used as bedding for various purposes, the chair and table are different pieces of furniture.\n\nTables and chairs are different pieces of furniture.\n\nTables and chairs are different pieces of furniture.\n\nOutside, the microwave is a microwave."
        ],
        [
         "Classify the following as either dark-colored beers or light colored beers: porter, pilsner, stout, amber, lager",
         "Dark-colored beers: porter, stout, amber\nLight-colored beers: pilsner, lager",
         "Porrager: Dark-colored\nPilsner: Old-school-style\nAmbrell: Old-school-style\nLager: Old-school-style"
        ],
        [
         "Give me a bulleted list of the 5 highest mountains in the world and their respective heights in meters",
         "* Mount Everest. Height: 8,849 meters\n* K2. Height: 8,611 meters\n* Kangchenjunga. Height: 8,586 meters\n* Lhotse. Height: 8,516 meters\n* Makalu. Height: 8,485 meters",
         "1. Khushiyake highway in the US\n2. Yamagata River in the US\n3. Yamagata River in the US\n4. Yamagata River in the US"
        ],
        [
         "Extract all of the dates mentioned in this paragraph and list them using bullets in the format {Date} - {Description}",
         "• November 16, 1813 - This is when Daniel Leavitt was born\n• 1838 - This is when Daniel Leavitt married his wife Ruth Jeannette Ball.",
         "The date mentioned in this paragraph is the beginning of the US Census with the year of the birth of the US Census Bureau."
        ],
        [
         "Which products apple sell?",
         "Apple sells variety of products. including watches, phones, laptops and computers.",
         "Apple sells products that sell in North America, internationally, are made by hand from hand set together made by hand set together made by hand set."
        ],
        [
         "Write a short story about a person who discovers a hidden room in their house. The story should include a plot twist and a clear resolution at the end.",
         "It was going to be a long day.  With her brother-in-law out of town, Lisa had agreed to watch her niece Stella for the afternoon and the little girl was known to be a bit of a handful. Her plan had been to spend the afternoon at the park to let Stella run and climb, to wear her out a bit.  Unfortunately, this outing was foiled by the constant downpour of rain so Lisa resigned herself to a day inside with the tiny tyrant. Stella arrived early and excited to play.  Lisa decided to begin with a game of hide and seek, after all this could take up a good part of the morning without too much trouble.  Stella ran off to hide and Lisa sat quietly drinking coffee while calling out to the little girl, pretending to seek. Eventually she set off to find the little girl but soon she realized that something was wrong.  No matter where she looked, Stella was nowhere to be found. The house wasn't that large, making her disappearance even more perplexing.  Lisa had only recently moved into the home that she bought from her great aunt shortly before her death and she hasn't even moved out all of the existing furniture. Maybe Stella had gotten stuck somewhere behind the large wardrobe in the bedroom or she had climbed up into a cupboard in the laundry room.  Panic was starting to settle in as she moved the wardrobe further from the wall, where only a small child could have hidden before.  Suddenly, saw a small crack in the wall, and then realized it was a small door that she never knew was there.  The door was slightly ajar and she eventually moved the wardrobe enough to open the door and climb inside. What was this place?  The entrance opened up to reveal a small room that Lisa never knew existed!  It was full of treasure, gold bars and jewels.  Stella sat in the middle of the room quietly playing with the treasure, unaware of the immense value she was surrounded by.  Lisa had known her aunt was a secretive woman but this was an incredible find and would change her life forever.  Stella's visit was the good luck charm she needed to unlock this bounty and she would be forever grateful to the little girl!  Time to call her brother-in-law to thank him for letting Stella visit.",
         "The story should include a plot twist and a clear resolution at the end.  This is a story that involves a series of mysteries that involve hidden rooms in hidden rooms that involve hidden rooms.  The story should include a plot twist and a clear resolution at the end.  The story should include a plot twist and a clear resolution at the end."
        ],
        [
         "Please describe  what is oil and give me a list of it’s applications.",
         "An oil is a chemical substance that is composed primarily of hydrocarbons and may be animal, vegetable or petrochemical in origin.\nOil is used in a wide range of applications and is essential to everyday human life. These are:\nCooking - edible vegetable and animal oils are used for various purposes in cooking and food preparation\nCosmetics - most facial cleansers, lotions and hair care products contain molecules that come from mineral and vegetable oils\nFuel - crude oil is refined and converted to diesel, gasoline or jet fuel to power cars, trucks and planes\nHeating - petrochemical oil is used for heating\nPainting - oil is used as a supporting medium for paints\nLubrication - oils are used in various engineering purposes as they do not easily adhere to other substance which makes them useful as lubricants\nReligion - oil has been used throughout history as a religious medium. It is often considered a spiritually purifying agent and is used to anointing purposes\nHealth - oils holds lots of fats and medical properties, for example fish oil holds the omega-3 fatty acid which helps with inflammation and reduces fat in the bloodstream",
         "The oil and give me a list of it’s applications."
        ],
        [
         "List 6 different types of rain in Seattle",
         "1. Mist\n2. Drizzle\n3. Sleet\n4. Downpour\n5. Freezing Rain\n6. Sun Shower",
         "Rain in Seattle is typically from April to September, which is warmer in the winter and typically less in the summer. Rain in the summer is typically from April to September and typically includes the rain in October and November. Rain in November is typically from April to September and typically includes the rain in November and November. Rain in November is typically from October to December and typically includes the rain in October and November. Rain in November is typically from September to December and includes the rain in October and November. Rain in November is typically from October to December and includes the rain in October and November. Rain in November is typically from October to December and includes"
        ],
        [
         "What is investment banking?",
         "Investment banking pertains to certain activities of a financial services company or a corporate division that consist in advisory-based financial transactions on behalf of individuals, corporations, and governments. Traditionally associated with corporate finance, such a bank might assist in raising financial capital by underwriting or acting as the client's agent in the issuance of debt or equity securities. An investment bank may also assist companies involved in mergers and acquisitions (M&A) and provide ancillary services such as market making, trading of derivatives and equity securities, FICC services (fixed income instruments, currencies, and commodities) or research (macroeconomic, credit or equity research). Most investment banks maintain prime brokerage and asset management departments in conjunction with their investment research businesses. As an industry, it is broken up into the Bulge Bracket (upper tier), Middle Market (mid-level businesses), and boutique market (specialized businesses).\n\nUnlike commercial banks and retail banks, investment banks do not take deposits.",
         "Invest in real estate before investing, and investing is the process by which investors use money to invest.  The process by which investors can invest is called \"investment capitalization\".  Invest in real estate before investing is the process by which investors use money to invest.  Invest in real estate before investing is the process by which investors use money to invest.  Invest in real estate before investing is the process by which investors use money to invest."
        ]
       ],
       "datasetInfos": [],
       "dbfsResultPath": null,
       "isJsonSchema": true,
       "metadata": {},
       "overflow": false,
       "plotOptions": {
        "customPlotOptions": {},
        "displayType": "table",
        "pivotAggregation": null,
        "pivotColumns": null,
        "xColumns": null,
        "yColumns": null
       },
       "removedWidgets": [],
       "schema": [
        {
         "metadata": "{}",
         "name": "instruction",
         "type": "\"string\""
        },
        {
         "metadata": "{}",
         "name": "response",
         "type": "\"string\""
        },
        {
         "metadata": "{}",
         "name": "generated",
         "type": "\"string\""
        }
       ],
       "type": "table"
      }
     },
     "output_type": "display_data"
    }
   ],
   "source": [
    "pdf = pd.DataFrame(res, columns=[\"instruction\", \"response\", \"generated\"])\n",
    "display(pdf)"
   ]
  },
  {
   "cell_type": "markdown",
   "metadata": {
    "application/vnd.databricks.v1+cell": {
     "cellMetadata": {},
     "inputWidgets": {},
     "nuid": "01df326e-7460-456e-9995-3e59a2ae4073",
     "showTitle": false,
     "title": ""
    }
   },
   "source": [
    "**CONGRATULATIONS**\n",
    "\n",
    "You have just taken the first step toward fine-tuning your own slimmed down version of [Dolly](https://github.com/databrickslabs/dolly)! \n",
    "\n",
    "Unfortunately, it does not seem to be too generative at the moment. Perhaps, with some additional training and data the model could be more capable."
   ]
  },
  {
   "cell_type": "markdown",
   "metadata": {
    "application/vnd.databricks.v1+cell": {
     "cellMetadata": {},
     "inputWidgets": {},
     "nuid": "4e41cefb-e55e-4b64-8e0b-caa0b4f7bc97",
     "showTitle": false,
     "title": ""
    }
   },
   "source": [
    "### Question 9: Evaluation\n",
    "\n",
    "Although the current model is under-trained, it is worth evaluating the responses to get a general sense of how far off the model is at this point.\n",
    "\n",
    "Let's compute the ROGUE metrics between the reference response and the generated responses."
   ]
  },
  {
   "cell_type": "code",
   "execution_count": 0,
   "metadata": {
    "application/vnd.databricks.v1+cell": {
     "cellMetadata": {
      "byteLimit": 2048000,
      "rowLimit": 10000
     },
     "inputWidgets": {},
     "nuid": "20924627-dafa-4f84-b821-0735a01a2667",
     "showTitle": false,
     "title": ""
    }
   },
   "outputs": [
    {
     "output_type": "stream",
     "name": "stderr",
     "output_type": "stream",
     "text": [
      "[nltk_data] Downloading package punkt to /root/nltk_data...\n[nltk_data]   Unzipping tokenizers/punkt.zip.\n"
     ]
    },
    {
     "output_type": "display_data",
     "data": {
      "application/vnd.jupyter.widget-view+json": {
       "model_id": "3f2fadac446a4a1cacb356a7c1489939",
       "version_major": 2,
       "version_minor": 0
      },
      "text/plain": [
       "Downloading builder script:   0%|          | 0.00/6.27k [00:00<?, ?B/s]"
      ]
     },
     "metadata": {},
     "output_type": "display_data"
    }
   ],
   "source": [
    "nltk.download(\"punkt\")\n",
    "\n",
    "rouge_score = evaluate.load(\"rouge\")\n",
    "\n",
    "\n",
    "def compute_rouge_score(generated, reference):\n",
    "    \"\"\"\n",
    "    Compute ROUGE scores on a batch of articles.\n",
    "\n",
    "    This is a convenience function wrapping Hugging Face `rouge_score`,\n",
    "    which expects sentences to be separated by newlines.\n",
    "\n",
    "    :param generated: Summaries (list of strings) produced by the model\n",
    "    :param reference: Ground-truth summaries (list of strings) for comparison\n",
    "    \"\"\"\n",
    "    generated_with_newlines = [\"\\n\".join(sent_tokenize(s.strip())) for s in generated]\n",
    "    reference_with_newlines = [\"\\n\".join(sent_tokenize(s.strip())) for s in reference]\n",
    "    return rouge_score.compute(\n",
    "        predictions=generated_with_newlines,\n",
    "        references=reference_with_newlines,\n",
    "        use_stemmer=True,\n",
    "    )"
   ]
  },
  {
   "cell_type": "code",
   "execution_count": 0,
   "metadata": {
    "application/vnd.databricks.v1+cell": {
     "cellMetadata": {
      "byteLimit": 2048000,
      "rowLimit": 10000
     },
     "inputWidgets": {},
     "nuid": "1c131a85-9c23-4124-9281-dbd07ac5101a",
     "showTitle": false,
     "title": ""
    }
   },
   "outputs": [
    {
     "output_type": "display_data",
     "data": {
      "text/plain": [
       "{'rouge1': 0.2410353458487864,\n",
       " 'rouge2': 0.12519243604340047,\n",
       " 'rougeL': 0.21054373684024705,\n",
       " 'rougeLsum': 0.22186595832722533}"
      ]
     },
     "metadata": {},
     "output_type": "display_data"
    }
   ],
   "source": [
    "# TODO\n",
    "rouge_scores = compute_rouge_score(pdf['generated'].tolist(), pdf['response'].tolist())\n",
    "display(rouge_scores)"
   ]
  },
  {
   "cell_type": "code",
   "execution_count": 0,
   "metadata": {
    "application/vnd.databricks.v1+cell": {
     "cellMetadata": {
      "byteLimit": 2048000,
      "rowLimit": 10000
     },
     "inputWidgets": {},
     "nuid": "67ea9a53-f5a0-47ac-a6a8-31fdd08e4093",
     "showTitle": false,
     "title": ""
    }
   },
   "outputs": [
    {
     "output_type": "stream",
     "name": "stdout",
     "output_type": "stream",
     "text": [
      "\u001B[32mPASSED\u001B[0m: All tests passed for lesson4, question9\n\u001B[32mRESULTS RECORDED\u001B[0m: Click `Submit` when all questions are completed to log the results.\n"
     ]
    }
   ],
   "source": [
    "# Test your answer. DO NOT MODIFY THIS CELL.\n",
    "\n",
    "dbTestQuestion4_9(rouge_scores)"
   ]
  },
  {
   "cell_type": "markdown",
   "metadata": {
    "application/vnd.databricks.v1+cell": {
     "cellMetadata": {},
     "inputWidgets": {},
     "nuid": "ba0e3481-1949-46d0-a847-77f597a10b6c",
     "showTitle": false,
     "title": ""
    }
   },
   "source": [
    "\n",
    "## Clean up Classroom\n",
    "\n",
    "Run the following cell to remove lessons-specific assets created during this lesson."
   ]
  },
  {
   "cell_type": "code",
   "execution_count": 0,
   "metadata": {
    "application/vnd.databricks.v1+cell": {
     "cellMetadata": {},
     "inputWidgets": {},
     "nuid": "eddd0fd9-15e1-40e2-a045-e440b92dffcb",
     "showTitle": false,
     "title": ""
    }
   },
   "outputs": [],
   "source": [
    "tmpdir.cleanup()"
   ]
  },
  {
   "cell_type": "markdown",
   "metadata": {
    "application/vnd.databricks.v1+cell": {
     "cellMetadata": {},
     "inputWidgets": {},
     "nuid": "12b8f517-201e-43e1-b0ce-9e6b517d83c1",
     "showTitle": false,
     "title": ""
    }
   },
   "source": [
    "## Submit your Results (edX Verified Only)\n",
    "\n",
    "To get credit for this lab, click the submit button in the top right to report the results. If you run into any issues, click `Run` -> `Clear state and run all`, and make sure all tests have passed before re-submitting. If you accidentally deleted any tests, take a look at the notebook's version history to recover them or reload the notebooks."
   ]
  },
  {
   "cell_type": "markdown",
   "metadata": {
    "application/vnd.databricks.v1+cell": {
     "cellMetadata": {},
     "inputWidgets": {},
     "nuid": "3f471784-1265-48e5-b9cd-5a418502577d",
     "showTitle": false,
     "title": ""
    }
   },
   "source": [
    "&copy; 2023 Databricks, Inc. All rights reserved.<br/>\n",
    "Apache, Apache Spark, Spark and the Spark logo are trademarks of the <a href=\"https://www.apache.org/\">Apache Software Foundation</a>.<br/>\n",
    "<br/>\n",
    "<a href=\"https://databricks.com/privacy-policy\">Privacy Policy</a> | <a href=\"https://databricks.com/terms-of-use\">Terms of Use</a> | <a href=\"https://help.databricks.com/\">Support</a>"
   ]
  }
 ],
 "metadata": {
  "application/vnd.databricks.v1+notebook": {
   "dashboards": [],
   "environmentMetadata": null,
   "language": "python",
   "notebookMetadata": {
    "pythonIndentUnit": 2
   },
   "notebookName": "LLM 04L - Fine-tuning LLMs Lab",
   "widgets": {}
  }
 },
 "nbformat": 4,
 "nbformat_minor": 0
}
