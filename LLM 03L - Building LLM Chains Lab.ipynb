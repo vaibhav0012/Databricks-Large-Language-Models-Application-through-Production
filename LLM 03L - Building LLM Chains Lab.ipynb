{
  "cells": [
    {
      "cell_type": "markdown",
      "metadata": {
        "application/vnd.databricks.v1+cell": {
          "cellMetadata": {},
          "inputWidgets": {},
          "nuid": "d20effc4-ad14-4613-bc81-3536f96ed251",
          "showTitle": false,
          "title": ""
        },
        "id": "3pq1AhyU-rb4"
      },
      "source": [
        "\n",
        "<div style=\"text-align: center; line-height: 0; padding-top: 9px;\">\n",
        "  <img src=\"https://databricks.com/wp-content/uploads/2018/03/db-academy-rgb-1200px.png\" alt=\"Databricks Learning\" style=\"width: 600px\">\n",
        "</div>"
      ]
    },
    {
      "cell_type": "markdown",
      "metadata": {
        "application/vnd.databricks.v1+cell": {
          "cellMetadata": {},
          "inputWidgets": {},
          "nuid": "e6b40127-4abb-4132-b86b-edc5a64db667",
          "showTitle": false,
          "title": ""
        },
        "id": "AfTWvSlU-rb5"
      },
      "source": [
        "\n",
        "# Lab: Adding Our Own Data to a Multi-Stage Reasoning System\n",
        "\n",
        "### Working with external knowledge bases\n",
        "In this notebook we're going to augment the knowledge base of our LLM with additional data. We will split the notebook into two halves:\n",
        "- First, we will walk through how to load in a relatively small, local text file using a `DocumentLoader`, split it into chunks, and store it in a vector database using `ChromaDB`.\n",
        "- Second, you will get a chance to show what you've learned by building a larger system with the complete works of Shakespeare.\n",
        "----\n",
        "### ![Dolly](https://files.training.databricks.com/images/llm/dolly_small.png) Learning Objectives\n",
        "\n",
        "By the end of this notebook, you will be able to:\n",
        "1. Add external local data to your LLM's knowledge base via a vector database.\n",
        "2. Construct a Question-Answer(QA) LLMChain to \"talk to your data.\"\n",
        "3. Load external data sources from remote locations and store in a vector database.\n",
        "4. Leverage different retrieval methods to search over your data."
      ]
    },
    {
      "cell_type": "markdown",
      "metadata": {
        "application/vnd.databricks.v1+cell": {
          "cellMetadata": {},
          "inputWidgets": {},
          "nuid": "72370124-2de4-4906-9bfa-6e25c1205b20",
          "showTitle": false,
          "title": ""
        },
        "id": "i_fcJgTR-rb5"
      },
      "source": [
        "\n",
        "## Classroom Setup"
      ]
    },
    {
      "cell_type": "code",
      "execution_count": null,
      "metadata": {
        "application/vnd.databricks.v1+cell": {
          "cellMetadata": {
            "byteLimit": 2048000,
            "rowLimit": 10000
          },
          "inputWidgets": {},
          "nuid": "a34e47f5-a248-41d2-ab0d-3fa757ecfdf1",
          "showTitle": false,
          "title": ""
        },
        "id": "h77jSUS6-rb6",
        "outputId": "303a5637-d3d5-4b91-8fa8-65d12323226d"
      },
      "outputs": [
        {
          "output_type": "stream",
          "name": "stdout",
          "text": [
            "\u001b[43mNote: you may need to restart the kernel using dbutils.library.restartPython() to use updated packages.\u001b[0m\nCollecting chromadb==0.4.10\n  Downloading chromadb-0.4.10-py3-none-any.whl (422 kB)\n     ━━━━━━━━━━━━━━━━━━━━━━━━━━━━━━━━━━━━━━━ 422.4/422.4 kB 4.8 MB/s eta 0:00:00\nCollecting tiktoken==0.3.3\n  Downloading tiktoken-0.3.3-cp310-cp310-manylinux_2_17_x86_64.manylinux2014_x86_64.whl (1.7 MB)\n     ━━━━━━━━━━━━━━━━━━━━━━━━━━━━━━━━━━━━━━━━ 1.7/1.7 MB 10.5 MB/s eta 0:00:00\nCollecting sqlalchemy==2.0.15\n  Downloading SQLAlchemy-2.0.15-cp310-cp310-manylinux_2_17_x86_64.manylinux2014_x86_64.whl (2.7 MB)\n     ━━━━━━━━━━━━━━━━━━━━━━━━━━━━━━━━━━━━━━━━ 2.7/2.7 MB 19.5 MB/s eta 0:00:00\nCollecting langchain==0.0.249\n  Downloading langchain-0.0.249-py3-none-any.whl (1.4 MB)\n     ━━━━━━━━━━━━━━━━━━━━━━━━━━━━━━━━━━━━━━━━ 1.4/1.4 MB 28.7 MB/s eta 0:00:00\nCollecting onnxruntime>=1.14.1\n  Downloading onnxruntime-1.18.0-cp310-cp310-manylinux_2_27_x86_64.manylinux_2_28_x86_64.whl (6.8 MB)\n     ━━━━━━━━━━━━━━━━━━━━━━━━━━━━━━━━━━━━━━━━ 6.8/6.8 MB 40.0 MB/s eta 0:00:00\nCollecting posthog>=2.4.0\n  Downloading posthog-3.5.0-py2.py3-none-any.whl (41 kB)\n     ━━━━━━━━━━━━━━━━━━━━━━━━━━━━━━━━━━━━━━━━ 41.3/41.3 kB 6.6 MB/s eta 0:00:00\nCollecting pypika>=0.48.9\n  Downloading PyPika-0.48.9.tar.gz (67 kB)\n     ━━━━━━━━━━━━━━━━━━━━━━━━━━━━━━━━━━━━━━━━ 67.3/67.3 kB 9.5 MB/s eta 0:00:00\n  Installing build dependencies: started\n  Installing build dependencies: finished with status 'done'\n  Getting requirements to build wheel: started\n  Getting requirements to build wheel: finished with status 'done'\n  Preparing metadata (pyproject.toml): started\n  Preparing metadata (pyproject.toml): finished with status 'done'\nRequirement already satisfied: requests>=2.28 in /databricks/python3/lib/python3.10/site-packages (from chromadb==0.4.10) (2.28.1)\nRequirement already satisfied: importlib-resources in /databricks/python3/lib/python3.10/site-packages (from chromadb==0.4.10) (6.0.1)\nRequirement already satisfied: uvicorn[standard]>=0.18.3 in /databricks/python3/lib/python3.10/site-packages (from chromadb==0.4.10) (0.23.2)\nCollecting pulsar-client>=3.1.0\n  Downloading pulsar_client-3.5.0-cp310-cp310-manylinux_2_17_x86_64.manylinux2014_x86_64.whl (5.4 MB)\n     ━━━━━━━━━━━━━━━━━━━━━━━━━━━━━━━━━━━━━━━━ 5.4/5.4 MB 57.8 MB/s eta 0:00:00\nCollecting tqdm>=4.65.0\n  Downloading tqdm-4.66.4-py3-none-any.whl (78 kB)\n     ━━━━━━━━━━━━━━━━━━━━━━━━━━━━━━━━━━━━━━━━ 78.3/78.3 kB 14.1 MB/s eta 0:00:00\nCollecting numpy>=1.22.5\n  Downloading numpy-1.26.4-cp310-cp310-manylinux_2_17_x86_64.manylinux2014_x86_64.whl (18.2 MB)\n     ━━━━━━━━━━━━━━━━━━━━━━━━━━━━━━━━━━━━━━━━ 18.2/18.2 MB 56.2 MB/s eta 0:00:00\nRequirement already satisfied: pydantic<2.0,>=1.9 in /databricks/python3/lib/python3.10/site-packages (from chromadb==0.4.10) (1.10.6)\nCollecting chroma-hnswlib==0.7.3\n  Downloading chroma_hnswlib-0.7.3-cp310-cp310-manylinux_2_17_x86_64.manylinux2014_x86_64.whl (2.4 MB)\n     ━━━━━━━━━━━━━━━━━━━━━━━━━━━━━━━━━━━━━━━━ 2.4/2.4 MB 82.1 MB/s eta 0:00:00\nRequirement already satisfied: tokenizers>=0.13.2 in /databricks/python3/lib/python3.10/site-packages (from chromadb==0.4.10) (0.13.3)\nRequirement already satisfied: fastapi<0.100.0,>=0.95.2 in /databricks/python3/lib/python3.10/site-packages (from chromadb==0.4.10) (0.98.0)\nCollecting bcrypt>=4.0.1\n  Downloading bcrypt-4.1.3-cp39-abi3-manylinux_2_28_x86_64.whl (283 kB)\n     ━━━━━━━━━━━━━━━━━━━━━━━━━━━━━━━━━━━━━━ 283.7/283.7 kB 37.3 MB/s eta 0:00:00\nCollecting typing-extensions>=4.5.0\n  Downloading typing_extensions-4.12.0-py3-none-any.whl (37 kB)\nCollecting overrides>=7.3.1\n  Downloading overrides-7.7.0-py3-none-any.whl (17 kB)\nRequirement already satisfied: regex>=2022.1.18 in /databricks/python3/lib/python3.10/site-packages (from tiktoken==0.3.3) (2022.7.9)\nRequirement already satisfied: greenlet!=0.4.17 in /databricks/python3/lib/python3.10/site-packages (from sqlalchemy==2.0.15) (1.1.1)\nRequirement already satisfied: aiohttp<4.0.0,>=3.8.3 in /databricks/python3/lib/python3.10/site-packages (from langchain==0.0.249) (3.8.5)\nRequirement already satisfied: dataclasses-json<0.6.0,>=0.5.7 in /databricks/python3/lib/python3.10/site-packages (from langchain==0.0.249) (0.5.14)\nRequirement already satisfied: PyYAML>=5.4.1 in /databricks/python3/lib/python3.10/site-packages (from langchain==0.0.249) (6.0)\nRequirement already satisfied: numexpr<3.0.0,>=2.8.4 in /databricks/python3/lib/python3.10/site-packages (from langchain==0.0.249) (2.8.4)\nRequirement already satisfied: openapi-schema-pydantic<2.0,>=1.2 in /databricks/python3/lib/python3.10/site-packages (from langchain==0.0.249) (1.2.4)\nRequirement already satisfied: tenacity<9.0.0,>=8.1.0 in /databricks/python3/lib/python3.10/site-packages (from langchain==0.0.249) (8.1.0)\nCollecting langsmith<0.1.0,>=0.0.11\n  Downloading langsmith-0.0.92-py3-none-any.whl (56 kB)\n     ━━━━━━━━━━━━━━━━━━━━━━━━━━━━━━━━━━━━━━━━ 56.5/56.5 kB 8.1 MB/s eta 0:00:00\nRequirement already satisfied: async-timeout<5.0.0,>=4.0.0 in /databricks/python3/lib/python3.10/site-packages (from langchain==0.0.249) (4.0.3)\nRequirement already satisfied: multidict<7.0,>=4.5 in /databricks/python3/lib/python3.10/site-packages (from aiohttp<4.0.0,>=3.8.3->langchain==0.0.249) (6.0.4)\nRequirement already satisfied: yarl<2.0,>=1.0 in /databricks/python3/lib/python3.10/site-packages (from aiohttp<4.0.0,>=3.8.3->langchain==0.0.249) (1.9.2)\nRequirement already satisfied: frozenlist>=1.1.1 in /databricks/python3/lib/python3.10/site-packages (from aiohttp<4.0.0,>=3.8.3->langchain==0.0.249) (1.4.0)\nRequirement already satisfied: attrs>=17.3.0 in /databricks/python3/lib/python3.10/site-packages (from aiohttp<4.0.0,>=3.8.3->langchain==0.0.249) (21.4.0)\nRequirement already satisfied: charset-normalizer<4.0,>=2.0 in /databricks/python3/lib/python3.10/site-packages (from aiohttp<4.0.0,>=3.8.3->langchain==0.0.249) (2.0.4)\nRequirement already satisfied: aiosignal>=1.1.2 in /databricks/python3/lib/python3.10/site-packages (from aiohttp<4.0.0,>=3.8.3->langchain==0.0.249) (1.3.1)\nRequirement already satisfied: typing-inspect<1,>=0.4.0 in /databricks/python3/lib/python3.10/site-packages (from dataclasses-json<0.6.0,>=0.5.7->langchain==0.0.249) (0.9.0)\nRequirement already satisfied: marshmallow<4.0.0,>=3.18.0 in /databricks/python3/lib/python3.10/site-packages (from dataclasses-json<0.6.0,>=0.5.7->langchain==0.0.249) (3.20.1)\nRequirement already satisfied: starlette<0.28.0,>=0.27.0 in /databricks/python3/lib/python3.10/site-packages (from fastapi<0.100.0,>=0.95.2->chromadb==0.4.10) (0.27.0)\nCollecting coloredlogs\n  Downloading coloredlogs-15.0.1-py2.py3-none-any.whl (46 kB)\n     ━━━━━━━━━━━━━━━━━━━━━━━━━━━━━━━━━━━━━━━━ 46.0/46.0 kB 6.5 MB/s eta 0:00:00\nRequirement already satisfied: packaging in /databricks/python3/lib/python3.10/site-packages (from onnxruntime>=1.14.1->chromadb==0.4.10) (21.3)\nCollecting sympy\n  Downloading sympy-1.12-py3-none-any.whl (5.7 MB)\n     ━━━━━━━━━━━━━━━━━━━━━━━━━━━━━━━━━━━━━━━━ 5.7/5.7 MB 73.9 MB/s eta 0:00:00\nRequirement already satisfied: protobuf in /databricks/python3/lib/python3.10/site-packages (from onnxruntime>=1.14.1->chromadb==0.4.10) (3.19.4)\nRequirement already satisfied: flatbuffers in /databricks/python3/lib/python3.10/site-packages (from onnxruntime>=1.14.1->chromadb==0.4.10) (23.5.26)\nRequirement already satisfied: python-dateutil>2.1 in /databricks/python3/lib/python3.10/site-packages (from posthog>=2.4.0->chromadb==0.4.10) (2.8.2)\nCollecting backoff>=1.10.0\n  Downloading backoff-2.2.1-py3-none-any.whl (15 kB)\nCollecting monotonic>=1.5\n  Downloading monotonic-1.6-py2.py3-none-any.whl (8.2 kB)\nRequirement already satisfied: six>=1.5 in /usr/lib/python3/dist-packages (from posthog>=2.4.0->chromadb==0.4.10) (1.16.0)\nRequirement already satisfied: certifi in /databricks/python3/lib/python3.10/site-packages (from pulsar-client>=3.1.0->chromadb==0.4.10) (2022.9.14)\nRequirement already satisfied: urllib3<1.27,>=1.21.1 in /databricks/python3/lib/python3.10/site-packages (from requests>=2.28->chromadb==0.4.10) (1.26.11)\nRequirement already satisfied: idna<4,>=2.5 in /databricks/python3/lib/python3.10/site-packages (from requests>=2.28->chromadb==0.4.10) (3.3)\nRequirement already satisfied: h11>=0.8 in /databricks/python3/lib/python3.10/site-packages (from uvicorn[standard]>=0.18.3->chromadb==0.4.10) (0.14.0)\nRequirement already satisfied: click>=7.0 in /databricks/python3/lib/python3.10/site-packages (from uvicorn[standard]>=0.18.3->chromadb==0.4.10) (8.0.4)\nRequirement already satisfied: httptools>=0.5.0 in /databricks/python3/lib/python3.10/site-packages (from uvicorn[standard]>=0.18.3->chromadb==0.4.10) (0.6.0)\nRequirement already satisfied: uvloop!=0.15.0,!=0.15.1,>=0.14.0 in /databricks/python3/lib/python3.10/site-packages (from uvicorn[standard]>=0.18.3->chromadb==0.4.10) (0.17.0)\nRequirement already satisfied: websockets>=10.4 in /databricks/python3/lib/python3.10/site-packages (from uvicorn[standard]>=0.18.3->chromadb==0.4.10) (11.0.3)\nRequirement already satisfied: watchfiles>=0.13 in /databricks/python3/lib/python3.10/site-packages (from uvicorn[standard]>=0.18.3->chromadb==0.4.10) (0.19.0)\nRequirement already satisfied: python-dotenv>=0.13 in /databricks/python3/lib/python3.10/site-packages (from uvicorn[standard]>=0.18.3->chromadb==0.4.10) (1.0.0)\nRequirement already satisfied: pyparsing!=3.0.5,>=2.0.2 in /databricks/python3/lib/python3.10/site-packages (from packaging->onnxruntime>=1.14.1->chromadb==0.4.10) (3.0.9)\nRequirement already satisfied: anyio<5,>=3.4.0 in /databricks/python3/lib/python3.10/site-packages (from starlette<0.28.0,>=0.27.0->fastapi<0.100.0,>=0.95.2->chromadb==0.4.10) (3.5.0)\nRequirement already satisfied: mypy-extensions>=0.3.0 in /databricks/python3/lib/python3.10/site-packages (from typing-inspect<1,>=0.4.0->dataclasses-json<0.6.0,>=0.5.7->langchain==0.0.249) (0.4.3)\nCollecting humanfriendly>=9.1\n  Downloading humanfriendly-10.0-py2.py3-none-any.whl (86 kB)\n     ━━━━━━━━━━━━━━━━━━━━━━━━━━━━━━━━━━━━━━━━ 86.8/86.8 kB 9.3 MB/s eta 0:00:00\nCollecting mpmath>=0.19\n  Downloading mpmath-1.3.0-py3-none-any.whl (536 kB)\n     ━━━━━━━━━━━━━━━━━━━━━━━━━━━━━━━━━━━━━━ 536.2/536.2 kB 55.5 MB/s eta 0:00:00\nRequirement already satisfied: sniffio>=1.1 in /databricks/python3/lib/python3.10/site-packages (from anyio<5,>=3.4.0->starlette<0.28.0,>=0.27.0->fastapi<0.100.0,>=0.95.2->chromadb==0.4.10) (1.2.0)\nBuilding wheels for collected packages: pypika\n  Building wheel for pypika (pyproject.toml): started\n  Building wheel for pypika (pyproject.toml): finished with status 'done'\n  Created wheel for pypika: filename=PyPika-0.48.9-py2.py3-none-any.whl size=53723 sha256=70c8f85dc01b91a1219b1f8341c6218c4013e97835500cf69c5160729d5ef973\n  Stored in directory: /root/.cache/pip/wheels/e1/26/51/d0bffb3d2fd82256676d7ad3003faea3bd6dddc9577af665f4\nSuccessfully built pypika\nInstalling collected packages: pypika, mpmath, monotonic, typing-extensions, tqdm, sympy, pulsar-client, overrides, numpy, humanfriendly, bcrypt, backoff, tiktoken, sqlalchemy, posthog, coloredlogs, chroma-hnswlib, onnxruntime, langsmith, langchain, chromadb\n  Attempting uninstall: typing-extensions\n    Found existing installation: typing_extensions 4.3.0\n    Not uninstalling typing-extensions at /databricks/python3/lib/python3.10/site-packages, outside environment /local_disk0/.ephemeral_nfs/envs/pythonEnv-a98027c7-8026-4e16-a676-c7c53b464246\n    Can't uninstall 'typing_extensions'. No files were found to uninstall.\n  Attempting uninstall: tqdm\n    Found existing installation: tqdm 4.64.1\n    Not uninstalling tqdm at /databricks/python3/lib/python3.10/site-packages, outside environment /local_disk0/.ephemeral_nfs/envs/pythonEnv-a98027c7-8026-4e16-a676-c7c53b464246\n    Can't uninstall 'tqdm'. No files were found to uninstall.\n  Attempting uninstall: numpy\n    Found existing installation: numpy 1.21.5\n    Not uninstalling numpy at /databricks/python3/lib/python3.10/site-packages, outside environment /local_disk0/.ephemeral_nfs/envs/pythonEnv-a98027c7-8026-4e16-a676-c7c53b464246\n    Can't uninstall 'numpy'. No files were found to uninstall.\n  Attempting uninstall: bcrypt\n    Found existing installation: bcrypt 3.2.0\n    Not uninstalling bcrypt at /databricks/python3/lib/python3.10/site-packages, outside environment /local_disk0/.ephemeral_nfs/envs/pythonEnv-a98027c7-8026-4e16-a676-c7c53b464246\n    Can't uninstall 'bcrypt'. No files were found to uninstall.\n  Attempting uninstall: tiktoken\n    Found existing installation: tiktoken 0.4.0\n    Not uninstalling tiktoken at /databricks/python3/lib/python3.10/site-packages, outside environment /local_disk0/.ephemeral_nfs/envs/pythonEnv-a98027c7-8026-4e16-a676-c7c53b464246\n    Can't uninstall 'tiktoken'. No files were found to uninstall.\n  Attempting uninstall: sqlalchemy\n    Found existing installation: SQLAlchemy 1.4.39\n    Not uninstalling sqlalchemy at /databricks/python3/lib/python3.10/site-packages, outside environment /local_disk0/.ephemeral_nfs/envs/pythonEnv-a98027c7-8026-4e16-a676-c7c53b464246\n    Can't uninstall 'SQLAlchemy'. No files were found to uninstall.\n  Attempting uninstall: langchain\n    Found existing installation: langchain 0.0.217\n    Not uninstalling langchain at /databricks/python3/lib/python3.10/site-packages, outside environment /local_disk0/.ephemeral_nfs/envs/pythonEnv-a98027c7-8026-4e16-a676-c7c53b464246\n    Can't uninstall 'langchain'. No files were found to uninstall.\nERROR: pip's dependency resolver does not currently take into account all the packages that are installed. This behaviour is the source of the following dependency conflicts.\npetastorm 0.12.1 requires pyspark>=2.1.0, which is not installed.\ndatabricks-feature-store 0.14.3 requires pyspark<4,>=3.1.2, which is not installed.\nydata-profiling 4.2.0 requires numpy<1.24,>=1.16.0, but you have numpy 1.26.4 which is incompatible.\nscipy 1.9.1 requires numpy<1.25.0,>=1.18.5, but you have numpy 1.26.4 which is incompatible.\nnumba 0.55.1 requires numpy<1.22,>=1.18, but you have numpy 1.26.4 which is incompatible.\nmleap 0.20.0 requires scikit-learn<0.23.0,>=0.22.0, but you have scikit-learn 1.1.1 which is incompatible.\nSuccessfully installed backoff-2.2.1 bcrypt-4.1.3 chroma-hnswlib-0.7.3 chromadb-0.4.10 coloredlogs-15.0.1 humanfriendly-10.0 langchain-0.0.249 langsmith-0.0.92 monotonic-1.6 mpmath-1.3.0 numpy-1.26.4 onnxruntime-1.18.0 overrides-7.7.0 posthog-3.5.0 pulsar-client-3.5.0 pypika-0.48.9 sqlalchemy-2.0.15 sympy-1.12 tiktoken-0.3.3 tqdm-4.66.4 typing-extensions-4.12.0\n\u001b[43mNote: you may need to restart the kernel using dbutils.library.restartPython() to use updated packages.\u001b[0m\n"
          ]
        }
      ],
      "source": [
        "%pip install chromadb==0.4.10 tiktoken==0.3.3 sqlalchemy==2.0.15 langchain==0.0.249"
      ]
    },
    {
      "cell_type": "code",
      "execution_count": null,
      "metadata": {
        "application/vnd.databricks.v1+cell": {
          "cellMetadata": {
            "byteLimit": 2048000,
            "rowLimit": 10000
          },
          "inputWidgets": {},
          "nuid": "2069b2bd-98dc-41c2-8209-5a37cf33ad6f",
          "showTitle": false,
          "title": ""
        },
        "id": "vW-VOjKy-rb6"
      },
      "outputs": [],
      "source": [
        "dbutils.library.restartPython()"
      ]
    },
    {
      "cell_type": "code",
      "execution_count": null,
      "metadata": {
        "application/vnd.databricks.v1+cell": {
          "cellMetadata": {
            "byteLimit": 2048000,
            "rowLimit": 10000
          },
          "inputWidgets": {},
          "nuid": "4b81ca21-dccd-41af-9f9f-6d58591bbb38",
          "showTitle": false,
          "title": ""
        },
        "id": "yBQlRHhJ-rb7",
        "outputId": "6397b1ae-38d9-4670-b7d1-3060669a5534"
      },
      "outputs": [
        {
          "output_type": "stream",
          "name": "stdout",
          "text": [
            "\u001b[43mNote: you may need to restart the kernel using dbutils.library.restartPython() to use updated packages.\u001b[0m\n\u001b[43mNote: you may need to restart the kernel using dbutils.library.restartPython() to use updated packages.\u001b[0m\n"
          ]
        },
        {
          "output_type": "stream",
          "name": "stdout",
          "text": [
            "Resetting the learning environment:\n| Enumerating serving endpoints...found 7...(0 seconds)\n| No action taken\n\nSkipping download of existing archive to \"dbfs:/mnt/dbacademy-datasets/large-language-models/v03\" \n| Validating local assets:\n| | Listing local files...(0 seconds)\n| | Validation completed...(0 seconds total)\n|\n| Skipping the unpacking of datasets to \"dbfs:/mnt/dbacademy-users/labuser6235508@vocareum.com/large-language-models/datasets\" \n|\n| Dataset installation completed (1 seconds)\n\n"
          ]
        },
        {
          "output_type": "stream",
          "name": "stdout",
          "text": [
            "Importing lab testing framework.\n"
          ]
        },
        {
          "output_type": "stream",
          "name": "stdout",
          "text": [
            "\nUsing the \"default\" schema.\n\nPredefined paths variables:\n| DA.paths.working_dir: /dbfs/mnt/dbacademy-users/labuser6235508@vocareum.com/large-language-models/working\n| DA.paths.user_db:     /dbfs/mnt/dbacademy-users/labuser6235508@vocareum.com/large-language-models/working/database.db\n| DA.paths.datasets:    /dbfs/mnt/dbacademy-users/labuser6235508@vocareum.com/large-language-models/datasets\n\nSetup completed (14 seconds)\n\nThe models developed or used in this course are for demonstration and learning purposes only.\nModels may occasionally output offensive, inaccurate, biased information, or harmful instructions.\n"
          ]
        }
      ],
      "source": [
        "%run ../Includes/Classroom-Setup"
      ]
    },
    {
      "cell_type": "markdown",
      "metadata": {
        "application/vnd.databricks.v1+cell": {
          "cellMetadata": {},
          "inputWidgets": {},
          "nuid": "5821aab9-783f-4045-ab2e-3ab3811bf138",
          "showTitle": false,
          "title": ""
        },
        "id": "bVQzS5KJ-rb7"
      },
      "source": [
        "Fill in your credentials."
      ]
    },
    {
      "cell_type": "code",
      "execution_count": null,
      "metadata": {
        "application/vnd.databricks.v1+cell": {
          "cellMetadata": {
            "byteLimit": 2048000,
            "rowLimit": 10000
          },
          "inputWidgets": {},
          "nuid": "329b48a8-5b2c-43c5-a1d4-1dd92826d354",
          "showTitle": false,
          "title": ""
        },
        "id": "Inz3Zd-X-rb7"
      },
      "outputs": [],
      "source": [
        "# TODO\n",
        "# For many of the services that we'll using in the notebook, we'll need a HuggingFace API key so this cell will ask for it:\n",
        "# HuggingFace Hub: https://huggingface.co/inference-api\n",
        "\n",
        "import os\n",
        "os.environ[\"HUGGINGFACEHUB_API_TOKEN\"] = \"\""
      ]
    },
    {
      "cell_type": "markdown",
      "metadata": {
        "application/vnd.databricks.v1+cell": {
          "cellMetadata": {},
          "inputWidgets": {},
          "nuid": "3bb4f17d-a636-48dd-b28c-5b213149755c",
          "showTitle": false,
          "title": ""
        },
        "id": "_21JcXyD-rb7"
      },
      "source": [
        "## Building a Personalized Document Oracle\n",
        "\n",
        "In this notebook, we're going to build a special type of LLMChain that will enable us to ask questions of our data. We will be able to \"speak to our data\"."
      ]
    },
    {
      "cell_type": "markdown",
      "metadata": {
        "application/vnd.databricks.v1+cell": {
          "cellMetadata": {},
          "inputWidgets": {},
          "nuid": "b3c907d7-ad0d-4ded-a5ee-8deef956db58",
          "showTitle": false,
          "title": ""
        },
        "id": "QXZ5dJHe-rb7"
      },
      "source": [
        "### Step 1 - Loading Documents into our Vector Store\n",
        "For this system we'll leverage the [ChromaDB vector database](https://www.trychroma.com/) and load in some text we have on file. This file is of a hypothetical laptop being reviewed in both long form and with brief customer reviews. We'll use LangChain's `TextLoader` to load this data."
      ]
    },
    {
      "cell_type": "code",
      "execution_count": null,
      "metadata": {
        "application/vnd.databricks.v1+cell": {
          "cellMetadata": {
            "byteLimit": 2048000,
            "rowLimit": 10000
          },
          "inputWidgets": {},
          "nuid": "3c9476c7-c389-419d-bf95-e4d0054f5c9b",
          "showTitle": false,
          "title": ""
        },
        "id": "9ftA0-pn-rb7",
        "outputId": "52ee94dd-e865-4a22-8386-aa7c9730e879"
      },
      "outputs": [
        {
          "output_type": "display_data",
          "data": {
            "text/html": [
              "<style scoped>\n",
              "  .table-result-container {\n",
              "    max-height: 300px;\n",
              "    overflow: auto;\n",
              "  }\n",
              "  table, th, td {\n",
              "    border: 1px solid black;\n",
              "    border-collapse: collapse;\n",
              "  }\n",
              "  th, td {\n",
              "    padding: 5px;\n",
              "  }\n",
              "  th {\n",
              "    text-align: left;\n",
              "  }\n",
              "</style><div class='table-result-container'><table class='table-result'><thead style='background-color: white'><tr><th>metadata</th><th>page_content</th></tr></thead><tbody><tr><td>Map(source -> /dbfs/mnt/dbacademy-users/labuser6235508@vocareum.com/large-language-models/datasets/reviews/fake_laptop_reviews.txt)</td><td>Raytech Supernova Laptop Review: A Star in the Making\n",
              "Introduction\n",
              "The laptop market has become increasingly competitive in recent years, with countless manufacturers vying for consumer attention. Raytech, a relatively new player in the game, has recently released the Supernova laptop, a device that aims to establish itself among the giants of the industry. In this comprehensive review, we will delve into every aspect of the Raytech Supernova laptop, covering its design, performance, features, and value for money. Let's find out if this newcomer has what it takes to make an impact in the crowded market.\n",
              "Design and Build Quality\n",
              "The first thing you'll notice about the Raytech Supernova is its sleek, modern design. The laptop is encased in a premium, brushed aluminum chassis with a matte finish, lending it an air of sophistication. It's a lightweight device, weighing in at just 2.8 pounds, making it easy to carry around for those always on the go. The slim profile, measuring 0.6 inches in thickness, adds to its portability.\n",
              "The Supernova's build quality is impressive, with no flexing or creaking when handling the device. The hinge is sturdy and smooth, allowing for easy adjustment of the display while keeping it stable during use. The laptop's keyboard is well-spaced, offering a comfortable typing experience. The keys are backlit, with customizable lighting options, making it convenient for use in dimly lit environments.\n",
              "Display and Graphics \n",
              "The Raytech Supernova comes with a 15.6-inch 4K UHD (3840 x 2160) IPS display, offering crisp and vibrant visuals. The screen is capable of producing a wide color gamut, ensuring accurate color reproduction across different media types. The panel has a matte finish, which helps to reduce glare and reflections, making it ideal for use in various lighting conditions.\n",
              "The laptop is powered by an NVIDIA GeForce RTX 3070 GPU, which provides excellent graphics performance for gaming and other demanding tasks. With support for real-time ray tracing and DLSS, the Supernova is well-suited for graphic-intensive applications and games. The GPU performance ensures smooth and immersive gameplay, even at high settings.\n",
              "Performance and Battery Life \n",
              "Under the hood, the Raytech Supernova is powered by the latest 11th Gen Intel Core i7 processor, paired with 16GB of DDR4 RAM. This combination ensures snappy performance during everyday tasks, such as web browsing and productivity applications. The laptop also has a 1TB NVMe SSD, which offers fast read/write speeds, resulting in quick boot times and application launches.\n",
              "In our tests, the Supernova managed to handle intensive tasks, such as video editing and 3D rendering, with ease. Even when pushed to its limits, the laptop remained cool and quiet, thanks to its efficient cooling system.\n",
              "Battery life is an essential aspect of any laptop, and the Raytech Supernova does not disappoint. The device comes with a 97Wh battery, which, in our testing, lasted for around 10 hours of continuous web browsing and productivity tasks. When used for gaming or other demanding tasks, the battery life is reduced to approximately 5 hours, which is still impressive for a high-performance laptop.\n",
              "Connectivity and Ports\n",
              "The Raytech Supernova offers a wide range of connectivity options, ensuring compatibility with various peripherals and devices. On the left side, you'll find a USB 3.2 Gen 2 Type-A port, an HDMI 2.1 port, and a Gigabit Ethernet port. On the right side, there's a Thunderbolt 4 port, two USB 3.2 Gen 1 Type-A ports, a 3.5mm audio jack, and an SD card reader. The Thunderbolt 4 port supports Power Delivery, allowing you to charge the laptop and connect peripherals with a single cable.\n",
              "The Supernova also comes with Wi-Fi 6 and Bluetooth 5.1, ensuring fast and reliable wireless connections. These features make the laptop versatile, allowing you to connect multiple devices and peripherals simultaneously without any hassle.\n",
              "Audio and Webcam \n",
              "The audio quality on the Raytech Supernova is impressive, thanks to its built-in stereo speakers. The laptop features Dolby Atmos audio technology, which enhances the audio experience by providing immersive sound quality. The speakers deliver clear and crisp audio, with a reasonable amount of bass for a laptop. However, for a more immersive experience, external speakers or headphones are recommended.\n",
              "The Supernova is equipped with a 720p HD webcam, which is adequate for video calls and conferencing. The camera provides decent image quality under good lighting conditions but struggles in low light situations. The built-in dual-array microphones, however, offer clear and noise-free audio capture during calls.\n",
              "Software and Security \n",
              "The Raytech Supernova comes pre-installed with Windows 10 Home, offering a familiar and user-friendly operating system. A free upgrade to Windows 11 is available, which introduces new features and improvements to the overall user experience.\n",
              "In terms of security, the Supernova includes a fingerprint reader integrated into the power button. This feature allows for quick and secure logins using Windows Hello. The laptop also features a TPM 2.0 chip, which provides hardware-based encryption for sensitive data, further enhancing the device's security.\n",
              "Customer Support and Warranty\n",
              "Raytech offers a standard one-year limited warranty for the Supernova laptop, covering manufacturing defects and hardware issues. The company provides customer support through email, live chat, and phone, ensuring that users have access to assistance when needed.\n",
              "In our interactions with Raytech's customer support, we found the representatives to be knowledgeable, friendly, and responsive. The company also maintains an online support portal, which includes a comprehensive knowledge base, software downloads, and troubleshooting guides for common issues.\n",
              "Conclusion\n",
              "The Raytech Supernova is a compelling laptop that offers an impressive combination of performance, features, and design. With its sleek aluminum chassis, vibrant 4K display, and powerful hardware, the Supernova stands out in the crowded laptop market.\n",
              "The laptop's excellent battery life, wide range of connectivity options, and robust security features make it a versatile device, suitable for both professional and personal use. While the audio and webcam quality could be improved, these are minor drawbacks in an otherwise outstanding laptop.\n",
              "Overall, the Raytech Supernova offers excellent value for money, making it an ideal choice for those looking for a high-performance laptop that doesn't compromise on style or functionality. If you're in the market for a new laptop, the Raytech Supernova should definitely be on your shortlist.\n",
              "\n",
              "Customer Reviews:\n",
              "\"Sleek and powerful - 5 stars\"\n",
              "I recently purchased the Raytech Supernova and I couldn't be happier. It's lightweight, stylish, and powerful, making it perfect for both work and play. The 4K display is stunning, and the battery life is impressive. Highly recommended!\n",
              "\n",
              "\"Great performance but average webcam - 4 stars\"\n",
              "The Raytech Supernova has exceeded my expectations in terms of performance and design. However, the webcam quality is just average. It works fine for casual video calls, but for professional use, I'd recommend an external webcam.\n",
              "\n",
              "\"Perfect for content creators - 5 stars\"\n",
              "As a video editor, the Supernova has been a game-changer for me. The 4K display, powerful GPU, and fast SSD make editing large video files a breeze. The connectivity options are also a plus. Absolutely love this laptop!\n",
              "\n",
              "\"Impressive gaming laptop - 5 stars\"\n",
              "The Raytech Supernova handles all my favorite games with ease, even on high settings. The display is beautiful, and the cooling system keeps the laptop quiet during long gaming sessions. A fantastic choice for gamers!\n",
              "\n",
              "\"Good but not perfect - 4 stars\"\n",
              "I love the design, performance, and battery life of the Supernova. The only downside is the audio quality from the built-in speakers. It's decent, but for a better experience, I use headphones or external speakers.\n",
              "\n",
              "\"Excellent value for money - 5 stars\"\n",
              "The Supernova offers great performance and features at a reasonable price. It's sleek, lightweight, and powerful, making it suitable for both work and entertainment. Highly recommended for anyone in need of a new laptop!\n",
              "\n",
              "\"Great for on-the-go professionals - 4.5 stars\"\n",
              "As a traveling professional, the Supernova has been a reliable companion. Its lightweight design and long battery life make it ideal for working on the go. The only minor issue is the webcam quality, but overall, it's an excellent laptop.\n",
              "\n",
              "\"Stylish and versatile - 5 stars\"\n",
              "The Raytech Supernova is a perfect combination of style and functionality. The aluminum chassis gives it a premium feel, and the performance is top-notch. The variety of ports allows me to connect all my peripherals without a problem. Highly satisfied!\n",
              "\n",
              "\"Reliable and user-friendly - 4 stars\"\n",
              "The Supernova has been a dependable laptop for my daily tasks. The 4K display is a treat for the eyes, and the performance is reliable. The fingerprint reader for secure login is a nice touch. However, the audio quality could be better.\n",
              "\n",
              "\"A solid choice for students - 5 stars\"\n",
              "As a student, I needed a laptop that could handle multitasking, media consumption, and occasional gaming. The Supernova checks all those boxes while being lightweight and stylish. The battery life is also a huge plus. I'm extremely happy with my purchase!\n",
              "\n",
              "</td></tr></tbody></table></div>"
            ]
          },
          "metadata": {
            "application/vnd.databricks.v1+output": {
              "addedWidgets": {},
              "aggData": [],
              "aggError": "",
              "aggOverflow": false,
              "aggSchema": [],
              "aggSeriesLimitReached": false,
              "aggType": "",
              "arguments": {},
              "columnCustomDisplayInfos": {},
              "data": [
                [
                  {
                    "source": "/dbfs/mnt/dbacademy-users/labuser6235508@vocareum.com/large-language-models/datasets/reviews/fake_laptop_reviews.txt"
                  },
                  "Raytech Supernova Laptop Review: A Star in the Making\nIntroduction\nThe laptop market has become increasingly competitive in recent years, with countless manufacturers vying for consumer attention. Raytech, a relatively new player in the game, has recently released the Supernova laptop, a device that aims to establish itself among the giants of the industry. In this comprehensive review, we will delve into every aspect of the Raytech Supernova laptop, covering its design, performance, features, and value for money. Let's find out if this newcomer has what it takes to make an impact in the crowded market.\nDesign and Build Quality\nThe first thing you'll notice about the Raytech Supernova is its sleek, modern design. The laptop is encased in a premium, brushed aluminum chassis with a matte finish, lending it an air of sophistication. It's a lightweight device, weighing in at just 2.8 pounds, making it easy to carry around for those always on the go. The slim profile, measuring 0.6 inches in thickness, adds to its portability.\nThe Supernova's build quality is impressive, with no flexing or creaking when handling the device. The hinge is sturdy and smooth, allowing for easy adjustment of the display while keeping it stable during use. The laptop's keyboard is well-spaced, offering a comfortable typing experience. The keys are backlit, with customizable lighting options, making it convenient for use in dimly lit environments.\nDisplay and Graphics \nThe Raytech Supernova comes with a 15.6-inch 4K UHD (3840 x 2160) IPS display, offering crisp and vibrant visuals. The screen is capable of producing a wide color gamut, ensuring accurate color reproduction across different media types. The panel has a matte finish, which helps to reduce glare and reflections, making it ideal for use in various lighting conditions.\nThe laptop is powered by an NVIDIA GeForce RTX 3070 GPU, which provides excellent graphics performance for gaming and other demanding tasks. With support for real-time ray tracing and DLSS, the Supernova is well-suited for graphic-intensive applications and games. The GPU performance ensures smooth and immersive gameplay, even at high settings.\nPerformance and Battery Life \nUnder the hood, the Raytech Supernova is powered by the latest 11th Gen Intel Core i7 processor, paired with 16GB of DDR4 RAM. This combination ensures snappy performance during everyday tasks, such as web browsing and productivity applications. The laptop also has a 1TB NVMe SSD, which offers fast read/write speeds, resulting in quick boot times and application launches.\nIn our tests, the Supernova managed to handle intensive tasks, such as video editing and 3D rendering, with ease. Even when pushed to its limits, the laptop remained cool and quiet, thanks to its efficient cooling system.\nBattery life is an essential aspect of any laptop, and the Raytech Supernova does not disappoint. The device comes with a 97Wh battery, which, in our testing, lasted for around 10 hours of continuous web browsing and productivity tasks. When used for gaming or other demanding tasks, the battery life is reduced to approximately 5 hours, which is still impressive for a high-performance laptop.\nConnectivity and Ports\nThe Raytech Supernova offers a wide range of connectivity options, ensuring compatibility with various peripherals and devices. On the left side, you'll find a USB 3.2 Gen 2 Type-A port, an HDMI 2.1 port, and a Gigabit Ethernet port. On the right side, there's a Thunderbolt 4 port, two USB 3.2 Gen 1 Type-A ports, a 3.5mm audio jack, and an SD card reader. The Thunderbolt 4 port supports Power Delivery, allowing you to charge the laptop and connect peripherals with a single cable.\nThe Supernova also comes with Wi-Fi 6 and Bluetooth 5.1, ensuring fast and reliable wireless connections. These features make the laptop versatile, allowing you to connect multiple devices and peripherals simultaneously without any hassle.\nAudio and Webcam \nThe audio quality on the Raytech Supernova is impressive, thanks to its built-in stereo speakers. The laptop features Dolby Atmos audio technology, which enhances the audio experience by providing immersive sound quality. The speakers deliver clear and crisp audio, with a reasonable amount of bass for a laptop. However, for a more immersive experience, external speakers or headphones are recommended.\nThe Supernova is equipped with a 720p HD webcam, which is adequate for video calls and conferencing. The camera provides decent image quality under good lighting conditions but struggles in low light situations. The built-in dual-array microphones, however, offer clear and noise-free audio capture during calls.\nSoftware and Security \nThe Raytech Supernova comes pre-installed with Windows 10 Home, offering a familiar and user-friendly operating system. A free upgrade to Windows 11 is available, which introduces new features and improvements to the overall user experience.\nIn terms of security, the Supernova includes a fingerprint reader integrated into the power button. This feature allows for quick and secure logins using Windows Hello. The laptop also features a TPM 2.0 chip, which provides hardware-based encryption for sensitive data, further enhancing the device's security.\nCustomer Support and Warranty\nRaytech offers a standard one-year limited warranty for the Supernova laptop, covering manufacturing defects and hardware issues. The company provides customer support through email, live chat, and phone, ensuring that users have access to assistance when needed.\nIn our interactions with Raytech's customer support, we found the representatives to be knowledgeable, friendly, and responsive. The company also maintains an online support portal, which includes a comprehensive knowledge base, software downloads, and troubleshooting guides for common issues.\nConclusion\nThe Raytech Supernova is a compelling laptop that offers an impressive combination of performance, features, and design. With its sleek aluminum chassis, vibrant 4K display, and powerful hardware, the Supernova stands out in the crowded laptop market.\nThe laptop's excellent battery life, wide range of connectivity options, and robust security features make it a versatile device, suitable for both professional and personal use. While the audio and webcam quality could be improved, these are minor drawbacks in an otherwise outstanding laptop.\nOverall, the Raytech Supernova offers excellent value for money, making it an ideal choice for those looking for a high-performance laptop that doesn't compromise on style or functionality. If you're in the market for a new laptop, the Raytech Supernova should definitely be on your shortlist.\n\nCustomer Reviews:\n\"Sleek and powerful - 5 stars\"\nI recently purchased the Raytech Supernova and I couldn't be happier. It's lightweight, stylish, and powerful, making it perfect for both work and play. The 4K display is stunning, and the battery life is impressive. Highly recommended!\n\n\"Great performance but average webcam - 4 stars\"\nThe Raytech Supernova has exceeded my expectations in terms of performance and design. However, the webcam quality is just average. It works fine for casual video calls, but for professional use, I'd recommend an external webcam.\n\n\"Perfect for content creators - 5 stars\"\nAs a video editor, the Supernova has been a game-changer for me. The 4K display, powerful GPU, and fast SSD make editing large video files a breeze. The connectivity options are also a plus. Absolutely love this laptop!\n\n\"Impressive gaming laptop - 5 stars\"\nThe Raytech Supernova handles all my favorite games with ease, even on high settings. The display is beautiful, and the cooling system keeps the laptop quiet during long gaming sessions. A fantastic choice for gamers!\n\n\"Good but not perfect - 4 stars\"\nI love the design, performance, and battery life of the Supernova. The only downside is the audio quality from the built-in speakers. It's decent, but for a better experience, I use headphones or external speakers.\n\n\"Excellent value for money - 5 stars\"\nThe Supernova offers great performance and features at a reasonable price. It's sleek, lightweight, and powerful, making it suitable for both work and entertainment. Highly recommended for anyone in need of a new laptop!\n\n\"Great for on-the-go professionals - 4.5 stars\"\nAs a traveling professional, the Supernova has been a reliable companion. Its lightweight design and long battery life make it ideal for working on the go. The only minor issue is the webcam quality, but overall, it's an excellent laptop.\n\n\"Stylish and versatile - 5 stars\"\nThe Raytech Supernova is a perfect combination of style and functionality. The aluminum chassis gives it a premium feel, and the performance is top-notch. The variety of ports allows me to connect all my peripherals without a problem. Highly satisfied!\n\n\"Reliable and user-friendly - 4 stars\"\nThe Supernova has been a dependable laptop for my daily tasks. The 4K display is a treat for the eyes, and the performance is reliable. The fingerprint reader for secure login is a nice touch. However, the audio quality could be better.\n\n\"A solid choice for students - 5 stars\"\nAs a student, I needed a laptop that could handle multitasking, media consumption, and occasional gaming. The Supernova checks all those boxes while being lightweight and stylish. The battery life is also a huge plus. I'm extremely happy with my purchase!\n\n"
                ]
              ],
              "datasetInfos": [],
              "dbfsResultPath": null,
              "isJsonSchema": true,
              "metadata": {},
              "overflow": false,
              "plotOptions": {
                "customPlotOptions": {},
                "displayType": "table",
                "pivotAggregation": null,
                "pivotColumns": null,
                "xColumns": null,
                "yColumns": null
              },
              "removedWidgets": [],
              "schema": [
                {
                  "metadata": "{}",
                  "name": "metadata",
                  "type": "{\"type\":\"map\",\"keyType\":\"string\",\"valueType\":\"string\",\"valueContainsNull\":true}"
                },
                {
                  "metadata": "{}",
                  "name": "page_content",
                  "type": "\"string\""
                }
              ],
              "type": "table"
            }
          }
        }
      ],
      "source": [
        "from langchain.vectorstores import Chroma\n",
        "from langchain.document_loaders import TextLoader\n",
        "\n",
        "# We have some fake laptop reviews that we can load in\n",
        "laptop_reviews = TextLoader(\n",
        "    f\"{DA.paths.datasets}/reviews/fake_laptop_reviews.txt\", encoding=\"utf8\"\n",
        ")\n",
        "document = laptop_reviews.load()\n",
        "display(document)"
      ]
    },
    {
      "cell_type": "markdown",
      "metadata": {
        "application/vnd.databricks.v1+cell": {
          "cellMetadata": {},
          "inputWidgets": {},
          "nuid": "6ed89ecd-a23a-4048-bc49-37aa8167e602",
          "showTitle": false,
          "title": ""
        },
        "id": "7E4hzeL--rb8"
      },
      "source": [
        "### Step 2 - Chunking and Embeddings\n",
        "\n",
        "Now that we have the data in document format, we will split data into chunks using a `CharacterTextSplitter` and embed this data using Hugging Face's embedding LLM to embed this data for our vector store."
      ]
    },
    {
      "cell_type": "code",
      "execution_count": null,
      "metadata": {
        "application/vnd.databricks.v1+cell": {
          "cellMetadata": {
            "byteLimit": 2048000,
            "rowLimit": 10000
          },
          "inputWidgets": {},
          "nuid": "a5865306-a738-48b6-9b7d-677d72ca7ffe",
          "showTitle": false,
          "title": ""
        },
        "id": "H49XAQtO-rb8",
        "outputId": "eddf330b-fc5d-465a-985a-bb376d6ab2d5"
      },
      "outputs": [
        {
          "output_type": "stream",
          "name": "stderr",
          "text": [
            "Created a chunk of size 6702, which is longer than the specified 250\nCreated a chunk of size 285, which is longer than the specified 250\nCreated a chunk of size 278, which is longer than the specified 250\nCreated a chunk of size 260, which is longer than the specified 250\nCreated a chunk of size 254, which is longer than the specified 250\nCreated a chunk of size 258, which is longer than the specified 250\nCreated a chunk of size 286, which is longer than the specified 250\nCreated a chunk of size 286, which is longer than the specified 250\nCreated a chunk of size 275, which is longer than the specified 250\n"
          ]
        }
      ],
      "source": [
        "from langchain.text_splitter import CharacterTextSplitter\n",
        "from langchain.embeddings import HuggingFaceEmbeddings\n",
        "from langchain.vectorstores import Chroma\n",
        "import tempfile\n",
        "\n",
        "tmp_laptop_dir = tempfile.TemporaryDirectory()\n",
        "tmp_shakespeare_dir = tempfile.TemporaryDirectory()\n",
        "\n",
        "# First we split the data into manageable chunks to store as vectors. There isn't an exact way to do this, more chunks means more detailed context, but will increase the size of our vectorstore.\n",
        "text_splitter = CharacterTextSplitter(chunk_size=250, chunk_overlap=10)\n",
        "texts = text_splitter.split_documents(document)\n",
        "# Now we'll create embeddings for our document so we can store it in a vector store and feed the data into an LLM. We'll use the sentence-transformers model for out embeddings. https://www.sbert.net/docs/pretrained_models.html#sentence-embedding-models/\n",
        "model_name = \"sentence-transformers/all-MiniLM-L6-v2\"\n",
        "embeddings = HuggingFaceEmbeddings(\n",
        "    model_name=model_name, cache_folder=DA.paths.datasets\n",
        ")  # Use a pre-cached model\n",
        "# Finally we make our Index using chromadb and the embeddings LLM\n",
        "chromadb_index = Chroma.from_documents(\n",
        "    texts, embeddings, persist_directory=tmp_laptop_dir.name\n",
        ")"
      ]
    },
    {
      "cell_type": "markdown",
      "metadata": {
        "application/vnd.databricks.v1+cell": {
          "cellMetadata": {},
          "inputWidgets": {},
          "nuid": "568cbf3f-8a12-49af-8240-e1ae5aab990f",
          "showTitle": false,
          "title": ""
        },
        "id": "Gh8bkXN8-rb8"
      },
      "source": [
        "### Step 3 - Creating our Document QA LLM Chain\n",
        "With our data now in vector form we need an LLM and a chain to take our queries and create tasks for our LLM to perform."
      ]
    },
    {
      "cell_type": "code",
      "execution_count": null,
      "metadata": {
        "application/vnd.databricks.v1+cell": {
          "cellMetadata": {
            "byteLimit": 2048000,
            "rowLimit": 10000
          },
          "inputWidgets": {},
          "nuid": "35b784e2-0da5-4fe6-be76-f1cad2f0e919",
          "showTitle": false,
          "title": ""
        },
        "id": "6FRLOA6p-rb8"
      },
      "outputs": [],
      "source": [
        "from langchain.chains import RetrievalQA\n",
        "from langchain.llms import HuggingFacePipeline\n",
        "\n",
        "# We want to make this a retriever, so we need to convert our index.  This will create a wrapper around the functionality of our vector database so we can search for similar documents/chunks in the vectorstore and retrieve the results:\n",
        "retriever = chromadb_index.as_retriever()\n",
        "\n",
        "# This chain will be used to do QA on the document. We will need\n",
        "# 1 - A LLM to do the language interpretation\n",
        "# 2 - A vector database that can perform document retrieval\n",
        "# 3 - Specification on how to deal with this data (more on this soon)\n",
        "\n",
        "hf_llm = HuggingFacePipeline.from_model_id(\n",
        "    model_id=\"google/flan-t5-large\",\n",
        "    task=\"text2text-generation\",\n",
        "    model_kwargs={\n",
        "        \"temperature\": 0,\n",
        "        \"max_length\": 128,\n",
        "        \"cache_dir\": DA.paths.datasets,\n",
        "    },\n",
        ")\n",
        "\n",
        "chain_type = \"stuff\"  # Options: stuff, map_reduce, refine, map_rerank\n",
        "laptop_qa = RetrievalQA.from_chain_type(\n",
        "    llm=hf_llm, chain_type=\"stuff\", retriever=retriever\n",
        ")"
      ]
    },
    {
      "cell_type": "markdown",
      "metadata": {
        "application/vnd.databricks.v1+cell": {
          "cellMetadata": {},
          "inputWidgets": {},
          "nuid": "4026da40-cc94-4dce-b2c6-6a586b0f79c7",
          "showTitle": false,
          "title": ""
        },
        "id": "jIoDpI-l-rb8"
      },
      "source": [
        "### Step 4 - Talking to Our Data\n",
        "Now we are ready to send prompts to our LLM and have it use our prompt, the access to our data, and read the information, process, and return with a response."
      ]
    },
    {
      "cell_type": "code",
      "execution_count": null,
      "metadata": {
        "application/vnd.databricks.v1+cell": {
          "cellMetadata": {
            "byteLimit": 2048000,
            "rowLimit": 10000
          },
          "inputWidgets": {},
          "nuid": "a0cce58b-6482-4c48-8a11-79a42324db21",
          "showTitle": false,
          "title": ""
        },
        "id": "2Dc_8pD3-rb8",
        "outputId": "ee15dcb2-2669-4ed2-8408-e840675aff1a"
      },
      "outputs": [
        {
          "output_type": "stream",
          "name": "stderr",
          "text": [
            "Token indices sequence length is longer than the specified maximum sequence length for this model (1666 > 512). Running this sequence through the model will result in indexing errors\n/databricks/python/lib/python3.10/site-packages/transformers/generation/utils.py:1259: UserWarning: You have modified the pretrained model configuration to control generation. This is a deprecated strategy to control generation and will be removed soon, in a future version. Please use a generation configuration file (see https://huggingface.co/docs/transformers/main_classes/text_generation)\n  warnings.warn(\n"
          ]
        },
        {
          "output_type": "display_data",
          "data": {
            "text/plain": [
              "'Raytech Supernova'"
            ]
          },
          "metadata": {}
        }
      ],
      "source": [
        "# Let's ask the chain about the product we have.\n",
        "laptop_name = laptop_qa.run(\"What is the full name of the laptop?\")\n",
        "display(laptop_name)"
      ]
    },
    {
      "cell_type": "code",
      "execution_count": null,
      "metadata": {
        "application/vnd.databricks.v1+cell": {
          "cellMetadata": {
            "byteLimit": 2048000,
            "rowLimit": 10000
          },
          "inputWidgets": {},
          "nuid": "87ae032a-1f3d-45d4-8e89-3c65a95d51dc",
          "showTitle": false,
          "title": ""
        },
        "id": "ufan4hXS-rb9",
        "outputId": "ee1e03f5-df66-4d72-d2e2-1f43ed253cb0"
      },
      "outputs": [
        {
          "output_type": "display_data",
          "data": {
            "text/plain": [
              "'The 4K display, powerful GPU, and fast SSD'"
            ]
          },
          "metadata": {}
        }
      ],
      "source": [
        "# Now we'll ask the chain about the product.\n",
        "laptop_features = laptop_qa.run(\"What are some of the laptop's features?\")\n",
        "display(laptop_features)"
      ]
    },
    {
      "cell_type": "code",
      "execution_count": null,
      "metadata": {
        "application/vnd.databricks.v1+cell": {
          "cellMetadata": {
            "byteLimit": 2048000,
            "rowLimit": 10000
          },
          "inputWidgets": {},
          "nuid": "eb8000d3-755a-48f1-afa5-0670ecf5e960",
          "showTitle": false,
          "title": ""
        },
        "id": "6SGdTKwS-rb9",
        "outputId": "d696349a-1eaa-40a0-9cca-bfc553a98045"
      },
      "outputs": [
        {
          "output_type": "display_data",
          "data": {
            "text/plain": [
              "'positive'"
            ]
          },
          "metadata": {}
        }
      ],
      "source": [
        "# Finally let's ask the chain about the reviews.\n",
        "laptop_reviews = laptop_qa.run(\"What is the general sentiment of the reviews?\")\n",
        "display(laptop_reviews)"
      ]
    },
    {
      "cell_type": "markdown",
      "metadata": {
        "application/vnd.databricks.v1+cell": {
          "cellMetadata": {},
          "inputWidgets": {},
          "nuid": "67607d1b-3afa-4b32-8f57-09d101836c8a",
          "showTitle": false,
          "title": ""
        },
        "id": "bSgJiYcR-rb9"
      },
      "source": [
        "## Exercise: Working with larger documents\n",
        "This document was relatively small. So let's see if we can work with something bigger. To show how well we can scale the vector database, let's load in a larger document. For this we'll get data from the [Gutenberg Project](https://www.gutenberg.org/) where thousands of free-to-access texts. We'll use the complete works of William Shakespeare.\n",
        "\n",
        "Instead of a local text document, we'll download the complete works of Shakespeare using the `GutenbergLoader` that works with the Gutenberg project: https://www.gutenberg.org"
      ]
    },
    {
      "cell_type": "code",
      "execution_count": null,
      "metadata": {
        "application/vnd.databricks.v1+cell": {
          "cellMetadata": {
            "byteLimit": 2048000,
            "rowLimit": 10000
          },
          "inputWidgets": {},
          "nuid": "85df2ed2-af7e-453f-9b99-65e2fae2121f",
          "showTitle": false,
          "title": ""
        },
        "id": "E_EAuxMG-rb9"
      },
      "outputs": [],
      "source": [
        "from langchain.document_loaders import GutenbergLoader\n",
        "\n",
        "loader = GutenbergLoader(\n",
        "    \"https://www.gutenberg.org/cache/epub/100/pg100.txt\"\n",
        ")  # Complete works of Shakespeare in a txt file\n",
        "\n",
        "all_shakespeare_text = loader.load()"
      ]
    },
    {
      "cell_type": "markdown",
      "metadata": {
        "application/vnd.databricks.v1+cell": {
          "cellMetadata": {},
          "inputWidgets": {},
          "nuid": "91e3a274-a118-4072-87fb-5320413cf67c",
          "showTitle": false,
          "title": ""
        },
        "id": "kOuz0nE6-rb9"
      },
      "source": [
        "### Question 1\n",
        "\n",
        "Now it's your turn! Based on what we did previously, fill in the missing parts below to build your own QA LLMChain."
      ]
    },
    {
      "cell_type": "code",
      "execution_count": null,
      "metadata": {
        "application/vnd.databricks.v1+cell": {
          "cellMetadata": {
            "byteLimit": 2048000,
            "rowLimit": 10000
          },
          "inputWidgets": {},
          "nuid": "10c7beab-b879-40e7-8449-7c405d6a3516",
          "showTitle": false,
          "title": ""
        },
        "id": "KckHnL23-rb9",
        "outputId": "fd96bc4e-0f8c-4f6e-bb95-36721d5e9f5b"
      },
      "outputs": [
        {
          "output_type": "stream",
          "name": "stderr",
          "text": [
            "Created a chunk of size 6702, which is longer than the specified 1024\n"
          ]
        }
      ],
      "source": [
        "# TODO\n",
        "text_splitter = CharacterTextSplitter(chunk_size=1024, chunk_overlap=256) #hint try chunk sizes of 1024 and an overlap of 256 (this will take approx. 10mins with this model to build our vector database index)\n",
        "texts = text_splitter.split_documents(document)\n",
        "\n",
        "model_name = \"sentence-transformers/all-MiniLM-L6-v2\" #hint, try \"sentence-transformers/all-MiniLM-L6-v2\" as your model\n",
        "embeddings = HuggingFaceEmbeddings(\n",
        "    model_name=model_name, cache_folder=DA.paths.datasets\n",
        ")  # Use a pre-cached model\n",
        "# Finally we make our Index using chromadb and the embeddings LLM\n",
        "chromadb_index = Chroma.from_documents(\n",
        "    texts, embeddings, persist_directory=tmp_laptop_dir.name\n",
        ")"
      ]
    },
    {
      "cell_type": "code",
      "execution_count": null,
      "metadata": {
        "application/vnd.databricks.v1+cell": {
          "cellMetadata": {
            "byteLimit": 2048000,
            "rowLimit": 10000
          },
          "inputWidgets": {},
          "nuid": "3389c530-9227-4a70-b5b8-cdf4669b3300",
          "showTitle": false,
          "title": ""
        },
        "id": "28iEcmq4-rb9",
        "outputId": "a583702f-116d-40c5-fed0-8dfe234fcfcd"
      },
      "outputs": [
        {
          "output_type": "stream",
          "name": "stdout",
          "text": [
            "\u001b[32mPASSED\u001b[0m: All tests passed for lesson3, question1\n\u001b[32mRESULTS RECORDED\u001b[0m: Click `Submit` when all questions are completed to log the results.\n"
          ]
        }
      ],
      "source": [
        "# Test your answer. DO NOT MODIFY THIS CELL.\n",
        "\n",
        "dbTestQuestion3_1(embeddings, chromadb_index)"
      ]
    },
    {
      "cell_type": "markdown",
      "metadata": {
        "application/vnd.databricks.v1+cell": {
          "cellMetadata": {},
          "inputWidgets": {},
          "nuid": "9dd9ce4a-1c78-4f30-b47e-396ddfd30b30",
          "showTitle": false,
          "title": ""
        },
        "id": "WxwddRR1-rb-"
      },
      "source": [
        "### Question 2\n",
        "\n",
        "Let's see if we can do what we did with the laptop reviews.\n",
        "\n",
        "Think about what is likely to happen now. Will this command succeed?\n",
        "\n",
        "(***Hint: think about the maximum sequence length of a model***)"
      ]
    },
    {
      "cell_type": "code",
      "execution_count": null,
      "metadata": {
        "application/vnd.databricks.v1+cell": {
          "cellMetadata": {
            "byteLimit": 2048000,
            "rowLimit": 10000
          },
          "inputWidgets": {},
          "nuid": "900e8aa2-62c8-4299-b49f-65c1b14ca1f6",
          "showTitle": false,
          "title": ""
        },
        "id": "cOCejTRq-rb-",
        "outputId": "01ecc3dd-f69b-4165-ad4f-7f71e586d198"
      },
      "outputs": [
        {
          "output_type": "stream",
          "name": "stderr",
          "text": [
            "/databricks/python/lib/python3.10/site-packages/transformers/generation/utils.py:1259: UserWarning: You have modified the pretrained model configuration to control generation. This is a deprecated strategy to control generation and will be removed soon, in a future version. Please use a generation configuration file (see https://huggingface.co/docs/transformers/main_classes/text_generation)\n  warnings.warn(\n"
          ]
        },
        {
          "output_type": "execute_result",
          "data": {
            "text/plain": [
              "'not enough information'"
            ]
          },
          "execution_count": 26,
          "metadata": {}
        }
      ],
      "source": [
        "# TODO\n",
        "# Let's start with the simplest method: \"Stuff\" which puts all of the data into the prompt and asks a question of it:\n",
        "retriever = chromadb_index.as_retriever()\n",
        "\n",
        "# This chain will be used to do QA on the document. We will need\n",
        "# 1 - A LLM to do the language interpretation\n",
        "# 2 - A vector database that can perform document retrieval\n",
        "# 3 - Specification on how to deal with this data (more on this soon)\n",
        "\n",
        "hf_llm = HuggingFacePipeline.from_model_id(\n",
        "    model_id=\"google/flan-t5-large\",\n",
        "    task=\"text2text-generation\",\n",
        "    model_kwargs={\n",
        "        \"temperature\": 0,\n",
        "        \"max_length\": 128,\n",
        "        \"cache_dir\": DA.paths.datasets,\n",
        "    },\n",
        ")\n",
        "qa = RetrievalQA.from_chain_type(llm = hf_llm, chain_type=\"stuff\", retriever = retriever)\n",
        "query = \"What happens in the play Hamlet?\"\n",
        "# Run the query\n",
        "query_results_hamlet = qa.run(query)\n",
        "\n",
        "query_results_hamlet"
      ]
    },
    {
      "cell_type": "code",
      "execution_count": null,
      "metadata": {
        "application/vnd.databricks.v1+cell": {
          "cellMetadata": {
            "byteLimit": 2048000,
            "rowLimit": 10000
          },
          "inputWidgets": {},
          "nuid": "3c0b8bd6-dbe3-4d61-81b2-1f79a6fd91ea",
          "showTitle": false,
          "title": ""
        },
        "id": "Rjmp1q7r-rb-",
        "outputId": "e0c5d3da-9c84-4b68-d1af-6b9c46a3618e"
      },
      "outputs": [
        {
          "output_type": "stream",
          "name": "stdout",
          "text": [
            "\u001b[32mPASSED\u001b[0m: All tests passed for lesson3, question2\n\u001b[32mRESULTS RECORDED\u001b[0m: Click `Submit` when all questions are completed to log the results.\n"
          ]
        }
      ],
      "source": [
        "# Test your answer. DO NOT MODIFY THIS CELL.\n",
        "\n",
        "dbTestQuestion3_2(qa, query_results_hamlet)"
      ]
    },
    {
      "cell_type": "markdown",
      "metadata": {
        "application/vnd.databricks.v1+cell": {
          "cellMetadata": {},
          "inputWidgets": {},
          "nuid": "2675bc09-4c4d-4530-baf9-6b8b5a4395e7",
          "showTitle": false,
          "title": ""
        },
        "id": "8Mkvsf4d-rb-"
      },
      "source": [
        "### Question 3\n",
        "\n",
        "Now that we're working with larger documents, we should be mindful of the input sequence limitations that our LLM has.\n",
        "\n",
        "Chain Types for document loader:\n",
        "\n",
        "- [`stuff`](https://docs.langchain.com/docs/components/chains/index_related_chains#stuffing) - Stuffing is the simplest method, whereby you simply stuff all the related data into the prompt as context to pass to the language model.\n",
        "- [`map_reduce`](https://docs.langchain.com/docs/components/chains/index_related_chains#map-reduce) - This method involves running an initial prompt on each chunk of data (for summarization tasks, this could be a summary of that chunk; for question-answering tasks, it could be an answer based solely on that chunk).\n",
        "- [`refine`](https://docs.langchain.com/docs/components/chains/index_related_chains#refine) - This method involves running an initial prompt on the first chunk of data, generating some output. For the remaining documents, that output is passed in, along with the next document, asking the LLM to refine the output based on the new document.\n",
        "- [`map_rerank`](https://docs.langchain.com/docs/components/chains/index_related_chains#map-rerank) - This method involves running an initial prompt on each chunk of data, that not only tries to complete a task but also gives a score for how certain it is in its answer. The responses are then ranked according to this score, and the highest score is returned.\n",
        "  * NOTE: For this exercise, `map_rerank` will [error](https://github.com/hwchase17/langchain/issues/3970)."
      ]
    },
    {
      "cell_type": "code",
      "execution_count": null,
      "metadata": {
        "application/vnd.databricks.v1+cell": {
          "cellMetadata": {
            "byteLimit": 2048000,
            "rowLimit": 10000
          },
          "inputWidgets": {},
          "nuid": "12fea722-c3f7-4673-afb7-b20bff874a83",
          "showTitle": false,
          "title": ""
        },
        "id": "ju3Zna-7-rb-",
        "outputId": "46f639ea-ea46-470c-8a6b-74ab2aa8f3c2",
        "colab": {
          "referenced_widgets": [
            "6508521225b54c129b22d78cd018d0d0",
            "98d835ada01f4c23b4c9ad35ba4a27d6",
            "5121ad7c8fd74005a5fd391c1cc30a4d",
            "4eb7b4481f0c436081dd48b16669c4ab",
            "74d3edee03794671a2157a8fba77e448"
          ]
        }
      },
      "outputs": [
        {
          "output_type": "display_data",
          "data": {
            "application/vnd.jupyter.widget-view+json": {
              "model_id": "6508521225b54c129b22d78cd018d0d0",
              "version_major": 2,
              "version_minor": 0
            },
            "text/plain": [
              "Downloading tokenizer_config.json:   0%|          | 0.00/26.0 [00:00<?, ?B/s]"
            ]
          },
          "metadata": {}
        },
        {
          "output_type": "display_data",
          "data": {
            "application/vnd.jupyter.widget-view+json": {
              "model_id": "98d835ada01f4c23b4c9ad35ba4a27d6",
              "version_major": 2,
              "version_minor": 0
            },
            "text/plain": [
              "Downloading vocab.json:   0%|          | 0.00/1.04M [00:00<?, ?B/s]"
            ]
          },
          "metadata": {}
        },
        {
          "output_type": "display_data",
          "data": {
            "application/vnd.jupyter.widget-view+json": {
              "model_id": "5121ad7c8fd74005a5fd391c1cc30a4d",
              "version_major": 2,
              "version_minor": 0
            },
            "text/plain": [
              "Downloading merges.txt:   0%|          | 0.00/456k [00:00<?, ?B/s]"
            ]
          },
          "metadata": {}
        },
        {
          "output_type": "display_data",
          "data": {
            "application/vnd.jupyter.widget-view+json": {
              "model_id": "4eb7b4481f0c436081dd48b16669c4ab",
              "version_major": 2,
              "version_minor": 0
            },
            "text/plain": [
              "Downloading tokenizer.json:   0%|          | 0.00/1.36M [00:00<?, ?B/s]"
            ]
          },
          "metadata": {}
        },
        {
          "output_type": "display_data",
          "data": {
            "application/vnd.jupyter.widget-view+json": {
              "model_id": "74d3edee03794671a2157a8fba77e448",
              "version_major": 2,
              "version_minor": 0
            },
            "text/plain": [
              "Downloading config.json:   0%|          | 0.00/665 [00:00<?, ?B/s]"
            ]
          },
          "metadata": {}
        },
        {
          "output_type": "stream",
          "name": "stderr",
          "text": [
            "Token indices sequence length is longer than the specified maximum sequence length for this model (1554 > 1024). Running this sequence through the model will result in indexing errors\nToken indices sequence length is longer than the specified maximum sequence length for this model (1504 > 512). Running this sequence through the model will result in indexing errors\n"
          ]
        },
        {
          "output_type": "execute_result",
          "data": {
            "text/plain": [
              "'The Raytech Supernova'"
            ]
          },
          "execution_count": 29,
          "metadata": {}
        }
      ],
      "source": [
        "# TODO\n",
        "qa = RetrievalQA.from_chain_type(llm=hf_llm, chain_type=\"map_reduce\", retriever=chromadb_index.as_retriever())\n",
        "query = \"Who is the main character in the Merchant of Venice?\"\n",
        "query_results_venice = qa.run(query)\n",
        "\n",
        "query_results_venice"
      ]
    },
    {
      "cell_type": "code",
      "execution_count": null,
      "metadata": {
        "application/vnd.databricks.v1+cell": {
          "cellMetadata": {
            "byteLimit": 2048000,
            "rowLimit": 10000
          },
          "inputWidgets": {},
          "nuid": "db61ed06-908b-4005-a7d0-c1c183fe0703",
          "showTitle": false,
          "title": ""
        },
        "id": "Pzv_Zw2x-rb-",
        "outputId": "288077be-2181-466c-d727-ac745cfb688f"
      },
      "outputs": [
        {
          "output_type": "stream",
          "name": "stdout",
          "text": [
            "\u001b[32mPASSED\u001b[0m: All tests passed for lesson3, question3\n\u001b[32mRESULTS RECORDED\u001b[0m: Click `Submit` when all questions are completed to log the results.\n"
          ]
        }
      ],
      "source": [
        "# Test your answer. DO NOT MODIFY THIS CELL.\n",
        "\n",
        "dbTestQuestion3_3(qa, query_results_venice)"
      ]
    },
    {
      "cell_type": "markdown",
      "metadata": {
        "application/vnd.databricks.v1+cell": {
          "cellMetadata": {},
          "inputWidgets": {},
          "nuid": "a7d99fbf-6dff-4452-a23f-dba7e3287cd6",
          "showTitle": false,
          "title": ""
        },
        "id": "VwHfct1e-rb-"
      },
      "source": [
        "### Question 4\n"
      ]
    },
    {
      "cell_type": "code",
      "execution_count": null,
      "metadata": {
        "application/vnd.databricks.v1+cell": {
          "cellMetadata": {
            "byteLimit": 2048000,
            "rowLimit": 10000
          },
          "inputWidgets": {},
          "nuid": "921c4628-3c4c-4d21-b1e9-dd88d19f340c",
          "showTitle": false,
          "title": ""
        },
        "id": "wEestpoM-rb_",
        "outputId": "b8b821d5-ed4e-4deb-c25f-c94d9a1279e6"
      },
      "outputs": [
        {
          "output_type": "execute_result",
          "data": {
            "text/plain": [
              "'Romeo and Juliet is a 2015 American romantic comedy film directed by Bruno Barreto and written by Jeremy Silverman. The film stars Gwyneth Paltrow, Christina Applegate, Candice Bergen, and Jennifer Aniston. The film was released on June 20, 2015, by Fox Film Corporation.'"
            ]
          },
          "execution_count": 31,
          "metadata": {}
        }
      ],
      "source": [
        "# TODO\n",
        "# That's much better! Let's try another type\n",
        "\n",
        "qa = RetrievalQA.from_chain_type(llm=hf_llm, chain_type=\"refine\", retriever=chromadb_index.as_retriever())\n",
        "query = \"What happens to romeo and juliet?\"\n",
        "query_results_romeo = qa.run(query)\n",
        "\n",
        "query_results_romeo"
      ]
    },
    {
      "cell_type": "code",
      "execution_count": null,
      "metadata": {
        "application/vnd.databricks.v1+cell": {
          "cellMetadata": {
            "byteLimit": 2048000,
            "rowLimit": 10000
          },
          "inputWidgets": {},
          "nuid": "3c9d24a2-5d6a-4488-a46e-463101e84b41",
          "showTitle": false,
          "title": ""
        },
        "id": "4zI-kkiI-rb_",
        "outputId": "f63b8096-7cf5-4160-b638-a0a11ad33775"
      },
      "outputs": [
        {
          "output_type": "stream",
          "name": "stdout",
          "text": [
            "\u001b[32mPASSED\u001b[0m: All tests passed for lesson3, question4\n\u001b[32mRESULTS RECORDED\u001b[0m: Click `Submit` when all questions are completed to log the results.\n"
          ]
        }
      ],
      "source": [
        "# Test your answer. DO NOT MODIFY THIS CELL.\n",
        "\n",
        "dbTestQuestion3_4(qa, query_results_romeo)"
      ]
    },
    {
      "cell_type": "markdown",
      "metadata": {
        "application/vnd.databricks.v1+cell": {
          "cellMetadata": {},
          "inputWidgets": {},
          "nuid": "53c1b7d9-c737-4a07-9086-017f9591f20a",
          "showTitle": false,
          "title": ""
        },
        "id": "vlHrHESe-rb_"
      },
      "source": [
        "## Submit your Results (edX Verified Only)\n",
        "\n",
        "To get credit for this lab, click the submit button in the top right to report the results. If you run into any issues, click `Run` -> `Clear state and run all`, and make sure all tests have passed before re-submitting. If you accidentally deleted any tests, take a look at the notebook's version history to recover them or reload the notebooks."
      ]
    },
    {
      "cell_type": "code",
      "execution_count": null,
      "metadata": {
        "application/vnd.databricks.v1+cell": {
          "cellMetadata": {},
          "inputWidgets": {},
          "nuid": "1ad501b9-89c0-4aae-af93-842d97b442e3",
          "showTitle": false,
          "title": ""
        },
        "id": "EnTorO79-rb_"
      },
      "outputs": [],
      "source": [
        "tmp_laptop_dir.cleanup()\n",
        "tmp_shakespeare_dir.cleanup()"
      ]
    },
    {
      "cell_type": "markdown",
      "metadata": {
        "application/vnd.databricks.v1+cell": {
          "cellMetadata": {},
          "inputWidgets": {},
          "nuid": "fcaab181-ffee-4c5c-be66-f8c3e8b0a6f2",
          "showTitle": false,
          "title": ""
        },
        "id": "KTbz3h8q-rb_"
      },
      "source": [
        "&copy; 2023 Databricks, Inc. All rights reserved.<br/>\n",
        "Apache, Apache Spark, Spark and the Spark logo are trademarks of the <a href=\"https://www.apache.org/\">Apache Software Foundation</a>.<br/>\n",
        "<br/>\n",
        "<a href=\"https://databricks.com/privacy-policy\">Privacy Policy</a> | <a href=\"https://databricks.com/terms-of-use\">Terms of Use</a> | <a href=\"https://help.databricks.com/\">Support</a>"
      ]
    }
  ],
  "metadata": {
    "application/vnd.databricks.v1+notebook": {
      "dashboards": [],
      "environmentMetadata": null,
      "language": "python",
      "notebookMetadata": {
        "pythonIndentUnit": 2
      },
      "notebookName": "LLM 03L - Building LLM Chains Lab",
      "widgets": {}
    },
    "colab": {
      "provenance": []
    }
  },
  "nbformat": 4,
  "nbformat_minor": 0
}